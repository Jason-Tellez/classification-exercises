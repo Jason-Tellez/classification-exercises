{
 "cells": [
  {
   "cell_type": "code",
   "execution_count": null,
   "id": "9c6d2618",
   "metadata": {},
   "outputs": [],
   "source": [
    "import pandas as pd\n",
    "import matplotlib.pyplot as plt\n",
    "import scipy.stats as stats\n",
    "import seaborn as sns\n",
    "import numpy as np\n",
    "from pydataset import data"
   ]
  },
  {
   "cell_type": "markdown",
   "id": "3fd50daf",
   "metadata": {},
   "source": [
    "# Data Acquisition\n",
    "## 1. In a jupyter notebook, classification_exercises.ipynb, use a python module (pydata or seaborn datasets) containing datasets as a source from the iris data. Create a pandas dataframe, df_iris, from this data."
   ]
  },
  {
   "cell_type": "code",
   "execution_count": null,
   "id": "c7826c79",
   "metadata": {},
   "outputs": [],
   "source": [
    "df_iris = data('iris', show_doc='True')\n",
    "df_iris = data('iris')"
   ]
  },
  {
   "cell_type": "markdown",
   "id": "eee3009a",
   "metadata": {},
   "source": [
    "### a. Print the first 3 rows"
   ]
  },
  {
   "cell_type": "code",
   "execution_count": null,
   "id": "10bea54d",
   "metadata": {
    "scrolled": true
   },
   "outputs": [],
   "source": [
    "df_iris.head(3)"
   ]
  },
  {
   "cell_type": "markdown",
   "id": "281449bc",
   "metadata": {},
   "source": [
    "### b. Print the number of rows and columns (shape)"
   ]
  },
  {
   "cell_type": "code",
   "execution_count": null,
   "id": "ec48c244",
   "metadata": {},
   "outputs": [],
   "source": [
    "df_iris.shape"
   ]
  },
  {
   "cell_type": "markdown",
   "id": "e0855ff2",
   "metadata": {},
   "source": [
    "### c. Print the column names"
   ]
  },
  {
   "cell_type": "code",
   "execution_count": null,
   "id": "9488299d",
   "metadata": {},
   "outputs": [],
   "source": [
    "df_iris.columns"
   ]
  },
  {
   "cell_type": "markdown",
   "id": "cd17cf66",
   "metadata": {},
   "source": [
    "### d. Print the data type of each column"
   ]
  },
  {
   "cell_type": "code",
   "execution_count": null,
   "id": "dee08043",
   "metadata": {},
   "outputs": [],
   "source": [
    "df_iris.dtypes"
   ]
  },
  {
   "cell_type": "markdown",
   "id": "63f5dce8",
   "metadata": {},
   "source": [
    "### e. Print the summary statistics for each of the numeric variables. Would you recommend rescaling the data based on these statistics?"
   ]
  },
  {
   "cell_type": "code",
   "execution_count": null,
   "id": "d65a9c46",
   "metadata": {},
   "outputs": [],
   "source": [
    "df_iris.describe()"
   ]
  },
  {
   "cell_type": "markdown",
   "id": "2c87e42b",
   "metadata": {},
   "source": [
    "I believe rescaling the units to milimeters would beter suit this data since the standard deviations for some of the columns are less than a centimeter."
   ]
  },
  {
   "cell_type": "markdown",
   "id": "620f40a0",
   "metadata": {},
   "source": [
    "# 2. Read the Table1_CustDetails table from the Excel_Exercises.xlsx file into a dataframe named df_excel.\n",
    "\n",
    "### a. Assign the first 100 rows to a new dataframe, df_excel_sample"
   ]
  },
  {
   "cell_type": "code",
   "execution_count": null,
   "id": "20228009",
   "metadata": {},
   "outputs": [],
   "source": [
    "df_excel = pd.read_excel(\"Spreadsheets_Exercises.xlsx\")\n",
    "df_excel_sample = df_excel.loc[0:100:].copy()\n",
    "df_excel_sample"
   ]
  },
  {
   "cell_type": "markdown",
   "id": "50a96a32",
   "metadata": {},
   "source": [
    "### b. Print the number of rows of your original dataframe"
   ]
  },
  {
   "cell_type": "code",
   "execution_count": null,
   "id": "6d8c6287",
   "metadata": {},
   "outputs": [],
   "source": [
    "df_excel.shape[0]"
   ]
  },
  {
   "cell_type": "markdown",
   "id": "154f2e5b",
   "metadata": {},
   "source": [
    "### c. Print the first 5 column names"
   ]
  },
  {
   "cell_type": "code",
   "execution_count": null,
   "id": "8fd90393",
   "metadata": {},
   "outputs": [],
   "source": [
    "df_excel.columns[0:5]"
   ]
  },
  {
   "cell_type": "markdown",
   "id": "01357e0e",
   "metadata": {},
   "source": [
    "### d. Print the column names that have a data type of object"
   ]
  },
  {
   "cell_type": "code",
   "execution_count": null,
   "id": "7230bdef",
   "metadata": {},
   "outputs": [],
   "source": [
    "df_excel.dtypes"
   ]
  },
  {
   "cell_type": "code",
   "execution_count": null,
   "id": "3231e996",
   "metadata": {
    "scrolled": true
   },
   "outputs": [],
   "source": [
    "df_excel.columns[(df_excel.dtypes == 'object')]"
   ]
  },
  {
   "cell_type": "markdown",
   "id": "0cc3e6a6",
   "metadata": {},
   "source": [
    "### e. Compute the range for each of the numeric variables."
   ]
  },
  {
   "cell_type": "code",
   "execution_count": null,
   "id": "fff6cbbb",
   "metadata": {},
   "outputs": [],
   "source": [
    "# Determine columns that are numeric by filtering columns that are object values\n",
    "numerical_columns = [feature for feature in df_excel.columns if df_excel[feature].dtypes != 'object']\n",
    "numerical_columns"
   ]
  },
  {
   "cell_type": "code",
   "execution_count": null,
   "id": "653d0bb2",
   "metadata": {},
   "outputs": [],
   "source": [
    "for i in numerical_columns:\n",
    "    x = df_excel[i].min()\n",
    "    y = df_excel[i].max()\n",
    "    if y <=2:\n",
    "        print(f'({x},{y}): column is categorical.')\n",
    "    else:\n",
    "        print(f'({x},{y}): column is numeric')"
   ]
  },
  {
   "cell_type": "markdown",
   "id": "01cf519a",
   "metadata": {},
   "source": [
    "## 3. Read the data from this google sheet into a dataframe, df_google\n",
    "\n",
    "### a. Print the first 3 rows"
   ]
  },
  {
   "cell_type": "code",
   "execution_count": null,
   "id": "11c8e2f9",
   "metadata": {},
   "outputs": [],
   "source": [
    "sheet_url = 'https://docs.google.com/spreadsheets/d/1Uhtml8KY19LILuZsrDtlsHHDC9wuDGUSe8LTEwvdI5g/edit#gid=341089357'    \n",
    "\n",
    "csv_export_url = sheet_url.replace('/edit#gid=', '/export?format=csv&gid=')\n",
    "\n",
    "df_google = pd.read_csv(csv_export_url)"
   ]
  },
  {
   "cell_type": "code",
   "execution_count": null,
   "id": "87c0b5df",
   "metadata": {},
   "outputs": [],
   "source": [
    "df_google.head(3)"
   ]
  },
  {
   "cell_type": "markdown",
   "id": "f9cca30d",
   "metadata": {},
   "source": [
    "### b. Print the number of rows and columns"
   ]
  },
  {
   "cell_type": "code",
   "execution_count": null,
   "id": "30517c89",
   "metadata": {},
   "outputs": [],
   "source": [
    "df_google.shape"
   ]
  },
  {
   "cell_type": "markdown",
   "id": "a7e12538",
   "metadata": {},
   "source": [
    "### c. Print the column names"
   ]
  },
  {
   "cell_type": "code",
   "execution_count": null,
   "id": "b824ba57",
   "metadata": {},
   "outputs": [],
   "source": [
    "df_google.columns"
   ]
  },
  {
   "cell_type": "markdown",
   "id": "f87c123f",
   "metadata": {},
   "source": [
    "### d. Print the data type of each column"
   ]
  },
  {
   "cell_type": "code",
   "execution_count": null,
   "id": "c103b1db",
   "metadata": {
    "scrolled": true
   },
   "outputs": [],
   "source": [
    "df_google.info()"
   ]
  },
  {
   "cell_type": "markdown",
   "id": "f2427a81",
   "metadata": {},
   "source": []
  },
  {
   "cell_type": "markdown",
   "id": "80f25e4a",
   "metadata": {},
   "source": [
    "### e. Print the summary statistics for each of the numeric variables"
   ]
  },
  {
   "cell_type": "code",
   "execution_count": null,
   "id": "fc43d70c",
   "metadata": {},
   "outputs": [],
   "source": [
    "# Determine columns that are numeric by filtering columns that are object values\n",
    "numerical_columns = [feature for feature in df_google.columns if df_google[feature].dtypes != 'object']\n",
    "numerical_columns"
   ]
  },
  {
   "cell_type": "code",
   "execution_count": null,
   "id": "cdc2a8ed",
   "metadata": {},
   "outputs": [],
   "source": [
    "# Remove numeric columns that are categorical\n",
    "for i in numerical_columns:\n",
    "    x = df_google[i].nunique()\n",
    "    if x <=7:\n",
    "        #Convert numerical columns with categorical info to objects\n",
    "        df_google[i] = df_google[i].astype('object')\n",
    "    else:\n",
    "        print(f'{i} has {x} unique values: column is numeric')"
   ]
  },
  {
   "cell_type": "markdown",
   "id": "5f992ef7",
   "metadata": {},
   "source": [
    "### f. Print the unique values for each of your categorical variables"
   ]
  },
  {
   "cell_type": "code",
   "execution_count": null,
   "id": "bf44d248",
   "metadata": {},
   "outputs": [],
   "source": [
    "categorical_columns = [feature for feature in df_google.columns if df_google[feature].dtypes == 'object']\n",
    "categorical_columns"
   ]
  },
  {
   "cell_type": "code",
   "execution_count": null,
   "id": "6734ac14",
   "metadata": {
    "scrolled": true
   },
   "outputs": [],
   "source": [
    "for i in categorical_columns:\n",
    "    x = df_google[i].nunique()\n",
    "    print(f'Categorical column {i} has {x} unique values')"
   ]
  },
  {
   "cell_type": "markdown",
   "id": "4d3ee3ec",
   "metadata": {},
   "source": [
    "# Prepare Data\n",
    "\n",
    "The end product of this exercise should be the specified functions in a python script named `prepare.py`.\n",
    "Do these in your `classification_exercises.ipynb` first, then transfer to the prepare.py file. \n",
    "\n",
    "This work should all be saved in your local `classification-exercises` repo. Then add, commit, and push your changes.\n",
    "\n",
    "Using the Iris Data:  \n",
    "\n",
    "1. Use the function defined in `acquire.py` to load the iris data.  \n",
    "\n",
    "1. Drop the `species_id` and `measurement_id` columns.  \n",
    "\n",
    "1. Rename the `species_name` column to just `species`.  \n",
    "\n",
    "1. Create dummy variables of the species name. \n",
    "\n",
    "1. Create a function named `prep_iris` that accepts the untransformed iris data, and returns the data with the transformations above applied.  "
   ]
  },
  {
   "cell_type": "code",
   "execution_count": null,
   "id": "cfcff15f",
   "metadata": {},
   "outputs": [],
   "source": [
    "import pandas as pd\n",
    "import numpy as np\n",
    "import matplotlib.pyplot as plt\n",
    "\n",
    "from sklearn.model_selection import train_test_split\n",
    "from sklearn.impute import SimpleImputer\n",
    "\n",
    "import warnings\n",
    "warnings.filterwarnings(\"ignore\")\n",
    "\n",
    "import acquire"
   ]
  },
  {
   "cell_type": "code",
   "execution_count": null,
   "id": "c812dc09",
   "metadata": {},
   "outputs": [],
   "source": [
    "df = acquire.get_iris_data()\n",
    "df"
   ]
  },
  {
   "cell_type": "code",
   "execution_count": null,
   "id": "40d97f04",
   "metadata": {},
   "outputs": [],
   "source": [
    "#measurement was already dropped before importing data\n",
    "df.drop(columns='species_id', inplace=True)"
   ]
  },
  {
   "cell_type": "code",
   "execution_count": null,
   "id": "97ce053a",
   "metadata": {},
   "outputs": [],
   "source": [
    "df.rename(columns={\"species_name\": \"species\"}, inplace=True)"
   ]
  },
  {
   "cell_type": "code",
   "execution_count": null,
   "id": "244e133c",
   "metadata": {},
   "outputs": [],
   "source": [
    "df_dummy = pd.get_dummies(df['species'])\n",
    "df = pd.concat([df_dummy, df], axis=1)\n",
    "df.head()"
   ]
  },
  {
   "cell_type": "code",
   "execution_count": null,
   "id": "a94bc2ce",
   "metadata": {},
   "outputs": [],
   "source": [
    "def prep_iris(df):\n",
    "    \"\"\"\n",
    "    Takes in data from the iris db and turns it into a dataframe.\n",
    "    Drops 'species_id' and 'measurement_id' columns.\n",
    "    Renames the 'species_name' column to 'species'.\n",
    "    Creates dummy variables of species name.\n",
    "    \"\"\"\n",
    "    df.drop(columns=[\"species_id\",\"measurement_id\"], inplace=True)\n",
    "    df.rename(columns={\"species_name\": \"species\"}, inplace=True)\n",
    "    df_dummy = pd.get_dummies(df['species'])\n",
    "    df = pd.concat([df, df_dummy], axis=1)\n",
    "    return df"
   ]
  },
  {
   "cell_type": "code",
   "execution_count": null,
   "id": "36880fc1",
   "metadata": {},
   "outputs": [],
   "source": [
    "prep_iris(df)"
   ]
  }
 ],
 "metadata": {
  "kernelspec": {
   "display_name": "Python 3",
   "language": "python",
   "name": "python3"
  },
  "language_info": {
   "codemirror_mode": {
    "name": "ipython",
    "version": 3
   },
   "file_extension": ".py",
   "mimetype": "text/x-python",
   "name": "python",
   "nbconvert_exporter": "python",
   "pygments_lexer": "ipython3",
   "version": "3.8.8"
  }
 },
 "nbformat": 4,
 "nbformat_minor": 5
}
