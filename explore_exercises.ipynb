{
 "cells": [
  {
   "cell_type": "code",
   "execution_count": 1,
   "id": "34413288",
   "metadata": {},
   "outputs": [],
   "source": [
    "import warnings\n",
    "warnings.filterwarnings(\"ignore\")\n",
    "\n",
    "import pandas as pd\n",
    "import numpy as np\n",
    "import matplotlib.pyplot as plt\n",
    "import seaborn as sns\n",
    "from sklearn.model_selection import train_test_split\n",
    "import scipy\n",
    "import scipy.stats as stats\n",
    "from statistics import stdev\n",
    "\n",
    "import env\n",
    "import explore\n",
    "import acquire\n",
    "import prepare\n",
    "\n",
    "plt.rcParams['figure.figsize'] = (4, 2)"
   ]
  },
  {
   "cell_type": "markdown",
   "id": "7bfcbf0d",
   "metadata": {},
   "source": [
    "Using iris data from our mySQL server and the methods used in the lesson above:\n",
    "\n",
    "## 1. Acquire, prepare & split your data."
   ]
  },
  {
   "cell_type": "markdown",
   "id": "cf8ea83c",
   "metadata": {},
   "source": [
    "Acquire data using acquire.py\n",
    "\n",
    "        Aquires iris data from SQL db and merges measurement and species tables"
   ]
  },
  {
   "cell_type": "code",
   "execution_count": 2,
   "id": "462eec49",
   "metadata": {},
   "outputs": [
    {
     "data": {
      "text/html": [
       "<div>\n",
       "<style scoped>\n",
       "    .dataframe tbody tr th:only-of-type {\n",
       "        vertical-align: middle;\n",
       "    }\n",
       "\n",
       "    .dataframe tbody tr th {\n",
       "        vertical-align: top;\n",
       "    }\n",
       "\n",
       "    .dataframe thead th {\n",
       "        text-align: right;\n",
       "    }\n",
       "</style>\n",
       "<table border=\"1\" class=\"dataframe\">\n",
       "  <thead>\n",
       "    <tr style=\"text-align: right;\">\n",
       "      <th></th>\n",
       "      <th>species_id</th>\n",
       "      <th>measurement_id</th>\n",
       "      <th>sepal_length</th>\n",
       "      <th>sepal_width</th>\n",
       "      <th>petal_length</th>\n",
       "      <th>petal_width</th>\n",
       "      <th>species_name</th>\n",
       "    </tr>\n",
       "  </thead>\n",
       "  <tbody>\n",
       "    <tr>\n",
       "      <th>0</th>\n",
       "      <td>1</td>\n",
       "      <td>1</td>\n",
       "      <td>5.1</td>\n",
       "      <td>3.5</td>\n",
       "      <td>1.4</td>\n",
       "      <td>0.2</td>\n",
       "      <td>setosa</td>\n",
       "    </tr>\n",
       "    <tr>\n",
       "      <th>1</th>\n",
       "      <td>1</td>\n",
       "      <td>2</td>\n",
       "      <td>4.9</td>\n",
       "      <td>3.0</td>\n",
       "      <td>1.4</td>\n",
       "      <td>0.2</td>\n",
       "      <td>setosa</td>\n",
       "    </tr>\n",
       "    <tr>\n",
       "      <th>2</th>\n",
       "      <td>1</td>\n",
       "      <td>3</td>\n",
       "      <td>4.7</td>\n",
       "      <td>3.2</td>\n",
       "      <td>1.3</td>\n",
       "      <td>0.2</td>\n",
       "      <td>setosa</td>\n",
       "    </tr>\n",
       "    <tr>\n",
       "      <th>3</th>\n",
       "      <td>1</td>\n",
       "      <td>4</td>\n",
       "      <td>4.6</td>\n",
       "      <td>3.1</td>\n",
       "      <td>1.5</td>\n",
       "      <td>0.2</td>\n",
       "      <td>setosa</td>\n",
       "    </tr>\n",
       "    <tr>\n",
       "      <th>4</th>\n",
       "      <td>1</td>\n",
       "      <td>5</td>\n",
       "      <td>5.0</td>\n",
       "      <td>3.6</td>\n",
       "      <td>1.4</td>\n",
       "      <td>0.2</td>\n",
       "      <td>setosa</td>\n",
       "    </tr>\n",
       "    <tr>\n",
       "      <th>...</th>\n",
       "      <td>...</td>\n",
       "      <td>...</td>\n",
       "      <td>...</td>\n",
       "      <td>...</td>\n",
       "      <td>...</td>\n",
       "      <td>...</td>\n",
       "      <td>...</td>\n",
       "    </tr>\n",
       "    <tr>\n",
       "      <th>145</th>\n",
       "      <td>3</td>\n",
       "      <td>146</td>\n",
       "      <td>6.7</td>\n",
       "      <td>3.0</td>\n",
       "      <td>5.2</td>\n",
       "      <td>2.3</td>\n",
       "      <td>virginica</td>\n",
       "    </tr>\n",
       "    <tr>\n",
       "      <th>146</th>\n",
       "      <td>3</td>\n",
       "      <td>147</td>\n",
       "      <td>6.3</td>\n",
       "      <td>2.5</td>\n",
       "      <td>5.0</td>\n",
       "      <td>1.9</td>\n",
       "      <td>virginica</td>\n",
       "    </tr>\n",
       "    <tr>\n",
       "      <th>147</th>\n",
       "      <td>3</td>\n",
       "      <td>148</td>\n",
       "      <td>6.5</td>\n",
       "      <td>3.0</td>\n",
       "      <td>5.2</td>\n",
       "      <td>2.0</td>\n",
       "      <td>virginica</td>\n",
       "    </tr>\n",
       "    <tr>\n",
       "      <th>148</th>\n",
       "      <td>3</td>\n",
       "      <td>149</td>\n",
       "      <td>6.2</td>\n",
       "      <td>3.4</td>\n",
       "      <td>5.4</td>\n",
       "      <td>2.3</td>\n",
       "      <td>virginica</td>\n",
       "    </tr>\n",
       "    <tr>\n",
       "      <th>149</th>\n",
       "      <td>3</td>\n",
       "      <td>150</td>\n",
       "      <td>5.9</td>\n",
       "      <td>3.0</td>\n",
       "      <td>5.1</td>\n",
       "      <td>1.8</td>\n",
       "      <td>virginica</td>\n",
       "    </tr>\n",
       "  </tbody>\n",
       "</table>\n",
       "<p>150 rows × 7 columns</p>\n",
       "</div>"
      ],
      "text/plain": [
       "     species_id  measurement_id  sepal_length  sepal_width  petal_length  \\\n",
       "0             1               1           5.1          3.5           1.4   \n",
       "1             1               2           4.9          3.0           1.4   \n",
       "2             1               3           4.7          3.2           1.3   \n",
       "3             1               4           4.6          3.1           1.5   \n",
       "4             1               5           5.0          3.6           1.4   \n",
       "..          ...             ...           ...          ...           ...   \n",
       "145           3             146           6.7          3.0           5.2   \n",
       "146           3             147           6.3          2.5           5.0   \n",
       "147           3             148           6.5          3.0           5.2   \n",
       "148           3             149           6.2          3.4           5.4   \n",
       "149           3             150           5.9          3.0           5.1   \n",
       "\n",
       "     petal_width species_name  \n",
       "0            0.2       setosa  \n",
       "1            0.2       setosa  \n",
       "2            0.2       setosa  \n",
       "3            0.2       setosa  \n",
       "4            0.2       setosa  \n",
       "..           ...          ...  \n",
       "145          2.3    virginica  \n",
       "146          1.9    virginica  \n",
       "147          2.0    virginica  \n",
       "148          2.3    virginica  \n",
       "149          1.8    virginica  \n",
       "\n",
       "[150 rows x 7 columns]"
      ]
     },
     "execution_count": 2,
     "metadata": {},
     "output_type": "execute_result"
    }
   ],
   "source": [
    "df = acquire.get_iris_data()\n",
    "df"
   ]
  },
  {
   "cell_type": "markdown",
   "id": "2ddf1b17",
   "metadata": {},
   "source": [
    "Prep the data using prepare.prep_iris\n",
    "\n",
    "    Takes in data from the iris db and turns it into a dataframe.\n",
    "    Drops 'species_id' and 'measurement_id' columns.\n",
    "    Renames the 'species_name' column to 'species'.\n",
    "    Creates dummy variables of species name."
   ]
  },
  {
   "cell_type": "code",
   "execution_count": 3,
   "id": "9e3cf5fa",
   "metadata": {
    "scrolled": false
   },
   "outputs": [
    {
     "data": {
      "text/html": [
       "<div>\n",
       "<style scoped>\n",
       "    .dataframe tbody tr th:only-of-type {\n",
       "        vertical-align: middle;\n",
       "    }\n",
       "\n",
       "    .dataframe tbody tr th {\n",
       "        vertical-align: top;\n",
       "    }\n",
       "\n",
       "    .dataframe thead th {\n",
       "        text-align: right;\n",
       "    }\n",
       "</style>\n",
       "<table border=\"1\" class=\"dataframe\">\n",
       "  <thead>\n",
       "    <tr style=\"text-align: right;\">\n",
       "      <th></th>\n",
       "      <th>sepal_length</th>\n",
       "      <th>sepal_width</th>\n",
       "      <th>petal_length</th>\n",
       "      <th>petal_width</th>\n",
       "      <th>species</th>\n",
       "    </tr>\n",
       "  </thead>\n",
       "  <tbody>\n",
       "    <tr>\n",
       "      <th>0</th>\n",
       "      <td>5.1</td>\n",
       "      <td>3.5</td>\n",
       "      <td>1.4</td>\n",
       "      <td>0.2</td>\n",
       "      <td>setosa</td>\n",
       "    </tr>\n",
       "    <tr>\n",
       "      <th>1</th>\n",
       "      <td>4.9</td>\n",
       "      <td>3.0</td>\n",
       "      <td>1.4</td>\n",
       "      <td>0.2</td>\n",
       "      <td>setosa</td>\n",
       "    </tr>\n",
       "    <tr>\n",
       "      <th>2</th>\n",
       "      <td>4.7</td>\n",
       "      <td>3.2</td>\n",
       "      <td>1.3</td>\n",
       "      <td>0.2</td>\n",
       "      <td>setosa</td>\n",
       "    </tr>\n",
       "    <tr>\n",
       "      <th>3</th>\n",
       "      <td>4.6</td>\n",
       "      <td>3.1</td>\n",
       "      <td>1.5</td>\n",
       "      <td>0.2</td>\n",
       "      <td>setosa</td>\n",
       "    </tr>\n",
       "    <tr>\n",
       "      <th>4</th>\n",
       "      <td>5.0</td>\n",
       "      <td>3.6</td>\n",
       "      <td>1.4</td>\n",
       "      <td>0.2</td>\n",
       "      <td>setosa</td>\n",
       "    </tr>\n",
       "  </tbody>\n",
       "</table>\n",
       "</div>"
      ],
      "text/plain": [
       "   sepal_length  sepal_width  petal_length  petal_width species\n",
       "0           5.1          3.5           1.4          0.2  setosa\n",
       "1           4.9          3.0           1.4          0.2  setosa\n",
       "2           4.7          3.2           1.3          0.2  setosa\n",
       "3           4.6          3.1           1.5          0.2  setosa\n",
       "4           5.0          3.6           1.4          0.2  setosa"
      ]
     },
     "execution_count": 3,
     "metadata": {},
     "output_type": "execute_result"
    }
   ],
   "source": [
    "df = prepare.prep_iris(df)\n",
    "df = df.drop(columns=['setosa','versicolor','virginica'])\n",
    "df.head()"
   ]
  },
  {
   "cell_type": "code",
   "execution_count": 4,
   "id": "cf30f903",
   "metadata": {},
   "outputs": [
    {
     "name": "stdout",
     "output_type": "stream",
     "text": [
      "<class 'pandas.core.frame.DataFrame'>\n",
      "Int64Index: 150 entries, 0 to 149\n",
      "Data columns (total 5 columns):\n",
      " #   Column        Non-Null Count  Dtype  \n",
      "---  ------        --------------  -----  \n",
      " 0   sepal_length  150 non-null    float64\n",
      " 1   sepal_width   150 non-null    float64\n",
      " 2   petal_length  150 non-null    float64\n",
      " 3   petal_width   150 non-null    float64\n",
      " 4   species       150 non-null    object \n",
      "dtypes: float64(4), object(1)\n",
      "memory usage: 7.0+ KB\n"
     ]
    }
   ],
   "source": [
    "df.info()"
   ]
  },
  {
   "cell_type": "markdown",
   "id": "5339604d",
   "metadata": {},
   "source": [
    "Split the data into train, validate, and test samples"
   ]
  },
  {
   "cell_type": "code",
   "execution_count": 5,
   "id": "61924cee",
   "metadata": {},
   "outputs": [
    {
     "name": "stdout",
     "output_type": "stream",
     "text": [
      "(84, 5) (36, 5) (30, 5)\n"
     ]
    }
   ],
   "source": [
    "train, test = train_test_split(df, \n",
    "                               test_size=.2, \n",
    "                               random_state=123, \n",
    "                               stratify=df.species)\n",
    "\n",
    "train, validate = train_test_split(train, \n",
    "                                   test_size=.3, \n",
    "                                   random_state=123, \n",
    "                                   stratify=train.species)\n",
    "print(train.shape, validate.shape, test.shape)"
   ]
  },
  {
   "cell_type": "markdown",
   "id": "0f61a563",
   "metadata": {},
   "source": [
    "\n"
   ]
  },
  {
   "cell_type": "markdown",
   "id": "908021be",
   "metadata": {},
   "source": [
    "## 2. Univariate Stats\n",
    "\n",
    "- For each measurement type (quantitative variable): create a histogram, boxplot, & compute descriptive statistics (using .describe())."
   ]
  },
  {
   "cell_type": "code",
   "execution_count": 6,
   "id": "50bdbe79",
   "metadata": {},
   "outputs": [],
   "source": [
    "# Create the variables that hold the categorical and quantitative measurements\n",
    "\n",
    "cat_vars = ['setosa','versicolor','virginica']\n",
    "quant_vars = ['sepal_length','sepal_width','petal_length','petal_width']"
   ]
  },
  {
   "cell_type": "code",
   "execution_count": 7,
   "id": "26ecc019",
   "metadata": {},
   "outputs": [
    {
     "data": {
      "image/png": "[encoded data removed]",
      "text/plain": [
       "<Figure size 720x504 with 4 Axes>"
      ]
     },
     "metadata": {
      "needs_background": "light"
     },
     "output_type": "display_data"
    },
    {
     "data": {
      "image/png": "[encoded data removed]",
      "text/plain": [
       "<Figure size 504x504 with 1 Axes>"
      ]
     },
     "metadata": {
      "needs_background": "light"
     },
     "output_type": "display_data"
    },
    {
     "data": {
      "text/html": [
       "<div>\n",
       "<style scoped>\n",
       "    .dataframe tbody tr th:only-of-type {\n",
       "        vertical-align: middle;\n",
       "    }\n",
       "\n",
       "    .dataframe tbody tr th {\n",
       "        vertical-align: top;\n",
       "    }\n",
       "\n",
       "    .dataframe thead th {\n",
       "        text-align: right;\n",
       "    }\n",
       "</style>\n",
       "<table border=\"1\" class=\"dataframe\">\n",
       "  <thead>\n",
       "    <tr style=\"text-align: right;\">\n",
       "      <th></th>\n",
       "      <th>sepal_length</th>\n",
       "      <th>sepal_width</th>\n",
       "      <th>petal_length</th>\n",
       "      <th>petal_width</th>\n",
       "    </tr>\n",
       "  </thead>\n",
       "  <tbody>\n",
       "    <tr>\n",
       "      <th>count</th>\n",
       "      <td>84.000000</td>\n",
       "      <td>84.000000</td>\n",
       "      <td>84.000000</td>\n",
       "      <td>84.000000</td>\n",
       "    </tr>\n",
       "    <tr>\n",
       "      <th>mean</th>\n",
       "      <td>5.870238</td>\n",
       "      <td>3.075000</td>\n",
       "      <td>3.771429</td>\n",
       "      <td>1.203571</td>\n",
       "    </tr>\n",
       "    <tr>\n",
       "      <th>std</th>\n",
       "      <td>0.769099</td>\n",
       "      <td>0.448256</td>\n",
       "      <td>1.734940</td>\n",
       "      <td>0.752577</td>\n",
       "    </tr>\n",
       "    <tr>\n",
       "      <th>min</th>\n",
       "      <td>4.400000</td>\n",
       "      <td>2.200000</td>\n",
       "      <td>1.200000</td>\n",
       "      <td>0.100000</td>\n",
       "    </tr>\n",
       "    <tr>\n",
       "      <th>25%</th>\n",
       "      <td>5.375000</td>\n",
       "      <td>2.800000</td>\n",
       "      <td>1.600000</td>\n",
       "      <td>0.400000</td>\n",
       "    </tr>\n",
       "    <tr>\n",
       "      <th>50%</th>\n",
       "      <td>5.800000</td>\n",
       "      <td>3.000000</td>\n",
       "      <td>4.250000</td>\n",
       "      <td>1.300000</td>\n",
       "    </tr>\n",
       "    <tr>\n",
       "      <th>75%</th>\n",
       "      <td>6.400000</td>\n",
       "      <td>3.400000</td>\n",
       "      <td>5.100000</td>\n",
       "      <td>1.800000</td>\n",
       "    </tr>\n",
       "    <tr>\n",
       "      <th>max</th>\n",
       "      <td>7.900000</td>\n",
       "      <td>4.400000</td>\n",
       "      <td>6.900000</td>\n",
       "      <td>2.500000</td>\n",
       "    </tr>\n",
       "  </tbody>\n",
       "</table>\n",
       "</div>"
      ],
      "text/plain": [
       "       sepal_length  sepal_width  petal_length  petal_width\n",
       "count     84.000000    84.000000     84.000000    84.000000\n",
       "mean       5.870238     3.075000      3.771429     1.203571\n",
       "std        0.769099     0.448256      1.734940     0.752577\n",
       "min        4.400000     2.200000      1.200000     0.100000\n",
       "25%        5.375000     2.800000      1.600000     0.400000\n",
       "50%        5.800000     3.000000      4.250000     1.300000\n",
       "75%        6.400000     3.400000      5.100000     1.800000\n",
       "max        7.900000     4.400000      6.900000     2.500000"
      ]
     },
     "execution_count": 7,
     "metadata": {},
     "output_type": "execute_result"
    }
   ],
   "source": [
    "train[quant_vars].hist(figsize=(10,7))\n",
    "train[quant_vars].plot.box(figsize=(7,7))\n",
    "plt.tight_layout()\n",
    "plt.show()\n",
    "train[quant_vars].describe()"
   ]
  },
  {
   "cell_type": "markdown",
   "id": "4335a962",
   "metadata": {},
   "source": [
    "- For each species (categorical variable): create a frequency table and a bar plot of those frequencies."
   ]
  },
  {
   "cell_type": "code",
   "execution_count": 8,
   "id": "5ae65803",
   "metadata": {},
   "outputs": [
    {
     "data": {
      "text/html": [
       "<div>\n",
       "<style scoped>\n",
       "    .dataframe tbody tr th:only-of-type {\n",
       "        vertical-align: middle;\n",
       "    }\n",
       "\n",
       "    .dataframe tbody tr th {\n",
       "        vertical-align: top;\n",
       "    }\n",
       "\n",
       "    .dataframe thead th {\n",
       "        text-align: right;\n",
       "    }\n",
       "</style>\n",
       "<table border=\"1\" class=\"dataframe\">\n",
       "  <thead>\n",
       "    <tr style=\"text-align: right;\">\n",
       "      <th></th>\n",
       "      <th>petal_length</th>\n",
       "      <th>petal_width</th>\n",
       "      <th>sepal_length</th>\n",
       "      <th>sepal_width</th>\n",
       "    </tr>\n",
       "    <tr>\n",
       "      <th>species</th>\n",
       "      <th></th>\n",
       "      <th></th>\n",
       "      <th></th>\n",
       "      <th></th>\n",
       "    </tr>\n",
       "  </thead>\n",
       "  <tbody>\n",
       "    <tr>\n",
       "      <th>setosa</th>\n",
       "      <td>1.507143</td>\n",
       "      <td>0.275000</td>\n",
       "      <td>5.089286</td>\n",
       "      <td>3.467857</td>\n",
       "    </tr>\n",
       "    <tr>\n",
       "      <th>versicolor</th>\n",
       "      <td>4.271429</td>\n",
       "      <td>1.314286</td>\n",
       "      <td>5.896429</td>\n",
       "      <td>2.796429</td>\n",
       "    </tr>\n",
       "    <tr>\n",
       "      <th>virginica</th>\n",
       "      <td>5.535714</td>\n",
       "      <td>2.021429</td>\n",
       "      <td>6.625000</td>\n",
       "      <td>2.960714</td>\n",
       "    </tr>\n",
       "  </tbody>\n",
       "</table>\n",
       "</div>"
      ],
      "text/plain": [
       "            petal_length  petal_width  sepal_length  sepal_width\n",
       "species                                                         \n",
       "setosa          1.507143     0.275000      5.089286     3.467857\n",
       "versicolor      4.271429     1.314286      5.896429     2.796429\n",
       "virginica       5.535714     2.021429      6.625000     2.960714"
      ]
     },
     "execution_count": 8,
     "metadata": {},
     "output_type": "execute_result"
    }
   ],
   "source": [
    "species_piv = train.pivot_table(columns=train.species).head(4)\n",
    "species_piv.T"
   ]
  },
  {
   "cell_type": "code",
   "execution_count": 9,
   "id": "6770e221",
   "metadata": {},
   "outputs": [
    {
     "data": {
      "text/plain": [
       "(array([0, 1, 2, 3]),\n",
       " [Text(0, 0, 'petal_length'),\n",
       "  Text(1, 0, 'petal_width'),\n",
       "  Text(2, 0, 'sepal_length'),\n",
       "  Text(3, 0, 'sepal_width')])"
      ]
     },
     "execution_count": 9,
     "metadata": {},
     "output_type": "execute_result"
    },
    {
     "data": {
      "image/png": "[encoded data removed]",
      "text/plain": [
       "<Figure size 720x504 with 1 Axes>"
      ]
     },
     "metadata": {
      "needs_background": "light"
     },
     "output_type": "display_data"
    }
   ],
   "source": [
    "# The bar plot\n",
    "species_piv.plot.bar(figsize=(10,7))\n",
    "plt.ylabel('Length in cm')\n",
    "plt.xticks(rotation=0)"
   ]
  },
  {
   "cell_type": "markdown",
   "id": "487d44bf",
   "metadata": {},
   "source": [
    "- Document takeaways & any actions.\n",
    "\n",
    "> On average, setosa  has the smallest measurements, followed by versicolor, then virginica (all measurements except sepal width)\n",
    "\n",
    "> Sepal width does not appear to be a good inidicator of iris species.\n",
    "\n",
    "> Petal length appears to be the most reliable indicartor of species.\n"
   ]
  },
  {
   "cell_type": "markdown",
   "id": "2bb3b445",
   "metadata": {},
   "source": [
    "\n"
   ]
  },
  {
   "cell_type": "markdown",
   "id": "bd88f23b",
   "metadata": {},
   "source": [
    "## 3. Bivariate Stats\n",
    "\n",
    "- Visualize each measurement type (y-axis) with the species variable (x-axis) using barplots, adding a horizontal line showing the overall mean of the metric (y-axis)."
   ]
  },
  {
   "cell_type": "code",
   "execution_count": 10,
   "id": "f84b9112",
   "metadata": {},
   "outputs": [
    {
     "data": {
      "text/plain": [
       "<function matplotlib.pyplot.show(close=None, block=None)>"
      ]
     },
     "execution_count": 10,
     "metadata": {},
     "output_type": "execute_result"
    },
    {
     "data": {
      "image/png": "[encoded data removed]",
      "text/plain": [
       "<Figure size 1224x432 with 4 Axes>"
      ]
     },
     "metadata": {
      "needs_background": "light"
     },
     "output_type": "display_data"
    }
   ],
   "source": [
    "fig, axes = plt.subplots(nrows=1, ncols=4, figsize=(17, 6), sharex=True)\n",
    "sns.color_palette(\"tab10\")\n",
    "fig.suptitle('Iris Species vs. Measurements')\n",
    "\n",
    "sns.barplot(ax=axes[0], y='petal_width', x='species', data=train)\n",
    "axes[0].axhline(train.petal_width.mean(), color='black')\n",
    "axes[0].annotate(f'mean = {round(train.petal_width.mean(), 4)}', xy=(1, train.petal_width.mean()), xytext=(0, 1.75),\n",
    "             arrowprops={'facecolor': 'blue'})\n",
    "\n",
    "sns.barplot(ax=axes[1], y='petal_length', x='species', data=train)\n",
    "axes[1].axhline(train.petal_length.mean(), color='black')\n",
    "axes[1].annotate(f'mean = {round(train.petal_length.mean(), 4)}', xy=(1, train.petal_length.mean()), xytext=(0, 5),\n",
    "             arrowprops={'facecolor': 'blue'})\n",
    "\n",
    "sns.barplot(ax=axes[2], y='sepal_width', x='species', data=train)\n",
    "axes[2].axhline(train.sepal_width.mean(), color='black')\n",
    "axes[2].annotate(f'mean = {round(train.sepal_width.mean(), 4)}', xy=(0, train.sepal_width.mean()), xytext=(-0.25, 3.6),\n",
    "             arrowprops={'facecolor': 'blue'})\n",
    "\n",
    "sns.barplot(ax=axes[3], y='sepal_length', x='species', data=train)\n",
    "axes[3].axhline(train.sepal_length.mean(), color='black')\n",
    "axes[3].annotate(f'mean = {round(train.sepal_length.mean(), 4)}', xy=(1, train.sepal_length.mean()), xytext=(0, 6.5),\n",
    "             arrowprops={'facecolor': 'blue'})\n",
    "\n",
    "plt.tight_layout()\n",
    "plt.show"
   ]
  },
  {
   "cell_type": "markdown",
   "id": "07f1aa93",
   "metadata": {},
   "source": [
    "- For each measurement type, compute the descriptive statistics for each species."
   ]
  },
  {
   "cell_type": "code",
   "execution_count": 11,
   "id": "4058a2ba",
   "metadata": {},
   "outputs": [
    {
     "data": {
      "text/html": [
       "<div>\n",
       "<style scoped>\n",
       "    .dataframe tbody tr th:only-of-type {\n",
       "        vertical-align: middle;\n",
       "    }\n",
       "\n",
       "    .dataframe tbody tr th {\n",
       "        vertical-align: top;\n",
       "    }\n",
       "\n",
       "    .dataframe thead th {\n",
       "        text-align: right;\n",
       "    }\n",
       "</style>\n",
       "<table border=\"1\" class=\"dataframe\">\n",
       "  <thead>\n",
       "    <tr style=\"text-align: right;\">\n",
       "      <th></th>\n",
       "      <th>sepal_length</th>\n",
       "      <th>sepal_width</th>\n",
       "      <th>petal_length</th>\n",
       "      <th>petal_width</th>\n",
       "      <th>species</th>\n",
       "    </tr>\n",
       "  </thead>\n",
       "  <tbody>\n",
       "    <tr>\n",
       "      <th>79</th>\n",
       "      <td>5.7</td>\n",
       "      <td>2.6</td>\n",
       "      <td>3.5</td>\n",
       "      <td>1.0</td>\n",
       "      <td>versicolor</td>\n",
       "    </tr>\n",
       "    <tr>\n",
       "      <th>36</th>\n",
       "      <td>5.5</td>\n",
       "      <td>3.5</td>\n",
       "      <td>1.3</td>\n",
       "      <td>0.2</td>\n",
       "      <td>setosa</td>\n",
       "    </tr>\n",
       "    <tr>\n",
       "      <th>133</th>\n",
       "      <td>6.3</td>\n",
       "      <td>2.8</td>\n",
       "      <td>5.1</td>\n",
       "      <td>1.5</td>\n",
       "      <td>virginica</td>\n",
       "    </tr>\n",
       "    <tr>\n",
       "      <th>95</th>\n",
       "      <td>5.7</td>\n",
       "      <td>3.0</td>\n",
       "      <td>4.2</td>\n",
       "      <td>1.2</td>\n",
       "      <td>versicolor</td>\n",
       "    </tr>\n",
       "    <tr>\n",
       "      <th>18</th>\n",
       "      <td>5.7</td>\n",
       "      <td>3.8</td>\n",
       "      <td>1.7</td>\n",
       "      <td>0.3</td>\n",
       "      <td>setosa</td>\n",
       "    </tr>\n",
       "    <tr>\n",
       "      <th>...</th>\n",
       "      <td>...</td>\n",
       "      <td>...</td>\n",
       "      <td>...</td>\n",
       "      <td>...</td>\n",
       "      <td>...</td>\n",
       "    </tr>\n",
       "    <tr>\n",
       "      <th>11</th>\n",
       "      <td>4.8</td>\n",
       "      <td>3.4</td>\n",
       "      <td>1.6</td>\n",
       "      <td>0.2</td>\n",
       "      <td>setosa</td>\n",
       "    </tr>\n",
       "    <tr>\n",
       "      <th>85</th>\n",
       "      <td>6.0</td>\n",
       "      <td>3.4</td>\n",
       "      <td>4.5</td>\n",
       "      <td>1.6</td>\n",
       "      <td>versicolor</td>\n",
       "    </tr>\n",
       "    <tr>\n",
       "      <th>55</th>\n",
       "      <td>5.7</td>\n",
       "      <td>2.8</td>\n",
       "      <td>4.5</td>\n",
       "      <td>1.3</td>\n",
       "      <td>versicolor</td>\n",
       "    </tr>\n",
       "    <tr>\n",
       "      <th>44</th>\n",
       "      <td>5.1</td>\n",
       "      <td>3.8</td>\n",
       "      <td>1.9</td>\n",
       "      <td>0.4</td>\n",
       "      <td>setosa</td>\n",
       "    </tr>\n",
       "    <tr>\n",
       "      <th>73</th>\n",
       "      <td>6.1</td>\n",
       "      <td>2.8</td>\n",
       "      <td>4.7</td>\n",
       "      <td>1.2</td>\n",
       "      <td>versicolor</td>\n",
       "    </tr>\n",
       "  </tbody>\n",
       "</table>\n",
       "<p>84 rows × 5 columns</p>\n",
       "</div>"
      ],
      "text/plain": [
       "     sepal_length  sepal_width  petal_length  petal_width     species\n",
       "79            5.7          2.6           3.5          1.0  versicolor\n",
       "36            5.5          3.5           1.3          0.2      setosa\n",
       "133           6.3          2.8           5.1          1.5   virginica\n",
       "95            5.7          3.0           4.2          1.2  versicolor\n",
       "18            5.7          3.8           1.7          0.3      setosa\n",
       "..            ...          ...           ...          ...         ...\n",
       "11            4.8          3.4           1.6          0.2      setosa\n",
       "85            6.0          3.4           4.5          1.6  versicolor\n",
       "55            5.7          2.8           4.5          1.3  versicolor\n",
       "44            5.1          3.8           1.9          0.4      setosa\n",
       "73            6.1          2.8           4.7          1.2  versicolor\n",
       "\n",
       "[84 rows x 5 columns]"
      ]
     },
     "execution_count": 11,
     "metadata": {},
     "output_type": "execute_result"
    }
   ],
   "source": [
    "train"
   ]
  },
  {
   "cell_type": "code",
   "execution_count": 12,
   "id": "5792ef1c",
   "metadata": {},
   "outputs": [
    {
     "name": "stdout",
     "output_type": "stream",
     "text": [
      "Setosa\n",
      "       sepal_length  sepal_width  petal_length  petal_width\n",
      "count     28.000000    28.000000     28.000000     28.00000\n",
      "mean       5.089286     3.467857      1.507143      0.27500\n",
      "std        0.360390     0.427788      0.184448      0.12057\n",
      "min        4.400000     2.300000      1.200000      0.10000\n",
      "25%        4.875000     3.275000      1.400000      0.20000\n",
      "50%        5.000000     3.400000      1.500000      0.20000\n",
      "75%        5.400000     3.800000      1.600000      0.40000\n",
      "max        5.800000     4.400000      1.900000      0.60000\n"
     ]
    }
   ],
   "source": [
    "print('Setosa')\n",
    "print(train[train.species=='setosa'].describe())"
   ]
  },
  {
   "cell_type": "code",
   "execution_count": 13,
   "id": "249a2c5f",
   "metadata": {},
   "outputs": [
    {
     "name": "stdout",
     "output_type": "stream",
     "text": [
      "Versicolor\n",
      "       sepal_length  sepal_width  petal_length  petal_width\n",
      "count     28.000000    28.000000     28.000000    28.000000\n",
      "mean       5.896429     2.796429      4.271429     1.314286\n",
      "std        0.425556     0.280848      0.409930     0.199470\n",
      "min        4.900000     2.300000      3.300000     1.000000\n",
      "25%        5.600000     2.600000      4.000000     1.200000\n",
      "50%        5.800000     2.800000      4.250000     1.300000\n",
      "75%        6.125000     3.000000      4.525000     1.500000\n",
      "max        6.900000     3.400000      5.100000     1.800000\n"
     ]
    }
   ],
   "source": [
    "print('Versicolor')\n",
    "print(train[train.species=='versicolor'].describe())"
   ]
  },
  {
   "cell_type": "code",
   "execution_count": 14,
   "id": "5426c2d6",
   "metadata": {},
   "outputs": [
    {
     "name": "stdout",
     "output_type": "stream",
     "text": [
      "Virginica\n",
      "       sepal_length  sepal_width  petal_length  petal_width\n",
      "count     28.000000    28.000000     28.000000    28.000000\n",
      "mean       6.625000     2.960714      5.535714     2.021429\n",
      "std        0.532378     0.318956      0.496815     0.293582\n",
      "min        5.800000     2.200000      4.800000     1.500000\n",
      "25%        6.300000     2.800000      5.100000     1.800000\n",
      "50%        6.450000     3.000000      5.500000     2.000000\n",
      "75%        6.900000     3.100000      5.800000     2.300000\n",
      "max        7.900000     3.800000      6.900000     2.500000\n"
     ]
    }
   ],
   "source": [
    "print('Virginica')\n",
    "print(train[train.species=='virginica'].describe())"
   ]
  },
  {
   "cell_type": "markdown",
   "id": "f30e2222",
   "metadata": {},
   "source": [
    "- For virginica & versicolor: Compare the mean petal_width using the Mann-Whitney test (scipy.stats.mannwhitneyu) to see if there is a significant difference between the two groups. Do the same for the other measurement types."
   ]
  },
  {
   "cell_type": "markdown",
   "id": "64f99ffe",
   "metadata": {},
   "source": [
    "$H_{0}$: There is no significant difference in the measurements of the virginica and versicolor.\n",
    "\n",
    "$H_{a}$: There is a significant difference in the measurements of the virginica and versicolor."
   ]
  },
  {
   "cell_type": "code",
   "execution_count": 15,
   "id": "9c4e6eeb",
   "metadata": {},
   "outputs": [],
   "source": [
    "alpha = 0.5"
   ]
  },
  {
   "cell_type": "code",
   "execution_count": 16,
   "id": "a0647e32",
   "metadata": {},
   "outputs": [
    {
     "name": "stdout",
     "output_type": "stream",
     "text": [
      "For sepal_length:\n",
      "statistic = 107.5, p = 1.541014598267054e-06\n",
      "We reject H_(0)\n",
      "\n",
      "For sepal_width:\n",
      "statistic = 274.0, p = 0.026286295699228482\n",
      "We reject H_(0)\n",
      "\n",
      "For petal_length:\n",
      "statistic = 7.5, p = 1.4739917857575313e-10\n",
      "We reject H_(0)\n",
      "\n",
      "For petal_width:\n",
      "statistic = 17.0, p = 3.235595834904965e-10\n",
      "We reject H_(0)\n",
      "\n"
     ]
    }
   ],
   "source": [
    "for i in train[quant_vars]:\n",
    "    x = train[i][train.species=='virginica']\n",
    "    y = train[i][train.species=='versicolor']\n",
    "    statistic, p = stats.mannwhitneyu(x, y)\n",
    "    print(f'For {i}:')\n",
    "    print(f'statistic = {statistic}, p = {p}')\n",
    "    if p < alpha:\n",
    "        print(\"We reject H_(0)\")\n",
    "    else:\n",
    "        print(\"We fail to reject H_(0)\")\n",
    "    print()"
   ]
  },
  {
   "cell_type": "markdown",
   "id": "3dc850b9",
   "metadata": {},
   "source": [
    "- Document takeaways & any actions."
   ]
  },
  {
   "cell_type": "markdown",
   "id": "e6ea2035",
   "metadata": {},
   "source": [
    ">From the Mann-Whitney test, we saw that there is a significant difference in all measurements among the viginica and versicolor species.\n",
    ">\n",
    ">From the bar plots, we saw that, in general, virginicas are larger overall than versicolors."
   ]
  },
  {
   "cell_type": "markdown",
   "id": "a06e66f5",
   "metadata": {},
   "source": [
    "\n"
   ]
  },
  {
   "cell_type": "markdown",
   "id": "ddadc68b",
   "metadata": {},
   "source": [
    "## 4. Multivariate Stats\n",
    "\n",
    "- Visualize the interaction of each measurement type with the others using a pairplot (or scatter matrix or something similar) and add color to represent species."
   ]
  },
  {
   "cell_type": "code",
   "execution_count": 17,
   "id": "c6a1530d",
   "metadata": {},
   "outputs": [
    {
     "data": {
      "text/html": [
       "<div>\n",
       "<style scoped>\n",
       "    .dataframe tbody tr th:only-of-type {\n",
       "        vertical-align: middle;\n",
       "    }\n",
       "\n",
       "    .dataframe tbody tr th {\n",
       "        vertical-align: top;\n",
       "    }\n",
       "\n",
       "    .dataframe thead th {\n",
       "        text-align: right;\n",
       "    }\n",
       "</style>\n",
       "<table border=\"1\" class=\"dataframe\">\n",
       "  <thead>\n",
       "    <tr style=\"text-align: right;\">\n",
       "      <th></th>\n",
       "      <th>sepal_length</th>\n",
       "      <th>sepal_width</th>\n",
       "      <th>petal_length</th>\n",
       "      <th>petal_width</th>\n",
       "    </tr>\n",
       "  </thead>\n",
       "  <tbody>\n",
       "    <tr>\n",
       "      <th>sepal_length</th>\n",
       "      <td>1.000000</td>\n",
       "      <td>-0.154904</td>\n",
       "      <td>0.867976</td>\n",
       "      <td>0.824691</td>\n",
       "    </tr>\n",
       "    <tr>\n",
       "      <th>sepal_width</th>\n",
       "      <td>-0.154904</td>\n",
       "      <td>1.000000</td>\n",
       "      <td>-0.476228</td>\n",
       "      <td>-0.403306</td>\n",
       "    </tr>\n",
       "    <tr>\n",
       "      <th>petal_length</th>\n",
       "      <td>0.867976</td>\n",
       "      <td>-0.476228</td>\n",
       "      <td>1.000000</td>\n",
       "      <td>0.957345</td>\n",
       "    </tr>\n",
       "    <tr>\n",
       "      <th>petal_width</th>\n",
       "      <td>0.824691</td>\n",
       "      <td>-0.403306</td>\n",
       "      <td>0.957345</td>\n",
       "      <td>1.000000</td>\n",
       "    </tr>\n",
       "  </tbody>\n",
       "</table>\n",
       "</div>"
      ],
      "text/plain": [
       "              sepal_length  sepal_width  petal_length  petal_width\n",
       "sepal_length      1.000000    -0.154904      0.867976     0.824691\n",
       "sepal_width      -0.154904     1.000000     -0.476228    -0.403306\n",
       "petal_length      0.867976    -0.476228      1.000000     0.957345\n",
       "petal_width       0.824691    -0.403306      0.957345     1.000000"
      ]
     },
     "execution_count": 17,
     "metadata": {},
     "output_type": "execute_result"
    }
   ],
   "source": [
    "train.corr()"
   ]
  },
  {
   "cell_type": "code",
   "execution_count": 18,
   "id": "9e7f708a",
   "metadata": {},
   "outputs": [
    {
     "data": {
      "text/plain": [
       "<seaborn.axisgrid.PairGrid at 0x7f990d61ea60>"
      ]
     },
     "execution_count": 18,
     "metadata": {},
     "output_type": "execute_result"
    },
    {
     "data": {
      "image/png": "[encoded data removed]",
      "text/plain": [
       "<Figure size 804.75x720 with 14 Axes>"
      ]
     },
     "metadata": {
      "needs_background": "light"
     },
     "output_type": "display_data"
    }
   ],
   "source": [
    "sns.pairplot(train, hue='species', corner=True)"
   ]
  },
  {
   "cell_type": "markdown",
   "id": "8662ab47",
   "metadata": {},
   "source": [
    "- Create a swarmplot using a melted dataframe of all your numeric variables. The x-axis should be the variable name, the y-axis the measure. Add another dimension using color to represent species. Document takeaways from this visualization."
   ]
  },
  {
   "cell_type": "code",
   "execution_count": 19,
   "id": "cf661344",
   "metadata": {},
   "outputs": [
    {
     "data": {
      "text/html": [
       "<div>\n",
       "<style scoped>\n",
       "    .dataframe tbody tr th:only-of-type {\n",
       "        vertical-align: middle;\n",
       "    }\n",
       "\n",
       "    .dataframe tbody tr th {\n",
       "        vertical-align: top;\n",
       "    }\n",
       "\n",
       "    .dataframe thead th {\n",
       "        text-align: right;\n",
       "    }\n",
       "</style>\n",
       "<table border=\"1\" class=\"dataframe\">\n",
       "  <thead>\n",
       "    <tr style=\"text-align: right;\">\n",
       "      <th></th>\n",
       "      <th>species</th>\n",
       "      <th>measure</th>\n",
       "      <th>measurement</th>\n",
       "    </tr>\n",
       "  </thead>\n",
       "  <tbody>\n",
       "    <tr>\n",
       "      <th>0</th>\n",
       "      <td>versicolor</td>\n",
       "      <td>sepal_length</td>\n",
       "      <td>5.7</td>\n",
       "    </tr>\n",
       "    <tr>\n",
       "      <th>1</th>\n",
       "      <td>setosa</td>\n",
       "      <td>sepal_length</td>\n",
       "      <td>5.5</td>\n",
       "    </tr>\n",
       "    <tr>\n",
       "      <th>2</th>\n",
       "      <td>virginica</td>\n",
       "      <td>sepal_length</td>\n",
       "      <td>6.3</td>\n",
       "    </tr>\n",
       "    <tr>\n",
       "      <th>3</th>\n",
       "      <td>versicolor</td>\n",
       "      <td>sepal_length</td>\n",
       "      <td>5.7</td>\n",
       "    </tr>\n",
       "    <tr>\n",
       "      <th>4</th>\n",
       "      <td>setosa</td>\n",
       "      <td>sepal_length</td>\n",
       "      <td>5.7</td>\n",
       "    </tr>\n",
       "    <tr>\n",
       "      <th>...</th>\n",
       "      <td>...</td>\n",
       "      <td>...</td>\n",
       "      <td>...</td>\n",
       "    </tr>\n",
       "    <tr>\n",
       "      <th>331</th>\n",
       "      <td>setosa</td>\n",
       "      <td>petal_width</td>\n",
       "      <td>0.2</td>\n",
       "    </tr>\n",
       "    <tr>\n",
       "      <th>332</th>\n",
       "      <td>versicolor</td>\n",
       "      <td>petal_width</td>\n",
       "      <td>1.6</td>\n",
       "    </tr>\n",
       "    <tr>\n",
       "      <th>333</th>\n",
       "      <td>versicolor</td>\n",
       "      <td>petal_width</td>\n",
       "      <td>1.3</td>\n",
       "    </tr>\n",
       "    <tr>\n",
       "      <th>334</th>\n",
       "      <td>setosa</td>\n",
       "      <td>petal_width</td>\n",
       "      <td>0.4</td>\n",
       "    </tr>\n",
       "    <tr>\n",
       "      <th>335</th>\n",
       "      <td>versicolor</td>\n",
       "      <td>petal_width</td>\n",
       "      <td>1.2</td>\n",
       "    </tr>\n",
       "  </tbody>\n",
       "</table>\n",
       "<p>336 rows × 3 columns</p>\n",
       "</div>"
      ],
      "text/plain": [
       "        species       measure  measurement\n",
       "0    versicolor  sepal_length          5.7\n",
       "1        setosa  sepal_length          5.5\n",
       "2     virginica  sepal_length          6.3\n",
       "3    versicolor  sepal_length          5.7\n",
       "4        setosa  sepal_length          5.7\n",
       "..          ...           ...          ...\n",
       "331      setosa   petal_width          0.2\n",
       "332  versicolor   petal_width          1.6\n",
       "333  versicolor   petal_width          1.3\n",
       "334      setosa   petal_width          0.4\n",
       "335  versicolor   petal_width          1.2\n",
       "\n",
       "[336 rows x 3 columns]"
      ]
     },
     "execution_count": 19,
     "metadata": {},
     "output_type": "execute_result"
    }
   ],
   "source": [
    "train_melt = pd.melt(train, \n",
    "                  id_vars='species', \n",
    "                  value_vars=train[quant_vars],\n",
    "                  var_name='measure', \n",
    "                  value_name='measurement')\n",
    "train_melt"
   ]
  },
  {
   "cell_type": "code",
   "execution_count": 20,
   "id": "e74bcbee",
   "metadata": {
    "scrolled": true
   },
   "outputs": [
    {
     "data": {
      "image/png": "[encoded data removed]",
      "text/plain": [
       "<Figure size 1080x360 with 3 Axes>"
      ]
     },
     "metadata": {
      "needs_background": "light"
     },
     "output_type": "display_data"
    }
   ],
   "source": [
    "fig, axes = plt.subplots(1, 3, figsize=(15, 5), sharey=True)\n",
    "sns.color_palette(\"tab10\")\n",
    "fig.suptitle(\"Species Measurements in cm\")\n",
    "\n",
    "sns.swarmplot(ax=axes[0], data=train_melt[train_melt.species=='setosa'], x='measure', y='measurement').set(title='setosa')\n",
    "\n",
    "sns.swarmplot(ax=axes[1], data=train_melt[train_melt.species=='virginica'], x='measure', y='measurement').set(title='virginica')\n",
    "\n",
    "sns.swarmplot(ax=axes[2], data=train_melt[train_melt.species=='versicolor'], x='measure', y='measurement').set(title='versicolor')\n",
    "\n",
    "plt.tight_layout()"
   ]
  },
  {
   "cell_type": "markdown",
   "id": "5119aeca",
   "metadata": {},
   "source": [
    "**Takeaways**"
   ]
  },
  {
   "cell_type": "markdown",
   "id": "8cb7fb1f",
   "metadata": {},
   "source": [
    ">Setosa's will typically be the smallest of all plant\n",
    ">\n",
    ">Virginica and versicolor's have similar patterns in terms of measures\n",
    ">\n",
    ">Differentiating between species using only speal width would be dificult to accomplish"
   ]
  },
  {
   "cell_type": "markdown",
   "id": "a53b65e0",
   "metadata": {},
   "source": [
    "- Ask a specific question of the data, such as: is the sepal area signficantly different in virginica compared to setosa? Answer the question through both a plot and using a mann-whitney or t-test. If you use a t-test, be sure assumptions are met (independence, normality, equal variance)."
   ]
  },
  {
   "cell_type": "markdown",
   "id": "3fc2c967",
   "metadata": {},
   "source": [
    "**Estalblish the Hypothesis**\n",
    "\n",
    "$H_{0}$:The mean petal lengths of the setosa and versicolor have no significant difference.\n",
    "\n",
    "$H_{a}$: The mean petal length of the setosa is significantly different from the mean petal versicolor."
   ]
  },
  {
   "cell_type": "markdown",
   "id": "325cbfea",
   "metadata": {},
   "source": [
    "**Significance Level**"
   ]
  },
  {
   "cell_type": "code",
   "execution_count": 21,
   "id": "30b34811",
   "metadata": {},
   "outputs": [],
   "source": [
    "alpha = 0.5"
   ]
  },
  {
   "cell_type": "markdown",
   "id": "4b67725a",
   "metadata": {},
   "source": [
    "**Verify Assumptions**"
   ]
  },
  {
   "cell_type": "code",
   "execution_count": 22,
   "id": "f30ea80a",
   "metadata": {},
   "outputs": [],
   "source": [
    "setosa_iris = train_melt[(train_melt.species=='setosa') & (train_melt.measure=='petal_length')].measurement\n",
    "versicolor_iris = train_melt[(train_melt.species=='versicolor') & (train_melt.measure=='petal_length')].measurement"
   ]
  },
  {
   "cell_type": "code",
   "execution_count": 23,
   "id": "9e39bd42",
   "metadata": {},
   "outputs": [
    {
     "data": {
      "text/plain": [
       "1.5071428571428573"
      ]
     },
     "execution_count": 23,
     "metadata": {},
     "output_type": "execute_result"
    }
   ],
   "source": [
    "setosa_iris.mean()"
   ]
  },
  {
   "cell_type": "code",
   "execution_count": 24,
   "id": "504af21c",
   "metadata": {},
   "outputs": [
    {
     "name": "stdout",
     "output_type": "stream",
     "text": [
      "0.18444826922788954\n"
     ]
    }
   ],
   "source": [
    "setosa_mean = setosa_iris.mean()\n",
    "set_std = stdev(setosa_iris)\n",
    "print(set_std)"
   ]
  },
  {
   "cell_type": "code",
   "execution_count": 25,
   "id": "316be0ac",
   "metadata": {},
   "outputs": [
    {
     "name": "stdout",
     "output_type": "stream",
     "text": [
      "0.4099296623108994\n"
     ]
    }
   ],
   "source": [
    "versicolor_mean = versicolor_iris.mean()\n",
    "ver_std = stdev(versicolor_iris)\n",
    "print(ver_std)"
   ]
  },
  {
   "cell_type": "code",
   "execution_count": 26,
   "id": "012822bd",
   "metadata": {},
   "outputs": [
    {
     "name": "stdout",
     "output_type": "stream",
     "text": [
      "0.03402116402116402\n",
      "0.16804232804232802\n"
     ]
    }
   ],
   "source": [
    "set_var = setosa_iris.var()\n",
    "print(set_var)\n",
    "ver_var = versicolor_iris.var()\n",
    "print(ver_var)"
   ]
  },
  {
   "cell_type": "markdown",
   "id": "2f785449",
   "metadata": {},
   "source": [
    "- Since the measurements are from different species, they are independent of the other.\n",
    "\n",
    "- Each species has more than 30 observations\n",
    "\n",
    "- The variances of the species' petal lengths are not even"
   ]
  },
  {
   "cell_type": "markdown",
   "id": "4fa085ae",
   "metadata": {},
   "source": [
    "**Compute the Statistic**"
   ]
  },
  {
   "cell_type": "code",
   "execution_count": 27,
   "id": "f6b5465d",
   "metadata": {},
   "outputs": [
    {
     "data": {
      "text/plain": [
       "(17.0, 3.235595834904965e-10)"
      ]
     },
     "execution_count": 27,
     "metadata": {},
     "output_type": "execute_result"
    }
   ],
   "source": [
    "statistic, p = stats.mannwhitneyu(x, y)\n",
    "statistic, p"
   ]
  },
  {
   "cell_type": "markdown",
   "id": "96b25ca3",
   "metadata": {},
   "source": [
    "**Decide**"
   ]
  },
  {
   "cell_type": "code",
   "execution_count": 28,
   "id": "3fcb6473",
   "metadata": {},
   "outputs": [
    {
     "name": "stdout",
     "output_type": "stream",
     "text": [
      "Is p < alpha? \n",
      "True\n",
      "We reject $H_{0}$\n"
     ]
    }
   ],
   "source": [
    "print(f\"Is p < alpha? \\n{p < alpha}\")\n",
    "if p > alpha:\n",
    "    print(\"We fail to reject $H_{0}$\")\n",
    "else:\n",
    "    print(\"We reject $H_{0}$\")"
   ]
  },
  {
   "cell_type": "markdown",
   "id": "4b046657",
   "metadata": {},
   "source": [
    "From the Mann-Whitney test, we see that the mean petal length for the setosa is significantly different from the mean petal length of the versicolor."
   ]
  },
  {
   "cell_type": "code",
   "execution_count": null,
   "id": "15e5a3cb",
   "metadata": {},
   "outputs": [],
   "source": []
  }
 ],
 "metadata": {
  "kernelspec": {
   "display_name": "Python 3",
   "language": "python",
   "name": "python3"
  },
  "language_info": {
   "codemirror_mode": {
    "name": "ipython",
    "version": 3
   },
   "file_extension": ".py",
   "mimetype": "text/x-python",
   "name": "python",
   "nbconvert_exporter": "python",
   "pygments_lexer": "ipython3",
   "version": "3.8.8"
  }
 },
 "nbformat": 4,
 "nbformat_minor": 5
}
