{
 "cells": [
  {
   "cell_type": "code",
   "execution_count": 32,
   "id": "7fbcf522",
   "metadata": {},
   "outputs": [],
   "source": [
    "import pandas as pd\n",
    "from sklearn.metrics import confusion_matrix"
   ]
  },
  {
   "cell_type": "markdown",
   "id": "d84df475",
   "metadata": {},
   "source": [
    "### 1. Given the following confusion matrix, evaluate (by hand) the model's performance.\n",
    "\n",
    "|               | pred dog   | pred cat   |\n",
    "|:------------  |-----------:|-----------:|\n",
    "| actual dog    |         46 |         7  |\n",
    "| actual cat    |         13 |         34 |\n",
    "\n",
    "\n",
    "- In the context of this problem, what is a false positive?\n",
    "- In the context of this problem, what is a false negative?\n",
    "- How would you describe this model?"
   ]
  },
  {
   "cell_type": "code",
   "execution_count": 33,
   "id": "f901960c",
   "metadata": {},
   "outputs": [
    {
     "data": {
      "text/html": [
       "<div>\n",
       "<style scoped>\n",
       "    .dataframe tbody tr th:only-of-type {\n",
       "        vertical-align: middle;\n",
       "    }\n",
       "\n",
       "    .dataframe tbody tr th {\n",
       "        vertical-align: top;\n",
       "    }\n",
       "\n",
       "    .dataframe thead th {\n",
       "        text-align: right;\n",
       "    }\n",
       "</style>\n",
       "<table border=\"1\" class=\"dataframe\">\n",
       "  <thead>\n",
       "    <tr style=\"text-align: right;\">\n",
       "      <th></th>\n",
       "      <th>pred_dog</th>\n",
       "      <th>pred_cat</th>\n",
       "    </tr>\n",
       "  </thead>\n",
       "  <tbody>\n",
       "    <tr>\n",
       "      <th>actual_dog</th>\n",
       "      <td>46</td>\n",
       "      <td>7</td>\n",
       "    </tr>\n",
       "    <tr>\n",
       "      <th>actual_cat</th>\n",
       "      <td>13</td>\n",
       "      <td>34</td>\n",
       "    </tr>\n",
       "  </tbody>\n",
       "</table>\n",
       "</div>"
      ],
      "text/plain": [
       "            pred_dog  pred_cat\n",
       "actual_dog        46         7\n",
       "actual_cat        13        34"
      ]
     },
     "execution_count": 33,
     "metadata": {},
     "output_type": "execute_result"
    }
   ],
   "source": [
    "r = {'pred_dog': 46, 'pred_cat':7}\n",
    "df = pd.DataFrame(data=r, index=['actual_dog', 'actual_cat'], columns=['pred_dog','pred_cat'])\n",
    "df.pred_dog['actual_cat'] = df.pred_dog['actual_cat'] - 33\n",
    "df.pred_cat['actual_cat'] = df.pred_cat['actual_cat'] + 27\n",
    "df"
   ]
  },
  {
   "cell_type": "markdown",
   "id": "42ec1b08",
   "metadata": {},
   "source": [
    "-Positive case: a dog\n",
    "\n",
    "-Negative case: a cat"
   ]
  },
  {
   "cell_type": "markdown",
   "id": "84b687ac",
   "metadata": {},
   "source": [
    "**Define the outcomes**"
   ]
  },
  {
   "cell_type": "code",
   "execution_count": 38,
   "id": "0418da01",
   "metadata": {},
   "outputs": [],
   "source": [
    "#True positive: Predict dog and actual dog\n",
    "tp = df.pred_dog[0]\n",
    "\n",
    "#True negative: Predict cat and actual cat\n",
    "tn = df.pred_cat[1]\n",
    "\n",
    "#False positive: Predict dog and actual cat\n",
    "fp = df.pred_dog[1]\n",
    "\n",
    "#False negative: Predict cat and actual dog\n",
    "fn = df.pred_cat[0]"
   ]
  }
 ],
 "metadata": {
  "kernelspec": {
   "display_name": "Python 3",
   "language": "python",
   "name": "python3"
  },
  "language_info": {
   "codemirror_mode": {
    "name": "ipython",
    "version": 3
   },
   "file_extension": ".py",
   "mimetype": "text/x-python",
   "name": "python",
   "nbconvert_exporter": "python",
   "pygments_lexer": "ipython3",
   "version": "3.8.8"
  }
 },
 "nbformat": 4,
 "nbformat_minor": 5
}
