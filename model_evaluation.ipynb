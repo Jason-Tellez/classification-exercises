{
 "cells": [
  {
   "cell_type": "code",
   "execution_count": 1,
   "id": "72562fcb",
   "metadata": {},
   "outputs": [],
   "source": [
    "import pandas as pd\n",
    "import numpy as np\n",
    "from sklearn.metrics import confusion_matrix"
   ]
  },
  {
   "cell_type": "markdown",
   "id": "2bc7bb1c",
   "metadata": {},
   "source": [
    "### 1. Given the following confusion matrix, evaluate (by hand) the model's performance.\n",
    "\n",
    "|               | pred dog   | pred cat   |\n",
    "|:------------  |-----------:|-----------:|\n",
    "| actual dog    |         46 |         7  |\n",
    "| actual cat    |         13 |         34 |\n",
    "\n",
    "\n",
    "- In the context of this problem, what is a false positive?\n",
    "- In the context of this problem, what is a false negative?\n",
    "- How would you describe this model?"
   ]
  },
  {
   "cell_type": "code",
   "execution_count": 2,
   "id": "973ddd29",
   "metadata": {},
   "outputs": [
    {
     "data": {
      "text/html": [
       "<div>\n",
       "<style scoped>\n",
       "    .dataframe tbody tr th:only-of-type {\n",
       "        vertical-align: middle;\n",
       "    }\n",
       "\n",
       "    .dataframe tbody tr th {\n",
       "        vertical-align: top;\n",
       "    }\n",
       "\n",
       "    .dataframe thead th {\n",
       "        text-align: right;\n",
       "    }\n",
       "</style>\n",
       "<table border=\"1\" class=\"dataframe\">\n",
       "  <thead>\n",
       "    <tr style=\"text-align: right;\">\n",
       "      <th></th>\n",
       "      <th>pred_dog</th>\n",
       "      <th>pred_cat</th>\n",
       "    </tr>\n",
       "  </thead>\n",
       "  <tbody>\n",
       "    <tr>\n",
       "      <th>actual_dog</th>\n",
       "      <td>46</td>\n",
       "      <td>7</td>\n",
       "    </tr>\n",
       "    <tr>\n",
       "      <th>actual_cat</th>\n",
       "      <td>13</td>\n",
       "      <td>34</td>\n",
       "    </tr>\n",
       "  </tbody>\n",
       "</table>\n",
       "</div>"
      ],
      "text/plain": [
       "            pred_dog  pred_cat\n",
       "actual_dog        46         7\n",
       "actual_cat        13        34"
      ]
     },
     "execution_count": 2,
     "metadata": {},
     "output_type": "execute_result"
    }
   ],
   "source": [
    "r = {'pred_dog': 46, 'pred_cat':7}\n",
    "df = pd.DataFrame(data=r, index=['actual_dog', 'actual_cat'], columns=['pred_dog','pred_cat'])\n",
    "df.pred_dog['actual_cat'] = df.pred_dog['actual_cat'] - 33\n",
    "df.pred_cat['actual_cat'] = df.pred_cat['actual_cat'] + 27\n",
    "df"
   ]
  },
  {
   "cell_type": "markdown",
   "id": "58747378",
   "metadata": {},
   "source": [
    "-Positive case: a dog\n",
    "\n",
    "-Negative case: a cat"
   ]
  },
  {
   "cell_type": "markdown",
   "id": "c2ba0a73",
   "metadata": {},
   "source": [
    "**Define the outcomes**"
   ]
  },
  {
   "cell_type": "code",
   "execution_count": 3,
   "id": "2f55e516",
   "metadata": {},
   "outputs": [],
   "source": [
    "#True positive: Predict dog and actual dog\n",
    "tp = df.pred_dog[0]\n",
    "\n",
    "#True negative: Predict cat and actual cat\n",
    "tn = df.pred_cat[1]\n",
    "\n",
    "#False positive: Predict dog and actual cat\n",
    "fp = df.pred_dog[1]\n",
    "\n",
    "#False negative: Predict cat and actual dog\n",
    "fn = df.pred_cat[0]"
   ]
  },
  {
   "cell_type": "markdown",
   "id": "be218ee5",
   "metadata": {},
   "source": [
    "**Accuracy**: (TP + TN) / (TP + TN + FP + FN)"
   ]
  },
  {
   "cell_type": "code",
   "execution_count": 4,
   "id": "53716968",
   "metadata": {},
   "outputs": [
    {
     "name": "stdout",
     "output_type": "stream",
     "text": [
      "0.8%\n"
     ]
    }
   ],
   "source": [
    "print(f'{round((tp + tn) / (tp + tn + fp + fn), 2)}%')"
   ]
  },
  {
   "cell_type": "markdown",
   "id": "3e21462e",
   "metadata": {},
   "source": [
    "**Precision**: TP / (TP + FP)"
   ]
  },
  {
   "cell_type": "code",
   "execution_count": 5,
   "id": "fb761568",
   "metadata": {},
   "outputs": [
    {
     "name": "stdout",
     "output_type": "stream",
     "text": [
      "0.78%\n"
     ]
    }
   ],
   "source": [
    "print(f'{round(tp/(tp+fp), 2)}%')"
   ]
  },
  {
   "cell_type": "markdown",
   "id": "e7e03077",
   "metadata": {},
   "source": [
    "**Recall**: TP / (TP + FN)"
   ]
  },
  {
   "cell_type": "code",
   "execution_count": 6,
   "id": "b25e1b41",
   "metadata": {},
   "outputs": [
    {
     "name": "stdout",
     "output_type": "stream",
     "text": [
      "0.87%\n"
     ]
    }
   ],
   "source": [
    "print(f'{round(tp/(tp+fn), 2)}%')"
   ]
  },
  {
   "cell_type": "markdown",
   "id": "09401c2b",
   "metadata": {},
   "source": [
    "### 3. You are working as a datascientist working for Codeup Cody Creator (C3 for short), a rubber-duck manufacturing plant. Unfortunately, some of the rubber ducks that are produced will have defects. Your team has built several models that try to predict those defects. Use the predictions dataset and pandas to help answer the following questions:\n",
    "\n",
    "- An internal team wants to investigate the cause of the manufacturing defects. They tell you that they want to identify as many of the ducks that have a defect as possible. Which evaluation metric would be appropriate here? Which model would be the best fit for this use case?"
   ]
  },
  {
   "cell_type": "code",
   "execution_count": 7,
   "id": "11741a7c",
   "metadata": {
    "scrolled": true
   },
   "outputs": [
    {
     "data": {
      "text/html": [
       "<div>\n",
       "<style scoped>\n",
       "    .dataframe tbody tr th:only-of-type {\n",
       "        vertical-align: middle;\n",
       "    }\n",
       "\n",
       "    .dataframe tbody tr th {\n",
       "        vertical-align: top;\n",
       "    }\n",
       "\n",
       "    .dataframe thead th {\n",
       "        text-align: right;\n",
       "    }\n",
       "</style>\n",
       "<table border=\"1\" class=\"dataframe\">\n",
       "  <thead>\n",
       "    <tr style=\"text-align: right;\">\n",
       "      <th></th>\n",
       "      <th>actual</th>\n",
       "      <th>model1</th>\n",
       "      <th>model2</th>\n",
       "      <th>model3</th>\n",
       "    </tr>\n",
       "  </thead>\n",
       "  <tbody>\n",
       "    <tr>\n",
       "      <th>0</th>\n",
       "      <td>No Defect</td>\n",
       "      <td>No Defect</td>\n",
       "      <td>Defect</td>\n",
       "      <td>No Defect</td>\n",
       "    </tr>\n",
       "    <tr>\n",
       "      <th>1</th>\n",
       "      <td>No Defect</td>\n",
       "      <td>No Defect</td>\n",
       "      <td>Defect</td>\n",
       "      <td>Defect</td>\n",
       "    </tr>\n",
       "    <tr>\n",
       "      <th>2</th>\n",
       "      <td>No Defect</td>\n",
       "      <td>No Defect</td>\n",
       "      <td>Defect</td>\n",
       "      <td>No Defect</td>\n",
       "    </tr>\n",
       "    <tr>\n",
       "      <th>3</th>\n",
       "      <td>No Defect</td>\n",
       "      <td>Defect</td>\n",
       "      <td>Defect</td>\n",
       "      <td>Defect</td>\n",
       "    </tr>\n",
       "    <tr>\n",
       "      <th>4</th>\n",
       "      <td>No Defect</td>\n",
       "      <td>No Defect</td>\n",
       "      <td>Defect</td>\n",
       "      <td>No Defect</td>\n",
       "    </tr>\n",
       "    <tr>\n",
       "      <th>...</th>\n",
       "      <td>...</td>\n",
       "      <td>...</td>\n",
       "      <td>...</td>\n",
       "      <td>...</td>\n",
       "    </tr>\n",
       "    <tr>\n",
       "      <th>195</th>\n",
       "      <td>No Defect</td>\n",
       "      <td>No Defect</td>\n",
       "      <td>Defect</td>\n",
       "      <td>Defect</td>\n",
       "    </tr>\n",
       "    <tr>\n",
       "      <th>196</th>\n",
       "      <td>Defect</td>\n",
       "      <td>Defect</td>\n",
       "      <td>No Defect</td>\n",
       "      <td>No Defect</td>\n",
       "    </tr>\n",
       "    <tr>\n",
       "      <th>197</th>\n",
       "      <td>No Defect</td>\n",
       "      <td>No Defect</td>\n",
       "      <td>No Defect</td>\n",
       "      <td>No Defect</td>\n",
       "    </tr>\n",
       "    <tr>\n",
       "      <th>198</th>\n",
       "      <td>No Defect</td>\n",
       "      <td>No Defect</td>\n",
       "      <td>Defect</td>\n",
       "      <td>Defect</td>\n",
       "    </tr>\n",
       "    <tr>\n",
       "      <th>199</th>\n",
       "      <td>No Defect</td>\n",
       "      <td>No Defect</td>\n",
       "      <td>No Defect</td>\n",
       "      <td>Defect</td>\n",
       "    </tr>\n",
       "  </tbody>\n",
       "</table>\n",
       "<p>200 rows × 4 columns</p>\n",
       "</div>"
      ],
      "text/plain": [
       "        actual     model1     model2     model3\n",
       "0    No Defect  No Defect     Defect  No Defect\n",
       "1    No Defect  No Defect     Defect     Defect\n",
       "2    No Defect  No Defect     Defect  No Defect\n",
       "3    No Defect     Defect     Defect     Defect\n",
       "4    No Defect  No Defect     Defect  No Defect\n",
       "..         ...        ...        ...        ...\n",
       "195  No Defect  No Defect     Defect     Defect\n",
       "196     Defect     Defect  No Defect  No Defect\n",
       "197  No Defect  No Defect  No Defect  No Defect\n",
       "198  No Defect  No Defect     Defect     Defect\n",
       "199  No Defect  No Defect  No Defect     Defect\n",
       "\n",
       "[200 rows x 4 columns]"
      ]
     },
     "execution_count": 7,
     "metadata": {},
     "output_type": "execute_result"
    }
   ],
   "source": [
    "df = pd.read_csv('c3.csv')\n",
    "df"
   ]
  },
  {
   "cell_type": "markdown",
   "id": "8f28ae5b",
   "metadata": {},
   "source": [
    "**Cases**\n",
    "\n",
    "-Positive case: Defect\n",
    "\n",
    "-Negative case: No Defect\n",
    "\n",
    "**Outcomes**\n",
    "\n",
    "    True Posititve: Defective product marked defective\n",
    "    \n",
    "    True Negative: Working product marked not defective\n",
    "    \n",
    "    False Positive: Defective product marked not defective\n",
    "    \n",
    "    False Negative: Working product marked defective\n",
    "    \n",
    "    \n",
    "**Model 1:**"
   ]
  },
  {
   "cell_type": "code",
   "execution_count": 8,
   "id": "15f02744",
   "metadata": {
    "scrolled": true
   },
   "outputs": [
    {
     "data": {
      "text/html": [
       "<div>\n",
       "<style scoped>\n",
       "    .dataframe tbody tr th:only-of-type {\n",
       "        vertical-align: middle;\n",
       "    }\n",
       "\n",
       "    .dataframe tbody tr th {\n",
       "        vertical-align: top;\n",
       "    }\n",
       "\n",
       "    .dataframe thead th {\n",
       "        text-align: right;\n",
       "    }\n",
       "</style>\n",
       "<table border=\"1\" class=\"dataframe\">\n",
       "  <thead>\n",
       "    <tr style=\"text-align: right;\">\n",
       "      <th>actual</th>\n",
       "      <th>Defect</th>\n",
       "      <th>No Defect</th>\n",
       "    </tr>\n",
       "    <tr>\n",
       "      <th>model1</th>\n",
       "      <th></th>\n",
       "      <th></th>\n",
       "    </tr>\n",
       "  </thead>\n",
       "  <tbody>\n",
       "    <tr>\n",
       "      <th>Defect</th>\n",
       "      <td>8</td>\n",
       "      <td>2</td>\n",
       "    </tr>\n",
       "    <tr>\n",
       "      <th>No Defect</th>\n",
       "      <td>8</td>\n",
       "      <td>182</td>\n",
       "    </tr>\n",
       "  </tbody>\n",
       "</table>\n",
       "</div>"
      ],
      "text/plain": [
       "actual     Defect  No Defect\n",
       "model1                      \n",
       "Defect          8          2\n",
       "No Defect       8        182"
      ]
     },
     "execution_count": 8,
     "metadata": {},
     "output_type": "execute_result"
    }
   ],
   "source": [
    "df1 = df[['actual','model1']].copy()\n",
    "df_cross1 = pd.crosstab(df1.model1, df1.actual)\n",
    "df_cross1"
   ]
  },
  {
   "cell_type": "markdown",
   "id": "d2967bd2",
   "metadata": {},
   "source": [
    "Since we are looking to catch all defects, we would want to find minimize the number of false negatives.\n",
    "\n",
    "Therefore, we will use the recall metric."
   ]
  },
  {
   "cell_type": "code",
   "execution_count": 9,
   "id": "b2d6827a",
   "metadata": {
    "scrolled": true
   },
   "outputs": [
    {
     "data": {
      "text/html": [
       "<div>\n",
       "<style scoped>\n",
       "    .dataframe tbody tr th:only-of-type {\n",
       "        vertical-align: middle;\n",
       "    }\n",
       "\n",
       "    .dataframe tbody tr th {\n",
       "        vertical-align: top;\n",
       "    }\n",
       "\n",
       "    .dataframe thead th {\n",
       "        text-align: right;\n",
       "    }\n",
       "</style>\n",
       "<table border=\"1\" class=\"dataframe\">\n",
       "  <thead>\n",
       "    <tr style=\"text-align: right;\">\n",
       "      <th></th>\n",
       "      <th>actual</th>\n",
       "      <th>model1</th>\n",
       "      <th>baseline_pred</th>\n",
       "    </tr>\n",
       "  </thead>\n",
       "  <tbody>\n",
       "    <tr>\n",
       "      <th>0</th>\n",
       "      <td>No Defect</td>\n",
       "      <td>No Defect</td>\n",
       "      <td>Defect</td>\n",
       "    </tr>\n",
       "    <tr>\n",
       "      <th>1</th>\n",
       "      <td>No Defect</td>\n",
       "      <td>No Defect</td>\n",
       "      <td>Defect</td>\n",
       "    </tr>\n",
       "    <tr>\n",
       "      <th>2</th>\n",
       "      <td>No Defect</td>\n",
       "      <td>No Defect</td>\n",
       "      <td>Defect</td>\n",
       "    </tr>\n",
       "    <tr>\n",
       "      <th>3</th>\n",
       "      <td>No Defect</td>\n",
       "      <td>Defect</td>\n",
       "      <td>Defect</td>\n",
       "    </tr>\n",
       "    <tr>\n",
       "      <th>4</th>\n",
       "      <td>No Defect</td>\n",
       "      <td>No Defect</td>\n",
       "      <td>Defect</td>\n",
       "    </tr>\n",
       "    <tr>\n",
       "      <th>...</th>\n",
       "      <td>...</td>\n",
       "      <td>...</td>\n",
       "      <td>...</td>\n",
       "    </tr>\n",
       "    <tr>\n",
       "      <th>195</th>\n",
       "      <td>No Defect</td>\n",
       "      <td>No Defect</td>\n",
       "      <td>Defect</td>\n",
       "    </tr>\n",
       "    <tr>\n",
       "      <th>196</th>\n",
       "      <td>Defect</td>\n",
       "      <td>Defect</td>\n",
       "      <td>Defect</td>\n",
       "    </tr>\n",
       "    <tr>\n",
       "      <th>197</th>\n",
       "      <td>No Defect</td>\n",
       "      <td>No Defect</td>\n",
       "      <td>Defect</td>\n",
       "    </tr>\n",
       "    <tr>\n",
       "      <th>198</th>\n",
       "      <td>No Defect</td>\n",
       "      <td>No Defect</td>\n",
       "      <td>Defect</td>\n",
       "    </tr>\n",
       "    <tr>\n",
       "      <th>199</th>\n",
       "      <td>No Defect</td>\n",
       "      <td>No Defect</td>\n",
       "      <td>Defect</td>\n",
       "    </tr>\n",
       "  </tbody>\n",
       "</table>\n",
       "<p>200 rows × 3 columns</p>\n",
       "</div>"
      ],
      "text/plain": [
       "        actual     model1 baseline_pred\n",
       "0    No Defect  No Defect        Defect\n",
       "1    No Defect  No Defect        Defect\n",
       "2    No Defect  No Defect        Defect\n",
       "3    No Defect     Defect        Defect\n",
       "4    No Defect  No Defect        Defect\n",
       "..         ...        ...           ...\n",
       "195  No Defect  No Defect        Defect\n",
       "196     Defect     Defect        Defect\n",
       "197  No Defect  No Defect        Defect\n",
       "198  No Defect  No Defect        Defect\n",
       "199  No Defect  No Defect        Defect\n",
       "\n",
       "[200 rows x 3 columns]"
      ]
     },
     "execution_count": 9,
     "metadata": {},
     "output_type": "execute_result"
    }
   ],
   "source": [
    "df1['baseline_pred'] = 'Defect'\n",
    "df1"
   ]
  },
  {
   "cell_type": "code",
   "execution_count": 10,
   "id": "31f25319",
   "metadata": {},
   "outputs": [
    {
     "name": "stdout",
     "output_type": "stream",
     "text": [
      "   model accuracy: 95.00%\n",
      "baseline accuracy: 8.00%\n"
     ]
    }
   ],
   "source": [
    "model_accuracy = (df1.actual == df1.model1).mean()\n",
    "baseline_accuracy = (df1.actual == df1.baseline_pred).mean()\n",
    "\n",
    "print(f'   model accuracy: {model_accuracy:.2%}')\n",
    "print(f'baseline accuracy: {baseline_accuracy:.2%}')"
   ]
  },
  {
   "cell_type": "code",
   "execution_count": 11,
   "id": "b3684271",
   "metadata": {},
   "outputs": [
    {
     "data": {
      "text/html": [
       "<div>\n",
       "<style scoped>\n",
       "    .dataframe tbody tr th:only-of-type {\n",
       "        vertical-align: middle;\n",
       "    }\n",
       "\n",
       "    .dataframe tbody tr th {\n",
       "        vertical-align: top;\n",
       "    }\n",
       "\n",
       "    .dataframe thead th {\n",
       "        text-align: right;\n",
       "    }\n",
       "</style>\n",
       "<table border=\"1\" class=\"dataframe\">\n",
       "  <thead>\n",
       "    <tr style=\"text-align: right;\">\n",
       "      <th></th>\n",
       "      <th>actual</th>\n",
       "      <th>model1</th>\n",
       "      <th>baseline_pred</th>\n",
       "    </tr>\n",
       "  </thead>\n",
       "  <tbody>\n",
       "    <tr>\n",
       "      <th>13</th>\n",
       "      <td>Defect</td>\n",
       "      <td>No Defect</td>\n",
       "      <td>Defect</td>\n",
       "    </tr>\n",
       "    <tr>\n",
       "      <th>30</th>\n",
       "      <td>Defect</td>\n",
       "      <td>Defect</td>\n",
       "      <td>Defect</td>\n",
       "    </tr>\n",
       "    <tr>\n",
       "      <th>65</th>\n",
       "      <td>Defect</td>\n",
       "      <td>Defect</td>\n",
       "      <td>Defect</td>\n",
       "    </tr>\n",
       "    <tr>\n",
       "      <th>70</th>\n",
       "      <td>Defect</td>\n",
       "      <td>Defect</td>\n",
       "      <td>Defect</td>\n",
       "    </tr>\n",
       "    <tr>\n",
       "      <th>74</th>\n",
       "      <td>Defect</td>\n",
       "      <td>No Defect</td>\n",
       "      <td>Defect</td>\n",
       "    </tr>\n",
       "    <tr>\n",
       "      <th>87</th>\n",
       "      <td>Defect</td>\n",
       "      <td>No Defect</td>\n",
       "      <td>Defect</td>\n",
       "    </tr>\n",
       "    <tr>\n",
       "      <th>118</th>\n",
       "      <td>Defect</td>\n",
       "      <td>No Defect</td>\n",
       "      <td>Defect</td>\n",
       "    </tr>\n",
       "    <tr>\n",
       "      <th>135</th>\n",
       "      <td>Defect</td>\n",
       "      <td>Defect</td>\n",
       "      <td>Defect</td>\n",
       "    </tr>\n",
       "    <tr>\n",
       "      <th>140</th>\n",
       "      <td>Defect</td>\n",
       "      <td>No Defect</td>\n",
       "      <td>Defect</td>\n",
       "    </tr>\n",
       "    <tr>\n",
       "      <th>147</th>\n",
       "      <td>Defect</td>\n",
       "      <td>Defect</td>\n",
       "      <td>Defect</td>\n",
       "    </tr>\n",
       "    <tr>\n",
       "      <th>163</th>\n",
       "      <td>Defect</td>\n",
       "      <td>Defect</td>\n",
       "      <td>Defect</td>\n",
       "    </tr>\n",
       "    <tr>\n",
       "      <th>171</th>\n",
       "      <td>Defect</td>\n",
       "      <td>No Defect</td>\n",
       "      <td>Defect</td>\n",
       "    </tr>\n",
       "    <tr>\n",
       "      <th>176</th>\n",
       "      <td>Defect</td>\n",
       "      <td>No Defect</td>\n",
       "      <td>Defect</td>\n",
       "    </tr>\n",
       "    <tr>\n",
       "      <th>186</th>\n",
       "      <td>Defect</td>\n",
       "      <td>No Defect</td>\n",
       "      <td>Defect</td>\n",
       "    </tr>\n",
       "    <tr>\n",
       "      <th>194</th>\n",
       "      <td>Defect</td>\n",
       "      <td>Defect</td>\n",
       "      <td>Defect</td>\n",
       "    </tr>\n",
       "    <tr>\n",
       "      <th>196</th>\n",
       "      <td>Defect</td>\n",
       "      <td>Defect</td>\n",
       "      <td>Defect</td>\n",
       "    </tr>\n",
       "  </tbody>\n",
       "</table>\n",
       "</div>"
      ],
      "text/plain": [
       "     actual     model1 baseline_pred\n",
       "13   Defect  No Defect        Defect\n",
       "30   Defect     Defect        Defect\n",
       "65   Defect     Defect        Defect\n",
       "70   Defect     Defect        Defect\n",
       "74   Defect  No Defect        Defect\n",
       "87   Defect  No Defect        Defect\n",
       "118  Defect  No Defect        Defect\n",
       "135  Defect     Defect        Defect\n",
       "140  Defect  No Defect        Defect\n",
       "147  Defect     Defect        Defect\n",
       "163  Defect     Defect        Defect\n",
       "171  Defect  No Defect        Defect\n",
       "176  Defect  No Defect        Defect\n",
       "186  Defect  No Defect        Defect\n",
       "194  Defect     Defect        Defect\n",
       "196  Defect     Defect        Defect"
      ]
     },
     "execution_count": 11,
     "metadata": {},
     "output_type": "execute_result"
    }
   ],
   "source": [
    "# Recall - calculate on subset of data\n",
    "# only look at subset of actual negatives (i.e actual == Defect)\n",
    "subset1 = df1[df1.actual == 'Defect']\n",
    "subset1"
   ]
  },
  {
   "cell_type": "code",
   "execution_count": 12,
   "id": "006b3916",
   "metadata": {},
   "outputs": [
    {
     "name": "stdout",
     "output_type": "stream",
     "text": [
      "   model1 recall: 50.00%\n",
      "baseline recall: 100.00%\n"
     ]
    }
   ],
   "source": [
    "# calculate recall for model and baseline\n",
    "model_recall = (subset1.actual == subset1.model1).mean()\n",
    "baseline_recall = (subset1.actual == subset1.baseline_pred).mean()\n",
    "\n",
    "print(f'   model1 recall: {model_recall:.2%}')\n",
    "print(f'baseline recall: {baseline_recall:.2%}')"
   ]
  },
  {
   "cell_type": "markdown",
   "id": "efb1a497",
   "metadata": {},
   "source": [
    "**Model 2:**"
   ]
  },
  {
   "cell_type": "code",
   "execution_count": 13,
   "id": "8785e609",
   "metadata": {},
   "outputs": [
    {
     "data": {
      "text/html": [
       "<div>\n",
       "<style scoped>\n",
       "    .dataframe tbody tr th:only-of-type {\n",
       "        vertical-align: middle;\n",
       "    }\n",
       "\n",
       "    .dataframe tbody tr th {\n",
       "        vertical-align: top;\n",
       "    }\n",
       "\n",
       "    .dataframe thead th {\n",
       "        text-align: right;\n",
       "    }\n",
       "</style>\n",
       "<table border=\"1\" class=\"dataframe\">\n",
       "  <thead>\n",
       "    <tr style=\"text-align: right;\">\n",
       "      <th>actual</th>\n",
       "      <th>Defect</th>\n",
       "      <th>No Defect</th>\n",
       "    </tr>\n",
       "    <tr>\n",
       "      <th>model2</th>\n",
       "      <th></th>\n",
       "      <th></th>\n",
       "    </tr>\n",
       "  </thead>\n",
       "  <tbody>\n",
       "    <tr>\n",
       "      <th>Defect</th>\n",
       "      <td>9</td>\n",
       "      <td>81</td>\n",
       "    </tr>\n",
       "    <tr>\n",
       "      <th>No Defect</th>\n",
       "      <td>7</td>\n",
       "      <td>103</td>\n",
       "    </tr>\n",
       "  </tbody>\n",
       "</table>\n",
       "</div>"
      ],
      "text/plain": [
       "actual     Defect  No Defect\n",
       "model2                      \n",
       "Defect          9         81\n",
       "No Defect       7        103"
      ]
     },
     "execution_count": 13,
     "metadata": {},
     "output_type": "execute_result"
    }
   ],
   "source": [
    "df2 = df[['actual','model2']].copy()\n",
    "df_cross2 = pd.crosstab(df2.model2, df2.actual)\n",
    "df_cross2"
   ]
  },
  {
   "cell_type": "code",
   "execution_count": 14,
   "id": "5bc0e3ae",
   "metadata": {},
   "outputs": [
    {
     "data": {
      "text/html": [
       "<div>\n",
       "<style scoped>\n",
       "    .dataframe tbody tr th:only-of-type {\n",
       "        vertical-align: middle;\n",
       "    }\n",
       "\n",
       "    .dataframe tbody tr th {\n",
       "        vertical-align: top;\n",
       "    }\n",
       "\n",
       "    .dataframe thead th {\n",
       "        text-align: right;\n",
       "    }\n",
       "</style>\n",
       "<table border=\"1\" class=\"dataframe\">\n",
       "  <thead>\n",
       "    <tr style=\"text-align: right;\">\n",
       "      <th></th>\n",
       "      <th>actual</th>\n",
       "      <th>model2</th>\n",
       "      <th>baseline_pred</th>\n",
       "    </tr>\n",
       "  </thead>\n",
       "  <tbody>\n",
       "    <tr>\n",
       "      <th>0</th>\n",
       "      <td>No Defect</td>\n",
       "      <td>Defect</td>\n",
       "      <td>Defect</td>\n",
       "    </tr>\n",
       "    <tr>\n",
       "      <th>1</th>\n",
       "      <td>No Defect</td>\n",
       "      <td>Defect</td>\n",
       "      <td>Defect</td>\n",
       "    </tr>\n",
       "    <tr>\n",
       "      <th>2</th>\n",
       "      <td>No Defect</td>\n",
       "      <td>Defect</td>\n",
       "      <td>Defect</td>\n",
       "    </tr>\n",
       "    <tr>\n",
       "      <th>3</th>\n",
       "      <td>No Defect</td>\n",
       "      <td>Defect</td>\n",
       "      <td>Defect</td>\n",
       "    </tr>\n",
       "    <tr>\n",
       "      <th>4</th>\n",
       "      <td>No Defect</td>\n",
       "      <td>Defect</td>\n",
       "      <td>Defect</td>\n",
       "    </tr>\n",
       "    <tr>\n",
       "      <th>...</th>\n",
       "      <td>...</td>\n",
       "      <td>...</td>\n",
       "      <td>...</td>\n",
       "    </tr>\n",
       "    <tr>\n",
       "      <th>195</th>\n",
       "      <td>No Defect</td>\n",
       "      <td>Defect</td>\n",
       "      <td>Defect</td>\n",
       "    </tr>\n",
       "    <tr>\n",
       "      <th>196</th>\n",
       "      <td>Defect</td>\n",
       "      <td>No Defect</td>\n",
       "      <td>Defect</td>\n",
       "    </tr>\n",
       "    <tr>\n",
       "      <th>197</th>\n",
       "      <td>No Defect</td>\n",
       "      <td>No Defect</td>\n",
       "      <td>Defect</td>\n",
       "    </tr>\n",
       "    <tr>\n",
       "      <th>198</th>\n",
       "      <td>No Defect</td>\n",
       "      <td>Defect</td>\n",
       "      <td>Defect</td>\n",
       "    </tr>\n",
       "    <tr>\n",
       "      <th>199</th>\n",
       "      <td>No Defect</td>\n",
       "      <td>No Defect</td>\n",
       "      <td>Defect</td>\n",
       "    </tr>\n",
       "  </tbody>\n",
       "</table>\n",
       "<p>200 rows × 3 columns</p>\n",
       "</div>"
      ],
      "text/plain": [
       "        actual     model2 baseline_pred\n",
       "0    No Defect     Defect        Defect\n",
       "1    No Defect     Defect        Defect\n",
       "2    No Defect     Defect        Defect\n",
       "3    No Defect     Defect        Defect\n",
       "4    No Defect     Defect        Defect\n",
       "..         ...        ...           ...\n",
       "195  No Defect     Defect        Defect\n",
       "196     Defect  No Defect        Defect\n",
       "197  No Defect  No Defect        Defect\n",
       "198  No Defect     Defect        Defect\n",
       "199  No Defect  No Defect        Defect\n",
       "\n",
       "[200 rows x 3 columns]"
      ]
     },
     "execution_count": 14,
     "metadata": {},
     "output_type": "execute_result"
    }
   ],
   "source": [
    "df2['baseline_pred'] = 'Defect'\n",
    "df2"
   ]
  },
  {
   "cell_type": "code",
   "execution_count": 15,
   "id": "fe4d1ccd",
   "metadata": {},
   "outputs": [
    {
     "name": "stdout",
     "output_type": "stream",
     "text": [
      "   model accuracy: 56.00%\n",
      "baseline accuracy: 8.00%\n"
     ]
    }
   ],
   "source": [
    "model_accuracy = (df2.actual == df2.model2).mean()\n",
    "baseline_accuracy = (df2.actual == df2.baseline_pred).mean()\n",
    "\n",
    "print(f'   model accuracy: {model_accuracy:.2%}')\n",
    "print(f'baseline accuracy: {baseline_accuracy:.2%}')"
   ]
  },
  {
   "cell_type": "code",
   "execution_count": 16,
   "id": "5f708615",
   "metadata": {
    "scrolled": true
   },
   "outputs": [
    {
     "data": {
      "text/html": [
       "<div>\n",
       "<style scoped>\n",
       "    .dataframe tbody tr th:only-of-type {\n",
       "        vertical-align: middle;\n",
       "    }\n",
       "\n",
       "    .dataframe tbody tr th {\n",
       "        vertical-align: top;\n",
       "    }\n",
       "\n",
       "    .dataframe thead th {\n",
       "        text-align: right;\n",
       "    }\n",
       "</style>\n",
       "<table border=\"1\" class=\"dataframe\">\n",
       "  <thead>\n",
       "    <tr style=\"text-align: right;\">\n",
       "      <th></th>\n",
       "      <th>actual</th>\n",
       "      <th>model2</th>\n",
       "      <th>baseline_pred</th>\n",
       "    </tr>\n",
       "  </thead>\n",
       "  <tbody>\n",
       "    <tr>\n",
       "      <th>13</th>\n",
       "      <td>Defect</td>\n",
       "      <td>Defect</td>\n",
       "      <td>Defect</td>\n",
       "    </tr>\n",
       "    <tr>\n",
       "      <th>30</th>\n",
       "      <td>Defect</td>\n",
       "      <td>No Defect</td>\n",
       "      <td>Defect</td>\n",
       "    </tr>\n",
       "    <tr>\n",
       "      <th>65</th>\n",
       "      <td>Defect</td>\n",
       "      <td>Defect</td>\n",
       "      <td>Defect</td>\n",
       "    </tr>\n",
       "    <tr>\n",
       "      <th>70</th>\n",
       "      <td>Defect</td>\n",
       "      <td>Defect</td>\n",
       "      <td>Defect</td>\n",
       "    </tr>\n",
       "    <tr>\n",
       "      <th>74</th>\n",
       "      <td>Defect</td>\n",
       "      <td>No Defect</td>\n",
       "      <td>Defect</td>\n",
       "    </tr>\n",
       "    <tr>\n",
       "      <th>87</th>\n",
       "      <td>Defect</td>\n",
       "      <td>Defect</td>\n",
       "      <td>Defect</td>\n",
       "    </tr>\n",
       "    <tr>\n",
       "      <th>118</th>\n",
       "      <td>Defect</td>\n",
       "      <td>Defect</td>\n",
       "      <td>Defect</td>\n",
       "    </tr>\n",
       "    <tr>\n",
       "      <th>135</th>\n",
       "      <td>Defect</td>\n",
       "      <td>No Defect</td>\n",
       "      <td>Defect</td>\n",
       "    </tr>\n",
       "    <tr>\n",
       "      <th>140</th>\n",
       "      <td>Defect</td>\n",
       "      <td>Defect</td>\n",
       "      <td>Defect</td>\n",
       "    </tr>\n",
       "    <tr>\n",
       "      <th>147</th>\n",
       "      <td>Defect</td>\n",
       "      <td>No Defect</td>\n",
       "      <td>Defect</td>\n",
       "    </tr>\n",
       "    <tr>\n",
       "      <th>163</th>\n",
       "      <td>Defect</td>\n",
       "      <td>Defect</td>\n",
       "      <td>Defect</td>\n",
       "    </tr>\n",
       "    <tr>\n",
       "      <th>171</th>\n",
       "      <td>Defect</td>\n",
       "      <td>Defect</td>\n",
       "      <td>Defect</td>\n",
       "    </tr>\n",
       "    <tr>\n",
       "      <th>176</th>\n",
       "      <td>Defect</td>\n",
       "      <td>Defect</td>\n",
       "      <td>Defect</td>\n",
       "    </tr>\n",
       "    <tr>\n",
       "      <th>186</th>\n",
       "      <td>Defect</td>\n",
       "      <td>No Defect</td>\n",
       "      <td>Defect</td>\n",
       "    </tr>\n",
       "    <tr>\n",
       "      <th>194</th>\n",
       "      <td>Defect</td>\n",
       "      <td>No Defect</td>\n",
       "      <td>Defect</td>\n",
       "    </tr>\n",
       "    <tr>\n",
       "      <th>196</th>\n",
       "      <td>Defect</td>\n",
       "      <td>No Defect</td>\n",
       "      <td>Defect</td>\n",
       "    </tr>\n",
       "  </tbody>\n",
       "</table>\n",
       "</div>"
      ],
      "text/plain": [
       "     actual     model2 baseline_pred\n",
       "13   Defect     Defect        Defect\n",
       "30   Defect  No Defect        Defect\n",
       "65   Defect     Defect        Defect\n",
       "70   Defect     Defect        Defect\n",
       "74   Defect  No Defect        Defect\n",
       "87   Defect     Defect        Defect\n",
       "118  Defect     Defect        Defect\n",
       "135  Defect  No Defect        Defect\n",
       "140  Defect     Defect        Defect\n",
       "147  Defect  No Defect        Defect\n",
       "163  Defect     Defect        Defect\n",
       "171  Defect     Defect        Defect\n",
       "176  Defect     Defect        Defect\n",
       "186  Defect  No Defect        Defect\n",
       "194  Defect  No Defect        Defect\n",
       "196  Defect  No Defect        Defect"
      ]
     },
     "execution_count": 16,
     "metadata": {},
     "output_type": "execute_result"
    }
   ],
   "source": [
    "# Recall - calculate on subset of data\n",
    "# only look at subset of actual negatives (i.e actual == Defect)\n",
    "subset2 = df2[df2.actual == 'Defect']\n",
    "subset2"
   ]
  },
  {
   "cell_type": "code",
   "execution_count": 17,
   "id": "5bec64c0",
   "metadata": {
    "scrolled": true
   },
   "outputs": [
    {
     "name": "stdout",
     "output_type": "stream",
     "text": [
      "   model2 recall: 56.25%\n",
      "baseline recall: 100.00%\n"
     ]
    }
   ],
   "source": [
    "# calculate recall for model and baseline\n",
    "model_recall = (subset2.actual == subset2.model2).mean()\n",
    "baseline_recall = (subset2.actual == subset2.baseline_pred).mean()\n",
    "\n",
    "print(f'   model2 recall: {model_recall:.2%}')\n",
    "print(f'baseline recall: {baseline_recall:.2%}')"
   ]
  },
  {
   "cell_type": "markdown",
   "id": "c6dfe687",
   "metadata": {},
   "source": [
    "**Model 3:**"
   ]
  },
  {
   "cell_type": "code",
   "execution_count": 18,
   "id": "501593c0",
   "metadata": {},
   "outputs": [
    {
     "data": {
      "text/html": [
       "<div>\n",
       "<style scoped>\n",
       "    .dataframe tbody tr th:only-of-type {\n",
       "        vertical-align: middle;\n",
       "    }\n",
       "\n",
       "    .dataframe tbody tr th {\n",
       "        vertical-align: top;\n",
       "    }\n",
       "\n",
       "    .dataframe thead th {\n",
       "        text-align: right;\n",
       "    }\n",
       "</style>\n",
       "<table border=\"1\" class=\"dataframe\">\n",
       "  <thead>\n",
       "    <tr style=\"text-align: right;\">\n",
       "      <th>actual</th>\n",
       "      <th>Defect</th>\n",
       "      <th>No Defect</th>\n",
       "    </tr>\n",
       "    <tr>\n",
       "      <th>model3</th>\n",
       "      <th></th>\n",
       "      <th></th>\n",
       "    </tr>\n",
       "  </thead>\n",
       "  <tbody>\n",
       "    <tr>\n",
       "      <th>Defect</th>\n",
       "      <td>13</td>\n",
       "      <td>86</td>\n",
       "    </tr>\n",
       "    <tr>\n",
       "      <th>No Defect</th>\n",
       "      <td>3</td>\n",
       "      <td>98</td>\n",
       "    </tr>\n",
       "  </tbody>\n",
       "</table>\n",
       "</div>"
      ],
      "text/plain": [
       "actual     Defect  No Defect\n",
       "model3                      \n",
       "Defect         13         86\n",
       "No Defect       3         98"
      ]
     },
     "execution_count": 18,
     "metadata": {},
     "output_type": "execute_result"
    }
   ],
   "source": [
    "df3 = df[['actual','model3']].copy()\n",
    "df_cross3 = pd.crosstab(df3.model3, df3.actual)\n",
    "df_cross3"
   ]
  },
  {
   "cell_type": "code",
   "execution_count": 19,
   "id": "19f408f1",
   "metadata": {},
   "outputs": [
    {
     "data": {
      "text/html": [
       "<div>\n",
       "<style scoped>\n",
       "    .dataframe tbody tr th:only-of-type {\n",
       "        vertical-align: middle;\n",
       "    }\n",
       "\n",
       "    .dataframe tbody tr th {\n",
       "        vertical-align: top;\n",
       "    }\n",
       "\n",
       "    .dataframe thead th {\n",
       "        text-align: right;\n",
       "    }\n",
       "</style>\n",
       "<table border=\"1\" class=\"dataframe\">\n",
       "  <thead>\n",
       "    <tr style=\"text-align: right;\">\n",
       "      <th></th>\n",
       "      <th>actual</th>\n",
       "      <th>model3</th>\n",
       "      <th>baseline_pred</th>\n",
       "    </tr>\n",
       "  </thead>\n",
       "  <tbody>\n",
       "    <tr>\n",
       "      <th>0</th>\n",
       "      <td>No Defect</td>\n",
       "      <td>No Defect</td>\n",
       "      <td>Defect</td>\n",
       "    </tr>\n",
       "    <tr>\n",
       "      <th>1</th>\n",
       "      <td>No Defect</td>\n",
       "      <td>Defect</td>\n",
       "      <td>Defect</td>\n",
       "    </tr>\n",
       "    <tr>\n",
       "      <th>2</th>\n",
       "      <td>No Defect</td>\n",
       "      <td>No Defect</td>\n",
       "      <td>Defect</td>\n",
       "    </tr>\n",
       "    <tr>\n",
       "      <th>3</th>\n",
       "      <td>No Defect</td>\n",
       "      <td>Defect</td>\n",
       "      <td>Defect</td>\n",
       "    </tr>\n",
       "    <tr>\n",
       "      <th>4</th>\n",
       "      <td>No Defect</td>\n",
       "      <td>No Defect</td>\n",
       "      <td>Defect</td>\n",
       "    </tr>\n",
       "    <tr>\n",
       "      <th>...</th>\n",
       "      <td>...</td>\n",
       "      <td>...</td>\n",
       "      <td>...</td>\n",
       "    </tr>\n",
       "    <tr>\n",
       "      <th>195</th>\n",
       "      <td>No Defect</td>\n",
       "      <td>Defect</td>\n",
       "      <td>Defect</td>\n",
       "    </tr>\n",
       "    <tr>\n",
       "      <th>196</th>\n",
       "      <td>Defect</td>\n",
       "      <td>No Defect</td>\n",
       "      <td>Defect</td>\n",
       "    </tr>\n",
       "    <tr>\n",
       "      <th>197</th>\n",
       "      <td>No Defect</td>\n",
       "      <td>No Defect</td>\n",
       "      <td>Defect</td>\n",
       "    </tr>\n",
       "    <tr>\n",
       "      <th>198</th>\n",
       "      <td>No Defect</td>\n",
       "      <td>Defect</td>\n",
       "      <td>Defect</td>\n",
       "    </tr>\n",
       "    <tr>\n",
       "      <th>199</th>\n",
       "      <td>No Defect</td>\n",
       "      <td>Defect</td>\n",
       "      <td>Defect</td>\n",
       "    </tr>\n",
       "  </tbody>\n",
       "</table>\n",
       "<p>200 rows × 3 columns</p>\n",
       "</div>"
      ],
      "text/plain": [
       "        actual     model3 baseline_pred\n",
       "0    No Defect  No Defect        Defect\n",
       "1    No Defect     Defect        Defect\n",
       "2    No Defect  No Defect        Defect\n",
       "3    No Defect     Defect        Defect\n",
       "4    No Defect  No Defect        Defect\n",
       "..         ...        ...           ...\n",
       "195  No Defect     Defect        Defect\n",
       "196     Defect  No Defect        Defect\n",
       "197  No Defect  No Defect        Defect\n",
       "198  No Defect     Defect        Defect\n",
       "199  No Defect     Defect        Defect\n",
       "\n",
       "[200 rows x 3 columns]"
      ]
     },
     "execution_count": 19,
     "metadata": {},
     "output_type": "execute_result"
    }
   ],
   "source": [
    "df3['baseline_pred'] = 'Defect'\n",
    "df3"
   ]
  },
  {
   "cell_type": "code",
   "execution_count": 20,
   "id": "db24ae02",
   "metadata": {},
   "outputs": [
    {
     "name": "stdout",
     "output_type": "stream",
     "text": [
      "   model accuracy: 55.50%\n",
      "baseline accuracy: 8.00%\n"
     ]
    }
   ],
   "source": [
    "model_accuracy = (df3.actual == df3.model3).mean()\n",
    "baseline_accuracy = (df3.actual == df3.baseline_pred).mean()\n",
    "\n",
    "print(f'   model accuracy: {model_accuracy:.2%}')\n",
    "print(f'baseline accuracy: {baseline_accuracy:.2%}')"
   ]
  },
  {
   "cell_type": "code",
   "execution_count": 21,
   "id": "794807a9",
   "metadata": {},
   "outputs": [
    {
     "data": {
      "text/html": [
       "<div>\n",
       "<style scoped>\n",
       "    .dataframe tbody tr th:only-of-type {\n",
       "        vertical-align: middle;\n",
       "    }\n",
       "\n",
       "    .dataframe tbody tr th {\n",
       "        vertical-align: top;\n",
       "    }\n",
       "\n",
       "    .dataframe thead th {\n",
       "        text-align: right;\n",
       "    }\n",
       "</style>\n",
       "<table border=\"1\" class=\"dataframe\">\n",
       "  <thead>\n",
       "    <tr style=\"text-align: right;\">\n",
       "      <th></th>\n",
       "      <th>actual</th>\n",
       "      <th>model3</th>\n",
       "      <th>baseline_pred</th>\n",
       "    </tr>\n",
       "  </thead>\n",
       "  <tbody>\n",
       "    <tr>\n",
       "      <th>13</th>\n",
       "      <td>Defect</td>\n",
       "      <td>Defect</td>\n",
       "      <td>Defect</td>\n",
       "    </tr>\n",
       "    <tr>\n",
       "      <th>30</th>\n",
       "      <td>Defect</td>\n",
       "      <td>Defect</td>\n",
       "      <td>Defect</td>\n",
       "    </tr>\n",
       "    <tr>\n",
       "      <th>65</th>\n",
       "      <td>Defect</td>\n",
       "      <td>Defect</td>\n",
       "      <td>Defect</td>\n",
       "    </tr>\n",
       "    <tr>\n",
       "      <th>70</th>\n",
       "      <td>Defect</td>\n",
       "      <td>Defect</td>\n",
       "      <td>Defect</td>\n",
       "    </tr>\n",
       "    <tr>\n",
       "      <th>74</th>\n",
       "      <td>Defect</td>\n",
       "      <td>Defect</td>\n",
       "      <td>Defect</td>\n",
       "    </tr>\n",
       "    <tr>\n",
       "      <th>87</th>\n",
       "      <td>Defect</td>\n",
       "      <td>Defect</td>\n",
       "      <td>Defect</td>\n",
       "    </tr>\n",
       "    <tr>\n",
       "      <th>118</th>\n",
       "      <td>Defect</td>\n",
       "      <td>No Defect</td>\n",
       "      <td>Defect</td>\n",
       "    </tr>\n",
       "    <tr>\n",
       "      <th>135</th>\n",
       "      <td>Defect</td>\n",
       "      <td>Defect</td>\n",
       "      <td>Defect</td>\n",
       "    </tr>\n",
       "    <tr>\n",
       "      <th>140</th>\n",
       "      <td>Defect</td>\n",
       "      <td>Defect</td>\n",
       "      <td>Defect</td>\n",
       "    </tr>\n",
       "    <tr>\n",
       "      <th>147</th>\n",
       "      <td>Defect</td>\n",
       "      <td>Defect</td>\n",
       "      <td>Defect</td>\n",
       "    </tr>\n",
       "    <tr>\n",
       "      <th>163</th>\n",
       "      <td>Defect</td>\n",
       "      <td>Defect</td>\n",
       "      <td>Defect</td>\n",
       "    </tr>\n",
       "    <tr>\n",
       "      <th>171</th>\n",
       "      <td>Defect</td>\n",
       "      <td>Defect</td>\n",
       "      <td>Defect</td>\n",
       "    </tr>\n",
       "    <tr>\n",
       "      <th>176</th>\n",
       "      <td>Defect</td>\n",
       "      <td>Defect</td>\n",
       "      <td>Defect</td>\n",
       "    </tr>\n",
       "    <tr>\n",
       "      <th>186</th>\n",
       "      <td>Defect</td>\n",
       "      <td>No Defect</td>\n",
       "      <td>Defect</td>\n",
       "    </tr>\n",
       "    <tr>\n",
       "      <th>194</th>\n",
       "      <td>Defect</td>\n",
       "      <td>Defect</td>\n",
       "      <td>Defect</td>\n",
       "    </tr>\n",
       "    <tr>\n",
       "      <th>196</th>\n",
       "      <td>Defect</td>\n",
       "      <td>No Defect</td>\n",
       "      <td>Defect</td>\n",
       "    </tr>\n",
       "  </tbody>\n",
       "</table>\n",
       "</div>"
      ],
      "text/plain": [
       "     actual     model3 baseline_pred\n",
       "13   Defect     Defect        Defect\n",
       "30   Defect     Defect        Defect\n",
       "65   Defect     Defect        Defect\n",
       "70   Defect     Defect        Defect\n",
       "74   Defect     Defect        Defect\n",
       "87   Defect     Defect        Defect\n",
       "118  Defect  No Defect        Defect\n",
       "135  Defect     Defect        Defect\n",
       "140  Defect     Defect        Defect\n",
       "147  Defect     Defect        Defect\n",
       "163  Defect     Defect        Defect\n",
       "171  Defect     Defect        Defect\n",
       "176  Defect     Defect        Defect\n",
       "186  Defect  No Defect        Defect\n",
       "194  Defect     Defect        Defect\n",
       "196  Defect  No Defect        Defect"
      ]
     },
     "execution_count": 21,
     "metadata": {},
     "output_type": "execute_result"
    }
   ],
   "source": [
    "# Recall - calculate on subset of data\n",
    "# only look at subset of actual negatives (i.e actual == Defect)\n",
    "subset3 = df3[df3.actual == 'Defect']\n",
    "subset3"
   ]
  },
  {
   "cell_type": "code",
   "execution_count": 22,
   "id": "ca9cf3db",
   "metadata": {},
   "outputs": [
    {
     "name": "stdout",
     "output_type": "stream",
     "text": [
      "   model3 recall: 81.25%\n",
      "baseline recall: 100.00%\n"
     ]
    }
   ],
   "source": [
    "# calculate recall for model and baseline\n",
    "model_recall = (subset3.actual == subset3.model3).mean()\n",
    "baseline_recall = (subset3.actual == subset3.baseline_pred).mean()\n",
    "\n",
    "print(f'   model3 recall: {model_recall:.2%}')\n",
    "print(f'baseline recall: {baseline_recall:.2%}')"
   ]
  },
  {
   "cell_type": "markdown",
   "id": "b1311fd3",
   "metadata": {},
   "source": [
    "Since model 3 has the highest recall percentage of all models, model 3 would be the best model to use."
   ]
  },
  {
   "cell_type": "markdown",
   "id": "fe390862",
   "metadata": {},
   "source": [
    "- Recently several stories in the local news have come out highlighting customers who received a rubber duck with a defect, and portraying C3 in a bad light. The PR team has decided to launch a program that gives customers with a defective duck a vacation to Hawaii. They need you to predict which ducks will have defects, but tell you the really don't want to accidentally give out a vacation package when the duck really doesn't have a defect. Which evaluation metric would be appropriate here? Which model would be the best fit for this use case?"
   ]
  },
  {
   "cell_type": "markdown",
   "id": "1ebeab3f",
   "metadata": {},
   "source": [
    "Since we are trying to avoid falls positives, the precision metric would be the best tool to use."
   ]
  },
  {
   "cell_type": "markdown",
   "id": "4445d809",
   "metadata": {},
   "source": [
    "**Model 1:**"
   ]
  },
  {
   "cell_type": "code",
   "execution_count": 23,
   "id": "240c08cb",
   "metadata": {},
   "outputs": [
    {
     "data": {
      "text/html": [
       "<div>\n",
       "<style scoped>\n",
       "    .dataframe tbody tr th:only-of-type {\n",
       "        vertical-align: middle;\n",
       "    }\n",
       "\n",
       "    .dataframe tbody tr th {\n",
       "        vertical-align: top;\n",
       "    }\n",
       "\n",
       "    .dataframe thead th {\n",
       "        text-align: right;\n",
       "    }\n",
       "</style>\n",
       "<table border=\"1\" class=\"dataframe\">\n",
       "  <thead>\n",
       "    <tr style=\"text-align: right;\">\n",
       "      <th></th>\n",
       "      <th>actual</th>\n",
       "      <th>model1</th>\n",
       "      <th>baseline_pred</th>\n",
       "    </tr>\n",
       "  </thead>\n",
       "  <tbody>\n",
       "    <tr>\n",
       "      <th>3</th>\n",
       "      <td>No Defect</td>\n",
       "      <td>Defect</td>\n",
       "      <td>Defect</td>\n",
       "    </tr>\n",
       "    <tr>\n",
       "      <th>30</th>\n",
       "      <td>Defect</td>\n",
       "      <td>Defect</td>\n",
       "      <td>Defect</td>\n",
       "    </tr>\n",
       "    <tr>\n",
       "      <th>62</th>\n",
       "      <td>No Defect</td>\n",
       "      <td>Defect</td>\n",
       "      <td>Defect</td>\n",
       "    </tr>\n",
       "    <tr>\n",
       "      <th>65</th>\n",
       "      <td>Defect</td>\n",
       "      <td>Defect</td>\n",
       "      <td>Defect</td>\n",
       "    </tr>\n",
       "    <tr>\n",
       "      <th>70</th>\n",
       "      <td>Defect</td>\n",
       "      <td>Defect</td>\n",
       "      <td>Defect</td>\n",
       "    </tr>\n",
       "    <tr>\n",
       "      <th>135</th>\n",
       "      <td>Defect</td>\n",
       "      <td>Defect</td>\n",
       "      <td>Defect</td>\n",
       "    </tr>\n",
       "    <tr>\n",
       "      <th>147</th>\n",
       "      <td>Defect</td>\n",
       "      <td>Defect</td>\n",
       "      <td>Defect</td>\n",
       "    </tr>\n",
       "    <tr>\n",
       "      <th>163</th>\n",
       "      <td>Defect</td>\n",
       "      <td>Defect</td>\n",
       "      <td>Defect</td>\n",
       "    </tr>\n",
       "    <tr>\n",
       "      <th>194</th>\n",
       "      <td>Defect</td>\n",
       "      <td>Defect</td>\n",
       "      <td>Defect</td>\n",
       "    </tr>\n",
       "    <tr>\n",
       "      <th>196</th>\n",
       "      <td>Defect</td>\n",
       "      <td>Defect</td>\n",
       "      <td>Defect</td>\n",
       "    </tr>\n",
       "  </tbody>\n",
       "</table>\n",
       "</div>"
      ],
      "text/plain": [
       "        actual  model1 baseline_pred\n",
       "3    No Defect  Defect        Defect\n",
       "30      Defect  Defect        Defect\n",
       "62   No Defect  Defect        Defect\n",
       "65      Defect  Defect        Defect\n",
       "70      Defect  Defect        Defect\n",
       "135     Defect  Defect        Defect\n",
       "147     Defect  Defect        Defect\n",
       "163     Defect  Defect        Defect\n",
       "194     Defect  Defect        Defect\n",
       "196     Defect  Defect        Defect"
      ]
     },
     "execution_count": 23,
     "metadata": {},
     "output_type": "execute_result"
    }
   ],
   "source": [
    "# Precision: only look at the subset where we made positive prediction (i.e. prediction == 'Defect')\n",
    "\n",
    "subset1 = df1[df1.model1 == 'Defect']\n",
    "subset1"
   ]
  },
  {
   "cell_type": "code",
   "execution_count": 24,
   "id": "6f147222",
   "metadata": {},
   "outputs": [
    {
     "name": "stdout",
     "output_type": "stream",
     "text": [
      "model precision: 80.00%\n"
     ]
    }
   ],
   "source": [
    "model_precision = (subset1.actual == subset1.model1).mean()\n",
    "print(f'model precision: {model_precision:.2%}')"
   ]
  },
  {
   "cell_type": "markdown",
   "id": "aa2cb2e1",
   "metadata": {},
   "source": [
    "**Model 2:**"
   ]
  },
  {
   "cell_type": "code",
   "execution_count": 26,
   "id": "bc2fd360",
   "metadata": {},
   "outputs": [
    {
     "data": {
      "text/html": [
       "<div>\n",
       "<style scoped>\n",
       "    .dataframe tbody tr th:only-of-type {\n",
       "        vertical-align: middle;\n",
       "    }\n",
       "\n",
       "    .dataframe tbody tr th {\n",
       "        vertical-align: top;\n",
       "    }\n",
       "\n",
       "    .dataframe thead th {\n",
       "        text-align: right;\n",
       "    }\n",
       "</style>\n",
       "<table border=\"1\" class=\"dataframe\">\n",
       "  <thead>\n",
       "    <tr style=\"text-align: right;\">\n",
       "      <th></th>\n",
       "      <th>actual</th>\n",
       "      <th>model2</th>\n",
       "      <th>baseline_pred</th>\n",
       "    </tr>\n",
       "  </thead>\n",
       "  <tbody>\n",
       "    <tr>\n",
       "      <th>0</th>\n",
       "      <td>No Defect</td>\n",
       "      <td>Defect</td>\n",
       "      <td>Defect</td>\n",
       "    </tr>\n",
       "    <tr>\n",
       "      <th>1</th>\n",
       "      <td>No Defect</td>\n",
       "      <td>Defect</td>\n",
       "      <td>Defect</td>\n",
       "    </tr>\n",
       "    <tr>\n",
       "      <th>2</th>\n",
       "      <td>No Defect</td>\n",
       "      <td>Defect</td>\n",
       "      <td>Defect</td>\n",
       "    </tr>\n",
       "    <tr>\n",
       "      <th>3</th>\n",
       "      <td>No Defect</td>\n",
       "      <td>Defect</td>\n",
       "      <td>Defect</td>\n",
       "    </tr>\n",
       "    <tr>\n",
       "      <th>4</th>\n",
       "      <td>No Defect</td>\n",
       "      <td>Defect</td>\n",
       "      <td>Defect</td>\n",
       "    </tr>\n",
       "    <tr>\n",
       "      <th>...</th>\n",
       "      <td>...</td>\n",
       "      <td>...</td>\n",
       "      <td>...</td>\n",
       "    </tr>\n",
       "    <tr>\n",
       "      <th>183</th>\n",
       "      <td>No Defect</td>\n",
       "      <td>Defect</td>\n",
       "      <td>Defect</td>\n",
       "    </tr>\n",
       "    <tr>\n",
       "      <th>185</th>\n",
       "      <td>No Defect</td>\n",
       "      <td>Defect</td>\n",
       "      <td>Defect</td>\n",
       "    </tr>\n",
       "    <tr>\n",
       "      <th>193</th>\n",
       "      <td>No Defect</td>\n",
       "      <td>Defect</td>\n",
       "      <td>Defect</td>\n",
       "    </tr>\n",
       "    <tr>\n",
       "      <th>195</th>\n",
       "      <td>No Defect</td>\n",
       "      <td>Defect</td>\n",
       "      <td>Defect</td>\n",
       "    </tr>\n",
       "    <tr>\n",
       "      <th>198</th>\n",
       "      <td>No Defect</td>\n",
       "      <td>Defect</td>\n",
       "      <td>Defect</td>\n",
       "    </tr>\n",
       "  </tbody>\n",
       "</table>\n",
       "<p>90 rows × 3 columns</p>\n",
       "</div>"
      ],
      "text/plain": [
       "        actual  model2 baseline_pred\n",
       "0    No Defect  Defect        Defect\n",
       "1    No Defect  Defect        Defect\n",
       "2    No Defect  Defect        Defect\n",
       "3    No Defect  Defect        Defect\n",
       "4    No Defect  Defect        Defect\n",
       "..         ...     ...           ...\n",
       "183  No Defect  Defect        Defect\n",
       "185  No Defect  Defect        Defect\n",
       "193  No Defect  Defect        Defect\n",
       "195  No Defect  Defect        Defect\n",
       "198  No Defect  Defect        Defect\n",
       "\n",
       "[90 rows x 3 columns]"
      ]
     },
     "execution_count": 26,
     "metadata": {},
     "output_type": "execute_result"
    }
   ],
   "source": [
    "# Precision: only look at the subset where we made positive prediction (i.e. prediction == 'coffee')\n",
    "\n",
    "subset2 = df2[df2.model2 == 'Defect']\n",
    "subset2"
   ]
  },
  {
   "cell_type": "code",
   "execution_count": 27,
   "id": "03ee9fe5",
   "metadata": {},
   "outputs": [
    {
     "name": "stdout",
     "output_type": "stream",
     "text": [
      "model precision: 10.00%\n"
     ]
    }
   ],
   "source": [
    "model_precision = (subset2.actual == subset2.model2).mean()\n",
    "print(f'model precision: {model_precision:.2%}')"
   ]
  },
  {
   "cell_type": "markdown",
   "id": "99a9a920",
   "metadata": {},
   "source": [
    "**Model 3:**"
   ]
  },
  {
   "cell_type": "code",
   "execution_count": 28,
   "id": "d14dfcc0",
   "metadata": {},
   "outputs": [
    {
     "data": {
      "text/html": [
       "<div>\n",
       "<style scoped>\n",
       "    .dataframe tbody tr th:only-of-type {\n",
       "        vertical-align: middle;\n",
       "    }\n",
       "\n",
       "    .dataframe tbody tr th {\n",
       "        vertical-align: top;\n",
       "    }\n",
       "\n",
       "    .dataframe thead th {\n",
       "        text-align: right;\n",
       "    }\n",
       "</style>\n",
       "<table border=\"1\" class=\"dataframe\">\n",
       "  <thead>\n",
       "    <tr style=\"text-align: right;\">\n",
       "      <th></th>\n",
       "      <th>actual</th>\n",
       "      <th>model3</th>\n",
       "      <th>baseline_pred</th>\n",
       "    </tr>\n",
       "  </thead>\n",
       "  <tbody>\n",
       "    <tr>\n",
       "      <th>1</th>\n",
       "      <td>No Defect</td>\n",
       "      <td>Defect</td>\n",
       "      <td>Defect</td>\n",
       "    </tr>\n",
       "    <tr>\n",
       "      <th>3</th>\n",
       "      <td>No Defect</td>\n",
       "      <td>Defect</td>\n",
       "      <td>Defect</td>\n",
       "    </tr>\n",
       "    <tr>\n",
       "      <th>5</th>\n",
       "      <td>No Defect</td>\n",
       "      <td>Defect</td>\n",
       "      <td>Defect</td>\n",
       "    </tr>\n",
       "    <tr>\n",
       "      <th>9</th>\n",
       "      <td>No Defect</td>\n",
       "      <td>Defect</td>\n",
       "      <td>Defect</td>\n",
       "    </tr>\n",
       "    <tr>\n",
       "      <th>13</th>\n",
       "      <td>Defect</td>\n",
       "      <td>Defect</td>\n",
       "      <td>Defect</td>\n",
       "    </tr>\n",
       "    <tr>\n",
       "      <th>...</th>\n",
       "      <td>...</td>\n",
       "      <td>...</td>\n",
       "      <td>...</td>\n",
       "    </tr>\n",
       "    <tr>\n",
       "      <th>193</th>\n",
       "      <td>No Defect</td>\n",
       "      <td>Defect</td>\n",
       "      <td>Defect</td>\n",
       "    </tr>\n",
       "    <tr>\n",
       "      <th>194</th>\n",
       "      <td>Defect</td>\n",
       "      <td>Defect</td>\n",
       "      <td>Defect</td>\n",
       "    </tr>\n",
       "    <tr>\n",
       "      <th>195</th>\n",
       "      <td>No Defect</td>\n",
       "      <td>Defect</td>\n",
       "      <td>Defect</td>\n",
       "    </tr>\n",
       "    <tr>\n",
       "      <th>198</th>\n",
       "      <td>No Defect</td>\n",
       "      <td>Defect</td>\n",
       "      <td>Defect</td>\n",
       "    </tr>\n",
       "    <tr>\n",
       "      <th>199</th>\n",
       "      <td>No Defect</td>\n",
       "      <td>Defect</td>\n",
       "      <td>Defect</td>\n",
       "    </tr>\n",
       "  </tbody>\n",
       "</table>\n",
       "<p>99 rows × 3 columns</p>\n",
       "</div>"
      ],
      "text/plain": [
       "        actual  model3 baseline_pred\n",
       "1    No Defect  Defect        Defect\n",
       "3    No Defect  Defect        Defect\n",
       "5    No Defect  Defect        Defect\n",
       "9    No Defect  Defect        Defect\n",
       "13      Defect  Defect        Defect\n",
       "..         ...     ...           ...\n",
       "193  No Defect  Defect        Defect\n",
       "194     Defect  Defect        Defect\n",
       "195  No Defect  Defect        Defect\n",
       "198  No Defect  Defect        Defect\n",
       "199  No Defect  Defect        Defect\n",
       "\n",
       "[99 rows x 3 columns]"
      ]
     },
     "execution_count": 28,
     "metadata": {},
     "output_type": "execute_result"
    }
   ],
   "source": [
    "# Precision: only look at the subset where we made positive prediction (i.e. prediction == 'coffee')\n",
    "\n",
    "subset3 = df3[df3.model3 == 'Defect']\n",
    "subset3"
   ]
  },
  {
   "cell_type": "code",
   "execution_count": 29,
   "id": "2cb1bac0",
   "metadata": {},
   "outputs": [
    {
     "name": "stdout",
     "output_type": "stream",
     "text": [
      "model precision: 13.13%\n"
     ]
    }
   ],
   "source": [
    "model_precision = (subset3.actual == subset3.model3).mean()\n",
    "print(f'model precision: {model_precision:.2%}')"
   ]
  },
  {
   "cell_type": "markdown",
   "id": "475e4c35",
   "metadata": {},
   "source": [
    "Since model 1 has the least false positives (least false positives), model 1 would be the best model to use to prevent unnecessary vactations to Hawaii."
   ]
  },
  {
   "cell_type": "markdown",
   "id": "4b7c1b3d",
   "metadata": {},
   "source": [
    "### 4. You are working as a data scientist for Gives You Paws ™, a subscription based service that shows you cute pictures of dogs or cats (or both for an additional fee). At Gives You Paws, anyone can upload pictures of their cats or dogs. The photos are then put through a two step process. First an automated algorithm tags pictures as either a cat or a dog (Phase I). Next, the photos that have been initially identified are put through another round of review, possibly with some human oversight, before being presented to the users (Phase II).\n",
    "\n",
    "### Given this dataset, use pandas to create a baseline model (i.e. a model that just predicts the most common class) and answer the following questions:"
   ]
  },
  {
   "cell_type": "code",
   "execution_count": 30,
   "id": "afcf9cd5",
   "metadata": {
    "scrolled": true
   },
   "outputs": [
    {
     "data": {
      "text/html": [
       "<div>\n",
       "<style scoped>\n",
       "    .dataframe tbody tr th:only-of-type {\n",
       "        vertical-align: middle;\n",
       "    }\n",
       "\n",
       "    .dataframe tbody tr th {\n",
       "        vertical-align: top;\n",
       "    }\n",
       "\n",
       "    .dataframe thead th {\n",
       "        text-align: right;\n",
       "    }\n",
       "</style>\n",
       "<table border=\"1\" class=\"dataframe\">\n",
       "  <thead>\n",
       "    <tr style=\"text-align: right;\">\n",
       "      <th></th>\n",
       "      <th>actual</th>\n",
       "      <th>model1</th>\n",
       "      <th>model2</th>\n",
       "      <th>model3</th>\n",
       "      <th>model4</th>\n",
       "    </tr>\n",
       "  </thead>\n",
       "  <tbody>\n",
       "    <tr>\n",
       "      <th>0</th>\n",
       "      <td>cat</td>\n",
       "      <td>cat</td>\n",
       "      <td>dog</td>\n",
       "      <td>cat</td>\n",
       "      <td>dog</td>\n",
       "    </tr>\n",
       "    <tr>\n",
       "      <th>1</th>\n",
       "      <td>dog</td>\n",
       "      <td>dog</td>\n",
       "      <td>cat</td>\n",
       "      <td>cat</td>\n",
       "      <td>dog</td>\n",
       "    </tr>\n",
       "    <tr>\n",
       "      <th>2</th>\n",
       "      <td>dog</td>\n",
       "      <td>cat</td>\n",
       "      <td>cat</td>\n",
       "      <td>cat</td>\n",
       "      <td>dog</td>\n",
       "    </tr>\n",
       "    <tr>\n",
       "      <th>3</th>\n",
       "      <td>dog</td>\n",
       "      <td>dog</td>\n",
       "      <td>dog</td>\n",
       "      <td>cat</td>\n",
       "      <td>dog</td>\n",
       "    </tr>\n",
       "    <tr>\n",
       "      <th>4</th>\n",
       "      <td>cat</td>\n",
       "      <td>cat</td>\n",
       "      <td>cat</td>\n",
       "      <td>dog</td>\n",
       "      <td>dog</td>\n",
       "    </tr>\n",
       "    <tr>\n",
       "      <th>...</th>\n",
       "      <td>...</td>\n",
       "      <td>...</td>\n",
       "      <td>...</td>\n",
       "      <td>...</td>\n",
       "      <td>...</td>\n",
       "    </tr>\n",
       "    <tr>\n",
       "      <th>4995</th>\n",
       "      <td>dog</td>\n",
       "      <td>dog</td>\n",
       "      <td>dog</td>\n",
       "      <td>dog</td>\n",
       "      <td>dog</td>\n",
       "    </tr>\n",
       "    <tr>\n",
       "      <th>4996</th>\n",
       "      <td>dog</td>\n",
       "      <td>dog</td>\n",
       "      <td>cat</td>\n",
       "      <td>cat</td>\n",
       "      <td>dog</td>\n",
       "    </tr>\n",
       "    <tr>\n",
       "      <th>4997</th>\n",
       "      <td>dog</td>\n",
       "      <td>cat</td>\n",
       "      <td>cat</td>\n",
       "      <td>dog</td>\n",
       "      <td>dog</td>\n",
       "    </tr>\n",
       "    <tr>\n",
       "      <th>4998</th>\n",
       "      <td>cat</td>\n",
       "      <td>cat</td>\n",
       "      <td>cat</td>\n",
       "      <td>cat</td>\n",
       "      <td>dog</td>\n",
       "    </tr>\n",
       "    <tr>\n",
       "      <th>4999</th>\n",
       "      <td>dog</td>\n",
       "      <td>dog</td>\n",
       "      <td>dog</td>\n",
       "      <td>dog</td>\n",
       "      <td>dog</td>\n",
       "    </tr>\n",
       "  </tbody>\n",
       "</table>\n",
       "<p>5000 rows × 5 columns</p>\n",
       "</div>"
      ],
      "text/plain": [
       "     actual model1 model2 model3 model4\n",
       "0       cat    cat    dog    cat    dog\n",
       "1       dog    dog    cat    cat    dog\n",
       "2       dog    cat    cat    cat    dog\n",
       "3       dog    dog    dog    cat    dog\n",
       "4       cat    cat    cat    dog    dog\n",
       "...     ...    ...    ...    ...    ...\n",
       "4995    dog    dog    dog    dog    dog\n",
       "4996    dog    dog    cat    cat    dog\n",
       "4997    dog    cat    cat    dog    dog\n",
       "4998    cat    cat    cat    cat    dog\n",
       "4999    dog    dog    dog    dog    dog\n",
       "\n",
       "[5000 rows x 5 columns]"
      ]
     },
     "execution_count": 30,
     "metadata": {},
     "output_type": "execute_result"
    }
   ],
   "source": [
    "df = pd.read_csv('gives_you_paws.csv')\n",
    "df"
   ]
  },
  {
   "cell_type": "code",
   "execution_count": 31,
   "id": "11c830b5",
   "metadata": {
    "scrolled": true
   },
   "outputs": [
    {
     "data": {
      "text/plain": [
       "dog    3254\n",
       "cat    1746\n",
       "Name: actual, dtype: int64"
      ]
     },
     "execution_count": 31,
     "metadata": {},
     "output_type": "execute_result"
    }
   ],
   "source": [
    "df.actual.value_counts()"
   ]
  },
  {
   "cell_type": "markdown",
   "id": "eedc0a68",
   "metadata": {},
   "source": [
    "Since dogs are the most common type of pet, we will create a baseline model of all 'dog'"
   ]
  },
  {
   "cell_type": "code",
   "execution_count": 32,
   "id": "dece171e",
   "metadata": {},
   "outputs": [],
   "source": [
    "df1 = df[['actual', 'model1']].copy()\n",
    "df1['base_pred'] = 'dog'\n",
    "df2 = df[['actual', 'model2']].copy()\n",
    "df2['base_pred'] = 'dog'\n",
    "df3 = df[['actual', 'model3']].copy()\n",
    "df3['base_pred'] = 'dog'\n",
    "df4 = df[['actual', 'model4']].copy()\n",
    "df4['base_pred'] = 'dog'"
   ]
  },
  {
   "cell_type": "markdown",
   "id": "d2ab1b41",
   "metadata": {},
   "source": [
    "#### a. In terms of accuracy, how do the various models compare to the baseline model? Are any of the models better than the baseline?"
   ]
  },
  {
   "cell_type": "code",
   "execution_count": 33,
   "id": "7a34e2fe",
   "metadata": {},
   "outputs": [
    {
     "name": "stdout",
     "output_type": "stream",
     "text": [
      "   model1 accuracy: 80.74%\n",
      "baseline accuracy: 65.08%\n"
     ]
    }
   ],
   "source": [
    "# Model and baseline accuracy:\n",
    "\n",
    "model1_accuracy = (df1.actual == df1.model1).mean()\n",
    "baseline_accuracy = (df1.actual == df1.base_pred).mean()\n",
    "\n",
    "print(f'   model1 accuracy: {model1_accuracy:.2%}')\n",
    "print(f'baseline accuracy: {baseline_accuracy:.2%}')"
   ]
  },
  {
   "cell_type": "code",
   "execution_count": 34,
   "id": "44ff71e5",
   "metadata": {},
   "outputs": [
    {
     "name": "stdout",
     "output_type": "stream",
     "text": [
      "   model2 accuracy: 63.04%\n",
      "baseline accuracy: 65.08%\n"
     ]
    }
   ],
   "source": [
    "# Model and baseline accuracy:\n",
    "\n",
    "model2_accuracy = (df2.actual == df2.model2).mean()\n",
    "\n",
    "print(f'   model2 accuracy: {model2_accuracy:.2%}')\n",
    "print(f'baseline accuracy: {baseline_accuracy:.2%}')"
   ]
  },
  {
   "cell_type": "code",
   "execution_count": 35,
   "id": "acf71715",
   "metadata": {},
   "outputs": [
    {
     "name": "stdout",
     "output_type": "stream",
     "text": [
      "   model3 accuracy: 50.96%\n",
      "baseline accuracy: 65.08%\n"
     ]
    }
   ],
   "source": [
    "# Model and baseline accuracy:\n",
    "\n",
    "model3_accuracy = (df3.actual == df3.model3).mean()\n",
    "\n",
    "print(f'   model3 accuracy: {model3_accuracy:.2%}')\n",
    "print(f'baseline accuracy: {baseline_accuracy:.2%}')"
   ]
  },
  {
   "cell_type": "code",
   "execution_count": 36,
   "id": "29dec807",
   "metadata": {},
   "outputs": [
    {
     "name": "stdout",
     "output_type": "stream",
     "text": [
      "   model4 accuracy: 74.26%\n",
      "baseline accuracy: 65.08%\n"
     ]
    }
   ],
   "source": [
    "# Model and baseline accuracy:\n",
    "\n",
    "model4_accuracy = (df4.actual == df4.model4).mean()\n",
    "\n",
    "print(f'   model4 accuracy: {model4_accuracy:.2%}')\n",
    "print(f'baseline accuracy: {baseline_accuracy:.2%}')"
   ]
  },
  {
   "cell_type": "markdown",
   "id": "b302ce52",
   "metadata": {},
   "source": [
    "Models 1 and 4 show a higher accuracy thtn the baseline accuracy with model 1's being the highest overall at 80.74%. The accuaracies of models 3 and 4 are below the baseline accuracy of 65%, so these two would be the least fitting models."
   ]
  },
  {
   "cell_type": "markdown",
   "id": "53b2c9cc",
   "metadata": {},
   "source": [
    "#### b. Suppose you are working on a team that solely deals with dog pictures. Which of these models would you recomend for Phase I? For Phase II?"
   ]
  },
  {
   "cell_type": "markdown",
   "id": "b95998b2",
   "metadata": {},
   "source": [
    "Model 1:"
   ]
  },
  {
   "cell_type": "code",
   "execution_count": 37,
   "id": "cab1c315",
   "metadata": {},
   "outputs": [
    {
     "name": "stdout",
     "output_type": "stream",
     "text": [
      "model 1 recall: 80.33%\n"
     ]
    }
   ],
   "source": [
    "subset1 = df1[df1.actual == 'dog']\n",
    "subset1\n",
    "\n",
    "# calculate recall for model and baseline\n",
    "model1_recall = (subset1.actual == subset1.model1).mean()\n",
    "\n",
    "print(f'model 1 recall: {model1_recall:.2%}')"
   ]
  },
  {
   "cell_type": "code",
   "execution_count": 38,
   "id": "5e683bbe",
   "metadata": {},
   "outputs": [
    {
     "name": "stdout",
     "output_type": "stream",
     "text": [
      "model 1 precision: 89.00%\n"
     ]
    }
   ],
   "source": [
    "# Precision: only look at the subset where we made positive prediction (i.e. prediction == 'coffee')\n",
    "\n",
    "subset1 = df1[df1.model1 == 'dog']\n",
    "subset1\n",
    "model1_precision = (subset1.actual == subset1.model1).mean()\n",
    "print(f'model 1 precision: {model1_precision:.2%}')"
   ]
  },
  {
   "cell_type": "code",
   "execution_count": 39,
   "id": "21f783bf",
   "metadata": {},
   "outputs": [
    {
     "data": {
      "text/plain": [
       "0.8444516233241802"
      ]
     },
     "execution_count": 39,
     "metadata": {},
     "output_type": "execute_result"
    }
   ],
   "source": [
    "f1_1 = (2 * model1_recall * model1_precision) / (model1_precision + model1_recall)\n",
    "f1_1"
   ]
  },
  {
   "cell_type": "markdown",
   "id": "34b74c5a",
   "metadata": {},
   "source": [
    "Model 2:"
   ]
  },
  {
   "cell_type": "code",
   "execution_count": 40,
   "id": "1a546ca7",
   "metadata": {},
   "outputs": [
    {
     "name": "stdout",
     "output_type": "stream",
     "text": [
      "model 2 recall: 49.08%\n"
     ]
    }
   ],
   "source": [
    "subset2 = df2[df2.actual == 'dog']\n",
    "subset2\n",
    "\n",
    "# calculate recall for model and baseline\n",
    "model2_recall = (subset2.actual == subset2.model2).mean()\n",
    "\n",
    "print(f'model 2 recall: {model2_recall:.2%}')"
   ]
  },
  {
   "cell_type": "code",
   "execution_count": 41,
   "id": "d5606601",
   "metadata": {
    "scrolled": true
   },
   "outputs": [
    {
     "name": "stdout",
     "output_type": "stream",
     "text": [
      "model 2 precision: 89.32%\n"
     ]
    }
   ],
   "source": [
    "# Precision: only look at the subset where we made positive prediction (i.e. prediction == 'coffee')\n",
    "\n",
    "subset2 = df2[df2.model2 == 'dog']\n",
    "subset2\n",
    "model2_precision = (subset2.actual == subset2.model2).mean()\n",
    "print(f'model 2 precision: {model2_precision:.2%}')"
   ]
  },
  {
   "cell_type": "code",
   "execution_count": 42,
   "id": "c2fab18f",
   "metadata": {},
   "outputs": [
    {
     "data": {
      "text/plain": [
       "0.6334787782625942"
      ]
     },
     "execution_count": 42,
     "metadata": {},
     "output_type": "execute_result"
    }
   ],
   "source": [
    "f1_2 = (2 * model2_recall * model2_precision) / (model2_precision + model2_recall)\n",
    "f1_2"
   ]
  },
  {
   "cell_type": "markdown",
   "id": "890459ce",
   "metadata": {},
   "source": [
    "Model 3:"
   ]
  },
  {
   "cell_type": "code",
   "execution_count": 43,
   "id": "f0ec32d6",
   "metadata": {
    "scrolled": true
   },
   "outputs": [
    {
     "name": "stdout",
     "output_type": "stream",
     "text": [
      "model 3 recall: 50.86%\n"
     ]
    }
   ],
   "source": [
    "subset3 = df3[df3.actual == 'dog']\n",
    "subset3\n",
    "\n",
    "# calculate recall for model and baseline\n",
    "model3_recall = (subset3.actual == subset3.model3).mean()\n",
    "\n",
    "print(f'model 3 recall: {model3_recall:.2%}')"
   ]
  },
  {
   "cell_type": "code",
   "execution_count": 44,
   "id": "111012ae",
   "metadata": {},
   "outputs": [
    {
     "name": "stdout",
     "output_type": "stream",
     "text": [
      "model 3 precision: 65.99%\n"
     ]
    }
   ],
   "source": [
    "# Precision: only look at the subset where we made positive prediction (i.e. prediction == 'coffee')\n",
    "\n",
    "subset3 = df3[df3.model3 == 'dog']\n",
    "subset3\n",
    "model3_precision = (subset3.actual == subset3.model3).mean()\n",
    "print(f'model 3 precision: {model3_precision:.2%}')"
   ]
  },
  {
   "cell_type": "code",
   "execution_count": 45,
   "id": "8dbc1b85",
   "metadata": {},
   "outputs": [
    {
     "data": {
      "text/plain": [
       "0.5744533148212425"
      ]
     },
     "execution_count": 45,
     "metadata": {},
     "output_type": "execute_result"
    }
   ],
   "source": [
    "f1_3 = (2 * model3_recall * model3_precision) / (model3_precision + model3_recall)\n",
    "f1_3"
   ]
  },
  {
   "cell_type": "markdown",
   "id": "8ec3bd6a",
   "metadata": {},
   "source": [
    "Model 4:"
   ]
  },
  {
   "cell_type": "code",
   "execution_count": 46,
   "id": "2c858478",
   "metadata": {},
   "outputs": [
    {
     "name": "stdout",
     "output_type": "stream",
     "text": [
      "model 4 recall: 95.57%\n"
     ]
    }
   ],
   "source": [
    "subset4 = df4[df4.actual == 'dog']\n",
    "subset4\n",
    "\n",
    "# calculate recall for model and baseline\n",
    "model4_recall = (subset4.actual == subset4.model4).mean()\n",
    "\n",
    "print(f'model 4 recall: {model4_recall:.2%}')"
   ]
  },
  {
   "cell_type": "code",
   "execution_count": 47,
   "id": "522a484d",
   "metadata": {},
   "outputs": [
    {
     "name": "stdout",
     "output_type": "stream",
     "text": [
      "model 4 precision: 73.12%\n"
     ]
    }
   ],
   "source": [
    "# Precision: only look at the subset where we made positive prediction (i.e. prediction == 'coffee')\n",
    "\n",
    "subset4 = df4[df4.model4 == 'dog']\n",
    "subset4\n",
    "model4_precision = (subset4.actual == subset4.model4).mean()\n",
    "print(f'model 4 precision: {model4_precision:.2%}')"
   ]
  },
  {
   "cell_type": "code",
   "execution_count": 48,
   "id": "5e4db2b4",
   "metadata": {},
   "outputs": [
    {
     "data": {
      "text/plain": [
       "0.8285600106567205"
      ]
     },
     "execution_count": 48,
     "metadata": {},
     "output_type": "execute_result"
    }
   ],
   "source": [
    "f1_4 = (2 * model4_recall * model4_precision) / (model4_precision + model4_recall)\n",
    "f1_4"
   ]
  },
  {
   "cell_type": "markdown",
   "id": "bdc07c10",
   "metadata": {},
   "source": [
    "For Phase I, since the selected images will be reviewed in Phase II, I would prefer a model that incorrectly tags dogs as cats (False Negative). Model 4 has the highest recall, so that would be the best model for Phase 1."
   ]
  },
  {
   "cell_type": "markdown",
   "id": "2b63da4b",
   "metadata": {},
   "source": [
    "For Phase II, we want the model that incorrectly tags cats as dogs (False Positive), so the model with the highest precision is model 2."
   ]
  },
  {
   "cell_type": "markdown",
   "id": "38ec443d",
   "metadata": {},
   "source": [
    "#### c. Suppose you are working on a team that solely deals with cat pictures. Which of these models would you recomend for Phase I? For Phase II?"
   ]
  },
  {
   "cell_type": "code",
   "execution_count": 52,
   "id": "1b9386fb",
   "metadata": {
    "scrolled": true
   },
   "outputs": [
    {
     "name": "stdout",
     "output_type": "stream",
     "text": [
      "model 1 recall: 81.50%\n",
      "model 1 precision: 68.98%\n"
     ]
    }
   ],
   "source": [
    "subset1 = df1[df1.actual == 'cat']\n",
    "subset1\n",
    "\n",
    "# calculate recall for model and baseline\n",
    "model1_recall = (subset1.actual == subset1.model1).mean()\n",
    "\n",
    "print(f'model 1 recall: {model1_recall:.2%}')\n",
    "\n",
    "\n",
    "# Precision: only look at the subset where we made positive prediction (i.e. prediction == 'coffee')\n",
    "\n",
    "subset1 = df1[df1.model1 == 'cat']\n",
    "subset1\n",
    "model1_precision = (subset1.actual == subset1.model1).mean()\n",
    "print(f'model 1 precision: {model1_precision:.2%}')"
   ]
  },
  {
   "cell_type": "code",
   "execution_count": 53,
   "id": "b24ae5c9",
   "metadata": {},
   "outputs": [
    {
     "name": "stdout",
     "output_type": "stream",
     "text": [
      "model 2 recall: 89.06%\n",
      "model 2 precision: 48.41%\n"
     ]
    }
   ],
   "source": [
    "subset2 = df2[df2.actual == 'cat']\n",
    "subset2\n",
    "\n",
    "# calculate recall for model and baseline\n",
    "model2_recall = (subset2.actual == subset2.model2).mean()\n",
    "\n",
    "print(f'model 2 recall: {model2_recall:.2%}')\n",
    "\n",
    "# Precision: only look at the subset where we made positive prediction (i.e. prediction == 'coffee')\n",
    "\n",
    "subset2 = df2[df2.model2 == 'cat']\n",
    "subset2\n",
    "model2_precision = (subset2.actual == subset2.model2).mean()\n",
    "print(f'model 2 precision: {model2_precision:.2%}')"
   ]
  },
  {
   "cell_type": "code",
   "execution_count": 54,
   "id": "6fdc12a7",
   "metadata": {},
   "outputs": [
    {
     "name": "stdout",
     "output_type": "stream",
     "text": [
      "model 3 recall: 51.15%\n",
      "model 3 precision: 35.83%\n"
     ]
    }
   ],
   "source": [
    "subset3 = df3[df3.actual == 'cat']\n",
    "subset3\n",
    "\n",
    "# calculate recall for model and baseline\n",
    "model3_recall = (subset3.actual == subset3.model3).mean()\n",
    "\n",
    "print(f'model 3 recall: {model3_recall:.2%}')\n",
    "\n",
    "\n",
    "# Precision: only look at the subset where we made positive prediction (i.e. prediction == 'coffee')\n",
    "\n",
    "subset3 = df3[df3.model3 == 'cat']\n",
    "subset3\n",
    "model3_precision = (subset3.actual == subset3.model3).mean()\n",
    "print(f'model 3 precision: {model3_precision:.2%}')"
   ]
  },
  {
   "cell_type": "code",
   "execution_count": 56,
   "id": "ff8a5bca",
   "metadata": {},
   "outputs": [
    {
     "name": "stdout",
     "output_type": "stream",
     "text": [
      "model 4 recall: 34.54%\n",
      "model 4 precision: 80.72%\n"
     ]
    }
   ],
   "source": [
    "subset4 = df4[df4.actual == 'cat']\n",
    "subset4\n",
    "\n",
    "# calculate recall for model and baseline\n",
    "model4_recall = (subset4.actual == subset4.model4).mean()\n",
    "\n",
    "print(f'model 4 recall: {model4_recall:.2%}')\n",
    "\n",
    "\n",
    "# Precision: only look at the subset where we made positive prediction (i.e. prediction == 'coffee')\n",
    "\n",
    "subset4 = df4[df4.model4 == 'cat']\n",
    "subset4\n",
    "model4_precision = (subset4.actual == subset4.model4).mean()\n",
    "print(f'model 4 precision: {model4_precision:.2%}')"
   ]
  },
  {
   "cell_type": "markdown",
   "id": "ad92b3fd",
   "metadata": {},
   "source": [
    "For Phase I, the model 2 has the highest recall.\n",
    "\n",
    "For Phase II, model 4 has the highest precision."
   ]
  },
  {
   "cell_type": "code",
   "execution_count": null,
   "id": "7510dda8",
   "metadata": {},
   "outputs": [],
   "source": []
  }
 ],
 "metadata": {
  "kernelspec": {
   "display_name": "Python 3",
   "language": "python",
   "name": "python3"
  },
  "language_info": {
   "codemirror_mode": {
    "name": "ipython",
    "version": 3
   },
   "file_extension": ".py",
   "mimetype": "text/x-python",
   "name": "python",
   "nbconvert_exporter": "python",
   "pygments_lexer": "ipython3",
   "version": "3.8.8"
  }
 },
 "nbformat": 4,
 "nbformat_minor": 5
}
