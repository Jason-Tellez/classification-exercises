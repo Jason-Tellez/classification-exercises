{
 "cells": [
  {
   "cell_type": "code",
   "execution_count": 1,
   "id": "4fe9cd7f",
   "metadata": {},
   "outputs": [],
   "source": [
    "import pandas as pd\n",
    "from sklearn.metrics import confusion_matrix"
   ]
  },
  {
   "cell_type": "markdown",
   "id": "11617c89",
   "metadata": {},
   "source": [
    "### 1. Given the following confusion matrix, evaluate (by hand) the model's performance.\n",
    "\n",
    "|               | pred dog   | pred cat   |\n",
    "|:------------  |-----------:|-----------:|\n",
    "| actual dog    |         46 |         7  |\n",
    "| actual cat    |         13 |         34 |"
   ]
  },
  {
   "cell_type": "code",
   "execution_count": 9,
   "id": "067e9aa4",
   "metadata": {},
   "outputs": [
    {
     "data": {
      "text/html": [
       "<div>\n",
       "<style scoped>\n",
       "    .dataframe tbody tr th:only-of-type {\n",
       "        vertical-align: middle;\n",
       "    }\n",
       "\n",
       "    .dataframe tbody tr th {\n",
       "        vertical-align: top;\n",
       "    }\n",
       "\n",
       "    .dataframe thead th {\n",
       "        text-align: right;\n",
       "    }\n",
       "</style>\n",
       "<table border=\"1\" class=\"dataframe\">\n",
       "  <thead>\n",
       "    <tr style=\"text-align: right;\">\n",
       "      <th></th>\n",
       "      <th>pred_dog</th>\n",
       "      <th>pred_cat</th>\n",
       "    </tr>\n",
       "  </thead>\n",
       "  <tbody>\n",
       "    <tr>\n",
       "      <th>actual_dog</th>\n",
       "      <td>46</td>\n",
       "      <td>7</td>\n",
       "    </tr>\n",
       "    <tr>\n",
       "      <th>actual_cat</th>\n",
       "      <td>13</td>\n",
       "      <td>34</td>\n",
       "    </tr>\n",
       "  </tbody>\n",
       "</table>\n",
       "</div>"
      ],
      "text/plain": [
       "            pred_dog  pred_cat\n",
       "actual_dog        46         7\n",
       "actual_cat        13        34"
      ]
     },
     "execution_count": 9,
     "metadata": {},
     "output_type": "execute_result"
    }
   ],
   "source": [
    "r = {'pred_dog': 46, 'pred_cat':7}\n",
    "df = pd.DataFrame(data=r, index=['actual_dog', 'actual_cat'], columns=['pred_dog','pred_cat'])\n",
    "df.pred_dog['actual_cat'] = df.pred_dog['actual_cat'] - 33\n",
    "df.pred_cat['actual_cat'] = df.pred_cat['actual_cat'] + 27\n",
    "df"
   ]
  },
  {
   "cell_type": "markdown",
   "id": "14accb77",
   "metadata": {},
   "source": [
    "-Positive case: a dog\n",
    "\n",
    "-Negative case: a cat"
   ]
  },
  {
   "cell_type": "code",
   "execution_count": null,
   "id": "6404281d",
   "metadata": {},
   "outputs": [],
   "source": [
    "True"
   ]
  },
  {
   "cell_type": "code",
   "execution_count": 19,
   "id": "0ba76d34",
   "metadata": {},
   "outputs": [],
   "source": [
    "#True positive: Predict dog and actual dog\n",
    "tp = df.pred_dog[0]\n",
    "\n",
    "#True negative: Predict cat and actual cat\n",
    "tn = df.pred_cat[1]\n",
    "\n",
    "#False positive: Predict dog and actual cat\n",
    "fp = df.pred_dog[1]\n",
    "\n",
    "#False negative: Predict cat and actual dog\n",
    "fn = df.pred_cat[0]"
   ]
  },
  {
   "cell_type": "markdown",
   "id": "64e2bc03",
   "metadata": {},
   "source": [
    "**Accuracy**: (TP + TN) / (TP + TN + FP + FN)"
   ]
  },
  {
   "cell_type": "code",
   "execution_count": 29,
   "id": "28c867f4",
   "metadata": {},
   "outputs": [
    {
     "name": "stdout",
     "output_type": "stream",
     "text": [
      "0.8%\n"
     ]
    }
   ],
   "source": [
    "print(f'{round((tp + tn) / (tp + tn + fp + fn), 2)}%')"
   ]
  },
  {
   "cell_type": "markdown",
   "id": "3120bede",
   "metadata": {},
   "source": [
    "**Precision**: TP / (TP + FP)"
   ]
  },
  {
   "cell_type": "code",
   "execution_count": 30,
   "id": "c64fbdfd",
   "metadata": {},
   "outputs": [
    {
     "name": "stdout",
     "output_type": "stream",
     "text": [
      "0.78%\n"
     ]
    }
   ],
   "source": [
    "print(f'{round(tp/(tp+fp), 2)}%')"
   ]
  },
  {
   "cell_type": "markdown",
   "id": "92dc93e6",
   "metadata": {},
   "source": [
    "**Recall**: TP / (TP + FN)"
   ]
  },
  {
   "cell_type": "code",
   "execution_count": 31,
   "id": "b3925e31",
   "metadata": {},
   "outputs": [
    {
     "name": "stdout",
     "output_type": "stream",
     "text": [
      "0.87%\n"
     ]
    }
   ],
   "source": [
    "print(f'{round(tp/(tp+fn), 2)}%')"
   ]
  },
  {
   "cell_type": "code",
   "execution_count": null,
   "id": "08355100",
   "metadata": {},
   "outputs": [],
   "source": []
  }
 ],
 "metadata": {
  "kernelspec": {
   "display_name": "Python 3",
   "language": "python",
   "name": "python3"
  },
  "language_info": {
   "codemirror_mode": {
    "name": "ipython",
    "version": 3
   },
   "file_extension": ".py",
   "mimetype": "text/x-python",
   "name": "python",
   "nbconvert_exporter": "python",
   "pygments_lexer": "ipython3",
   "version": "3.8.8"
  }
 },
 "nbformat": 4,
 "nbformat_minor": 5
}
