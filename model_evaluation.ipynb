{
 "cells": [
  {
   "cell_type": "code",
   "execution_count": 86,
   "id": "c492d85a",
   "metadata": {},
   "outputs": [],
   "source": [
    "import pandas as pd\n",
    "import numpy as np\n",
    "from sklearn.metrics import confusion_matrix\n",
    "import sklearn.metrics"
   ]
  },
  {
   "cell_type": "markdown",
   "id": "76c1b2de",
   "metadata": {},
   "source": [
    "### 2. Given the following confusion matrix, evaluate (by hand) the model's performance.\n",
    "\n",
    "|               | pred dog   | pred cat   |\n",
    "|:------------  |-----------:|-----------:|\n",
    "| actual dog    |         46 |         7  |\n",
    "| actual cat    |         13 |         34 |\n",
    "\n",
    "\n",
    "#### a. In the context of this problem, what is a false positive?\n",
    "\n",
    "#### b. In the context of this problem, what is a false negative?\n",
    "\n",
    "#### c. How would you describe this model?"
   ]
  },
  {
   "cell_type": "code",
   "execution_count": 87,
   "id": "c56a8309",
   "metadata": {},
   "outputs": [
    {
     "data": {
      "text/html": [
       "<div>\n",
       "<style scoped>\n",
       "    .dataframe tbody tr th:only-of-type {\n",
       "        vertical-align: middle;\n",
       "    }\n",
       "\n",
       "    .dataframe tbody tr th {\n",
       "        vertical-align: top;\n",
       "    }\n",
       "\n",
       "    .dataframe thead th {\n",
       "        text-align: right;\n",
       "    }\n",
       "</style>\n",
       "<table border=\"1\" class=\"dataframe\">\n",
       "  <thead>\n",
       "    <tr style=\"text-align: right;\">\n",
       "      <th></th>\n",
       "      <th>pred_dog</th>\n",
       "      <th>pred_cat</th>\n",
       "    </tr>\n",
       "  </thead>\n",
       "  <tbody>\n",
       "    <tr>\n",
       "      <th>actual_dog</th>\n",
       "      <td>46</td>\n",
       "      <td>7</td>\n",
       "    </tr>\n",
       "    <tr>\n",
       "      <th>actual_cat</th>\n",
       "      <td>13</td>\n",
       "      <td>34</td>\n",
       "    </tr>\n",
       "  </tbody>\n",
       "</table>\n",
       "</div>"
      ],
      "text/plain": [
       "            pred_dog  pred_cat\n",
       "actual_dog        46         7\n",
       "actual_cat        13        34"
      ]
     },
     "execution_count": 87,
     "metadata": {},
     "output_type": "execute_result"
    }
   ],
   "source": [
    "r = {'pred_dog': 46, 'pred_cat':7}\n",
    "df = pd.DataFrame(data=r, index=['actual_dog', 'actual_cat'], columns=['pred_dog','pred_cat'])\n",
    "df.pred_dog['actual_cat'] = df.pred_dog['actual_cat'] - 33\n",
    "df.pred_cat['actual_cat'] = df.pred_cat['actual_cat'] + 27\n",
    "df"
   ]
  },
  {
   "cell_type": "markdown",
   "id": "f0e95717",
   "metadata": {},
   "source": [
    "-Positive case: a dog\n",
    "\n",
    "-Negative case: a cat"
   ]
  },
  {
   "cell_type": "markdown",
   "id": "c92e993c",
   "metadata": {},
   "source": [
    "**Define the outcomes**"
   ]
  },
  {
   "cell_type": "code",
   "execution_count": 88,
   "id": "f6588778",
   "metadata": {},
   "outputs": [],
   "source": [
    "#True positive: Predict dog and actual dog\n",
    "tp = df.pred_dog[0]\n",
    "\n",
    "#True negative: Predict cat and actual cat\n",
    "tn = df.pred_cat[1]\n",
    "\n",
    "#False positive: Predict dog and actual cat\n",
    "fp = df.pred_dog[1]\n",
    "\n",
    "#False negative: Predict cat and actual dog\n",
    "fn = df.pred_cat[0]"
   ]
  },
  {
   "cell_type": "markdown",
   "id": "bf0f4a41",
   "metadata": {},
   "source": [
    "**Accuracy**: (TP + TN) / (TP + TN + FP + FN)"
   ]
  },
  {
   "cell_type": "code",
   "execution_count": 89,
   "id": "d8255177",
   "metadata": {},
   "outputs": [
    {
     "name": "stdout",
     "output_type": "stream",
     "text": [
      "0.8%\n"
     ]
    }
   ],
   "source": [
    "print(f'{round((tp + tn) / (tp + tn + fp + fn), 2)}%')"
   ]
  },
  {
   "cell_type": "markdown",
   "id": "a40e7cbc",
   "metadata": {},
   "source": [
    "**Precision**: TP / (TP + FP)"
   ]
  },
  {
   "cell_type": "code",
   "execution_count": 90,
   "id": "eed9e092",
   "metadata": {},
   "outputs": [
    {
     "name": "stdout",
     "output_type": "stream",
     "text": [
      "0.78%\n"
     ]
    }
   ],
   "source": [
    "print(f'{round(tp/(tp+fp), 2)}%')"
   ]
  },
  {
   "cell_type": "markdown",
   "id": "7b1f234c",
   "metadata": {},
   "source": [
    "**Recall**: TP / (TP + FN)"
   ]
  },
  {
   "cell_type": "code",
   "execution_count": 91,
   "id": "bd744e0a",
   "metadata": {},
   "outputs": [
    {
     "name": "stdout",
     "output_type": "stream",
     "text": [
      "0.87%\n"
     ]
    }
   ],
   "source": [
    "print(f'{round(tp/(tp+fn), 2)}%')"
   ]
  },
  {
   "cell_type": "markdown",
   "id": "17397ed9",
   "metadata": {},
   "source": [
    "This model is used to predict wether an animal is a cat or dog with a respectable success-rate."
   ]
  },
  {
   "cell_type": "markdown",
   "id": "c74dfbcb",
   "metadata": {},
   "source": [
    "\n"
   ]
  },
  {
   "cell_type": "markdown",
   "id": "f08d1af4",
   "metadata": {},
   "source": [
    "### 3. You are working as a datascientist working for Codeup Cody Creator (C3 for short), a rubber-duck manufacturing plant. Unfortunately, some of the rubber ducks that are produced will have defects. Your team has built several models that try to predict those defects. Use the predictions dataset and pandas to help answer the following questions:\n",
    "\n",
    "#### a. An internal team wants to investigate the cause of the manufacturing defects. They tell you that they want to identify as many of the ducks that have a defect as possible. Which evaluation metric would be appropriate here? Which model would be the best fit for this use case?"
   ]
  },
  {
   "cell_type": "code",
   "execution_count": 92,
   "id": "26080374",
   "metadata": {
    "scrolled": false
   },
   "outputs": [
    {
     "data": {
      "text/html": [
       "<div>\n",
       "<style scoped>\n",
       "    .dataframe tbody tr th:only-of-type {\n",
       "        vertical-align: middle;\n",
       "    }\n",
       "\n",
       "    .dataframe tbody tr th {\n",
       "        vertical-align: top;\n",
       "    }\n",
       "\n",
       "    .dataframe thead th {\n",
       "        text-align: right;\n",
       "    }\n",
       "</style>\n",
       "<table border=\"1\" class=\"dataframe\">\n",
       "  <thead>\n",
       "    <tr style=\"text-align: right;\">\n",
       "      <th></th>\n",
       "      <th>actual</th>\n",
       "      <th>model1</th>\n",
       "      <th>model2</th>\n",
       "      <th>model3</th>\n",
       "    </tr>\n",
       "  </thead>\n",
       "  <tbody>\n",
       "    <tr>\n",
       "      <th>0</th>\n",
       "      <td>No Defect</td>\n",
       "      <td>No Defect</td>\n",
       "      <td>Defect</td>\n",
       "      <td>No Defect</td>\n",
       "    </tr>\n",
       "    <tr>\n",
       "      <th>1</th>\n",
       "      <td>No Defect</td>\n",
       "      <td>No Defect</td>\n",
       "      <td>Defect</td>\n",
       "      <td>Defect</td>\n",
       "    </tr>\n",
       "    <tr>\n",
       "      <th>2</th>\n",
       "      <td>No Defect</td>\n",
       "      <td>No Defect</td>\n",
       "      <td>Defect</td>\n",
       "      <td>No Defect</td>\n",
       "    </tr>\n",
       "    <tr>\n",
       "      <th>3</th>\n",
       "      <td>No Defect</td>\n",
       "      <td>Defect</td>\n",
       "      <td>Defect</td>\n",
       "      <td>Defect</td>\n",
       "    </tr>\n",
       "    <tr>\n",
       "      <th>4</th>\n",
       "      <td>No Defect</td>\n",
       "      <td>No Defect</td>\n",
       "      <td>Defect</td>\n",
       "      <td>No Defect</td>\n",
       "    </tr>\n",
       "    <tr>\n",
       "      <th>...</th>\n",
       "      <td>...</td>\n",
       "      <td>...</td>\n",
       "      <td>...</td>\n",
       "      <td>...</td>\n",
       "    </tr>\n",
       "    <tr>\n",
       "      <th>195</th>\n",
       "      <td>No Defect</td>\n",
       "      <td>No Defect</td>\n",
       "      <td>Defect</td>\n",
       "      <td>Defect</td>\n",
       "    </tr>\n",
       "    <tr>\n",
       "      <th>196</th>\n",
       "      <td>Defect</td>\n",
       "      <td>Defect</td>\n",
       "      <td>No Defect</td>\n",
       "      <td>No Defect</td>\n",
       "    </tr>\n",
       "    <tr>\n",
       "      <th>197</th>\n",
       "      <td>No Defect</td>\n",
       "      <td>No Defect</td>\n",
       "      <td>No Defect</td>\n",
       "      <td>No Defect</td>\n",
       "    </tr>\n",
       "    <tr>\n",
       "      <th>198</th>\n",
       "      <td>No Defect</td>\n",
       "      <td>No Defect</td>\n",
       "      <td>Defect</td>\n",
       "      <td>Defect</td>\n",
       "    </tr>\n",
       "    <tr>\n",
       "      <th>199</th>\n",
       "      <td>No Defect</td>\n",
       "      <td>No Defect</td>\n",
       "      <td>No Defect</td>\n",
       "      <td>Defect</td>\n",
       "    </tr>\n",
       "  </tbody>\n",
       "</table>\n",
       "<p>200 rows × 4 columns</p>\n",
       "</div>"
      ],
      "text/plain": [
       "        actual     model1     model2     model3\n",
       "0    No Defect  No Defect     Defect  No Defect\n",
       "1    No Defect  No Defect     Defect     Defect\n",
       "2    No Defect  No Defect     Defect  No Defect\n",
       "3    No Defect     Defect     Defect     Defect\n",
       "4    No Defect  No Defect     Defect  No Defect\n",
       "..         ...        ...        ...        ...\n",
       "195  No Defect  No Defect     Defect     Defect\n",
       "196     Defect     Defect  No Defect  No Defect\n",
       "197  No Defect  No Defect  No Defect  No Defect\n",
       "198  No Defect  No Defect     Defect     Defect\n",
       "199  No Defect  No Defect  No Defect     Defect\n",
       "\n",
       "[200 rows x 4 columns]"
      ]
     },
     "execution_count": 92,
     "metadata": {},
     "output_type": "execute_result"
    }
   ],
   "source": [
    "df = pd.read_csv('c3.csv')\n",
    "df"
   ]
  },
  {
   "cell_type": "markdown",
   "id": "13c378af",
   "metadata": {},
   "source": [
    "**Cases**\n",
    "\n",
    "-Positive case: Defect\n",
    "\n",
    "-Negative case: No Defect\n",
    "\n",
    "**Outcomes**\n",
    "\n",
    "    True Posititve: Defective product marked defective\n",
    "    \n",
    "    True Negative: Working product marked not defective\n",
    "    \n",
    "    False Positive: Defective product marked not defective\n",
    "    \n",
    "    False Negative: Working product marked defective\n",
    "    \n",
    "    \n",
    "**Model 1:**"
   ]
  },
  {
   "cell_type": "code",
   "execution_count": 93,
   "id": "772253bd",
   "metadata": {
    "scrolled": true
   },
   "outputs": [
    {
     "data": {
      "text/html": [
       "<div>\n",
       "<style scoped>\n",
       "    .dataframe tbody tr th:only-of-type {\n",
       "        vertical-align: middle;\n",
       "    }\n",
       "\n",
       "    .dataframe tbody tr th {\n",
       "        vertical-align: top;\n",
       "    }\n",
       "\n",
       "    .dataframe thead th {\n",
       "        text-align: right;\n",
       "    }\n",
       "</style>\n",
       "<table border=\"1\" class=\"dataframe\">\n",
       "  <thead>\n",
       "    <tr style=\"text-align: right;\">\n",
       "      <th>actual</th>\n",
       "      <th>Defect</th>\n",
       "      <th>No Defect</th>\n",
       "    </tr>\n",
       "    <tr>\n",
       "      <th>model1</th>\n",
       "      <th></th>\n",
       "      <th></th>\n",
       "    </tr>\n",
       "  </thead>\n",
       "  <tbody>\n",
       "    <tr>\n",
       "      <th>Defect</th>\n",
       "      <td>8</td>\n",
       "      <td>2</td>\n",
       "    </tr>\n",
       "    <tr>\n",
       "      <th>No Defect</th>\n",
       "      <td>8</td>\n",
       "      <td>182</td>\n",
       "    </tr>\n",
       "  </tbody>\n",
       "</table>\n",
       "</div>"
      ],
      "text/plain": [
       "actual     Defect  No Defect\n",
       "model1                      \n",
       "Defect          8          2\n",
       "No Defect       8        182"
      ]
     },
     "execution_count": 93,
     "metadata": {},
     "output_type": "execute_result"
    }
   ],
   "source": [
    "# We first make a table for the first model and turn it into a cross table\n",
    "df1 = df[['actual','model1']].copy()\n",
    "\n",
    "df_cross1 = pd.crosstab(df1.model1, df1.actual)\n",
    "df_cross1"
   ]
  },
  {
   "cell_type": "markdown",
   "id": "6a6531e3",
   "metadata": {},
   "source": [
    "Since we are looking to catch all defects (true positives and false negatives), we would find all defects and not just correctly predicted defects.\n",
    "\n",
    "Therefore, the recall metric is the mnost appropriate."
   ]
  },
  {
   "cell_type": "code",
   "execution_count": 94,
   "id": "6b0b7f96",
   "metadata": {},
   "outputs": [
    {
     "data": {
      "text/plain": [
       "No Defect    184\n",
       "Defect        16\n",
       "Name: actual, dtype: int64"
      ]
     },
     "execution_count": 94,
     "metadata": {},
     "output_type": "execute_result"
    }
   ],
   "source": [
    "df.actual.value_counts()"
   ]
  },
  {
   "cell_type": "code",
   "execution_count": 95,
   "id": "176e43c4",
   "metadata": {
    "scrolled": true
   },
   "outputs": [],
   "source": [
    "# We add a column for the baseline prediction ('No Defect' since it is the most common outcome)\n",
    "df1['baseline_pred'] = 'No Defect'"
   ]
  },
  {
   "cell_type": "code",
   "execution_count": 96,
   "id": "b159d361",
   "metadata": {},
   "outputs": [
    {
     "name": "stdout",
     "output_type": "stream",
     "text": [
      "   model accuracy: 95.00%\n",
      "baseline accuracy: 92.00%\n"
     ]
    }
   ],
   "source": [
    "model_accuracy = (df1.actual == df1.model1).mean()\n",
    "baseline_accuracy = (df1.actual == df1.baseline_pred).mean()\n",
    "\n",
    "print(f'   model accuracy: {model_accuracy:.2%}')\n",
    "print(f'baseline accuracy: {baseline_accuracy:.2%}')"
   ]
  },
  {
   "cell_type": "code",
   "execution_count": 97,
   "id": "7c4fa390",
   "metadata": {},
   "outputs": [
    {
     "data": {
      "text/html": [
       "<div>\n",
       "<style scoped>\n",
       "    .dataframe tbody tr th:only-of-type {\n",
       "        vertical-align: middle;\n",
       "    }\n",
       "\n",
       "    .dataframe tbody tr th {\n",
       "        vertical-align: top;\n",
       "    }\n",
       "\n",
       "    .dataframe thead th {\n",
       "        text-align: right;\n",
       "    }\n",
       "</style>\n",
       "<table border=\"1\" class=\"dataframe\">\n",
       "  <thead>\n",
       "    <tr style=\"text-align: right;\">\n",
       "      <th></th>\n",
       "      <th>actual</th>\n",
       "      <th>model1</th>\n",
       "      <th>baseline_pred</th>\n",
       "    </tr>\n",
       "  </thead>\n",
       "  <tbody>\n",
       "    <tr>\n",
       "      <th>13</th>\n",
       "      <td>Defect</td>\n",
       "      <td>No Defect</td>\n",
       "      <td>No Defect</td>\n",
       "    </tr>\n",
       "    <tr>\n",
       "      <th>30</th>\n",
       "      <td>Defect</td>\n",
       "      <td>Defect</td>\n",
       "      <td>No Defect</td>\n",
       "    </tr>\n",
       "    <tr>\n",
       "      <th>65</th>\n",
       "      <td>Defect</td>\n",
       "      <td>Defect</td>\n",
       "      <td>No Defect</td>\n",
       "    </tr>\n",
       "    <tr>\n",
       "      <th>70</th>\n",
       "      <td>Defect</td>\n",
       "      <td>Defect</td>\n",
       "      <td>No Defect</td>\n",
       "    </tr>\n",
       "    <tr>\n",
       "      <th>74</th>\n",
       "      <td>Defect</td>\n",
       "      <td>No Defect</td>\n",
       "      <td>No Defect</td>\n",
       "    </tr>\n",
       "    <tr>\n",
       "      <th>87</th>\n",
       "      <td>Defect</td>\n",
       "      <td>No Defect</td>\n",
       "      <td>No Defect</td>\n",
       "    </tr>\n",
       "    <tr>\n",
       "      <th>118</th>\n",
       "      <td>Defect</td>\n",
       "      <td>No Defect</td>\n",
       "      <td>No Defect</td>\n",
       "    </tr>\n",
       "    <tr>\n",
       "      <th>135</th>\n",
       "      <td>Defect</td>\n",
       "      <td>Defect</td>\n",
       "      <td>No Defect</td>\n",
       "    </tr>\n",
       "    <tr>\n",
       "      <th>140</th>\n",
       "      <td>Defect</td>\n",
       "      <td>No Defect</td>\n",
       "      <td>No Defect</td>\n",
       "    </tr>\n",
       "    <tr>\n",
       "      <th>147</th>\n",
       "      <td>Defect</td>\n",
       "      <td>Defect</td>\n",
       "      <td>No Defect</td>\n",
       "    </tr>\n",
       "    <tr>\n",
       "      <th>163</th>\n",
       "      <td>Defect</td>\n",
       "      <td>Defect</td>\n",
       "      <td>No Defect</td>\n",
       "    </tr>\n",
       "    <tr>\n",
       "      <th>171</th>\n",
       "      <td>Defect</td>\n",
       "      <td>No Defect</td>\n",
       "      <td>No Defect</td>\n",
       "    </tr>\n",
       "    <tr>\n",
       "      <th>176</th>\n",
       "      <td>Defect</td>\n",
       "      <td>No Defect</td>\n",
       "      <td>No Defect</td>\n",
       "    </tr>\n",
       "    <tr>\n",
       "      <th>186</th>\n",
       "      <td>Defect</td>\n",
       "      <td>No Defect</td>\n",
       "      <td>No Defect</td>\n",
       "    </tr>\n",
       "    <tr>\n",
       "      <th>194</th>\n",
       "      <td>Defect</td>\n",
       "      <td>Defect</td>\n",
       "      <td>No Defect</td>\n",
       "    </tr>\n",
       "    <tr>\n",
       "      <th>196</th>\n",
       "      <td>Defect</td>\n",
       "      <td>Defect</td>\n",
       "      <td>No Defect</td>\n",
       "    </tr>\n",
       "  </tbody>\n",
       "</table>\n",
       "</div>"
      ],
      "text/plain": [
       "     actual     model1 baseline_pred\n",
       "13   Defect  No Defect     No Defect\n",
       "30   Defect     Defect     No Defect\n",
       "65   Defect     Defect     No Defect\n",
       "70   Defect     Defect     No Defect\n",
       "74   Defect  No Defect     No Defect\n",
       "87   Defect  No Defect     No Defect\n",
       "118  Defect  No Defect     No Defect\n",
       "135  Defect     Defect     No Defect\n",
       "140  Defect  No Defect     No Defect\n",
       "147  Defect     Defect     No Defect\n",
       "163  Defect     Defect     No Defect\n",
       "171  Defect  No Defect     No Defect\n",
       "176  Defect  No Defect     No Defect\n",
       "186  Defect  No Defect     No Defect\n",
       "194  Defect     Defect     No Defect\n",
       "196  Defect     Defect     No Defect"
      ]
     },
     "execution_count": 97,
     "metadata": {},
     "output_type": "execute_result"
    }
   ],
   "source": [
    "# Recall - calculated using subset\n",
    "# Only looking at actual 'Defects' (i.e actual == Defect)\n",
    "subset1 = df1[df1.actual == 'Defect']\n",
    "subset1"
   ]
  },
  {
   "cell_type": "code",
   "execution_count": 98,
   "id": "17cdf11d",
   "metadata": {},
   "outputs": [
    {
     "name": "stdout",
     "output_type": "stream",
     "text": [
      "model 1 recall: 50.00%\n"
     ]
    }
   ],
   "source": [
    "# calculate recall for model and baseline\n",
    "model_recall = (subset1.actual == subset1.model1).mean()\n",
    "\n",
    "print(f'model 1 recall: {model_recall:.2%}')"
   ]
  },
  {
   "cell_type": "markdown",
   "id": "c505685f",
   "metadata": {},
   "source": [
    "We repeat the process for the next models:"
   ]
  },
  {
   "cell_type": "markdown",
   "id": "8c68a85b",
   "metadata": {},
   "source": [
    "**Model 2:**"
   ]
  },
  {
   "cell_type": "code",
   "execution_count": 99,
   "id": "91849b8a",
   "metadata": {},
   "outputs": [
    {
     "data": {
      "text/html": [
       "<div>\n",
       "<style scoped>\n",
       "    .dataframe tbody tr th:only-of-type {\n",
       "        vertical-align: middle;\n",
       "    }\n",
       "\n",
       "    .dataframe tbody tr th {\n",
       "        vertical-align: top;\n",
       "    }\n",
       "\n",
       "    .dataframe thead th {\n",
       "        text-align: right;\n",
       "    }\n",
       "</style>\n",
       "<table border=\"1\" class=\"dataframe\">\n",
       "  <thead>\n",
       "    <tr style=\"text-align: right;\">\n",
       "      <th>actual</th>\n",
       "      <th>Defect</th>\n",
       "      <th>No Defect</th>\n",
       "    </tr>\n",
       "    <tr>\n",
       "      <th>model2</th>\n",
       "      <th></th>\n",
       "      <th></th>\n",
       "    </tr>\n",
       "  </thead>\n",
       "  <tbody>\n",
       "    <tr>\n",
       "      <th>Defect</th>\n",
       "      <td>9</td>\n",
       "      <td>81</td>\n",
       "    </tr>\n",
       "    <tr>\n",
       "      <th>No Defect</th>\n",
       "      <td>7</td>\n",
       "      <td>103</td>\n",
       "    </tr>\n",
       "  </tbody>\n",
       "</table>\n",
       "</div>"
      ],
      "text/plain": [
       "actual     Defect  No Defect\n",
       "model2                      \n",
       "Defect          9         81\n",
       "No Defect       7        103"
      ]
     },
     "execution_count": 99,
     "metadata": {},
     "output_type": "execute_result"
    }
   ],
   "source": [
    "df2 = df[['actual','model2']].copy()\n",
    "df_cross2 = pd.crosstab(df2.model2, df2.actual)\n",
    "df_cross2"
   ]
  },
  {
   "cell_type": "code",
   "execution_count": 100,
   "id": "8cb41937",
   "metadata": {},
   "outputs": [
    {
     "name": "stdout",
     "output_type": "stream",
     "text": [
      " model 2 accuracy: 56.00%\n",
      "baseline accuracy: 92.00%\n"
     ]
    }
   ],
   "source": [
    "model_accuracy = (df2.actual == df2.model2).mean()\n",
    "\n",
    "print(f' model 2 accuracy: {model_accuracy:.2%}')\n",
    "print(f'baseline accuracy: {baseline_accuracy:.2%}')"
   ]
  },
  {
   "cell_type": "code",
   "execution_count": 101,
   "id": "6dace033",
   "metadata": {
    "scrolled": true
   },
   "outputs": [
    {
     "data": {
      "text/html": [
       "<div>\n",
       "<style scoped>\n",
       "    .dataframe tbody tr th:only-of-type {\n",
       "        vertical-align: middle;\n",
       "    }\n",
       "\n",
       "    .dataframe tbody tr th {\n",
       "        vertical-align: top;\n",
       "    }\n",
       "\n",
       "    .dataframe thead th {\n",
       "        text-align: right;\n",
       "    }\n",
       "</style>\n",
       "<table border=\"1\" class=\"dataframe\">\n",
       "  <thead>\n",
       "    <tr style=\"text-align: right;\">\n",
       "      <th></th>\n",
       "      <th>actual</th>\n",
       "      <th>model2</th>\n",
       "    </tr>\n",
       "  </thead>\n",
       "  <tbody>\n",
       "    <tr>\n",
       "      <th>13</th>\n",
       "      <td>Defect</td>\n",
       "      <td>Defect</td>\n",
       "    </tr>\n",
       "    <tr>\n",
       "      <th>30</th>\n",
       "      <td>Defect</td>\n",
       "      <td>No Defect</td>\n",
       "    </tr>\n",
       "    <tr>\n",
       "      <th>65</th>\n",
       "      <td>Defect</td>\n",
       "      <td>Defect</td>\n",
       "    </tr>\n",
       "    <tr>\n",
       "      <th>70</th>\n",
       "      <td>Defect</td>\n",
       "      <td>Defect</td>\n",
       "    </tr>\n",
       "    <tr>\n",
       "      <th>74</th>\n",
       "      <td>Defect</td>\n",
       "      <td>No Defect</td>\n",
       "    </tr>\n",
       "    <tr>\n",
       "      <th>87</th>\n",
       "      <td>Defect</td>\n",
       "      <td>Defect</td>\n",
       "    </tr>\n",
       "    <tr>\n",
       "      <th>118</th>\n",
       "      <td>Defect</td>\n",
       "      <td>Defect</td>\n",
       "    </tr>\n",
       "    <tr>\n",
       "      <th>135</th>\n",
       "      <td>Defect</td>\n",
       "      <td>No Defect</td>\n",
       "    </tr>\n",
       "    <tr>\n",
       "      <th>140</th>\n",
       "      <td>Defect</td>\n",
       "      <td>Defect</td>\n",
       "    </tr>\n",
       "    <tr>\n",
       "      <th>147</th>\n",
       "      <td>Defect</td>\n",
       "      <td>No Defect</td>\n",
       "    </tr>\n",
       "    <tr>\n",
       "      <th>163</th>\n",
       "      <td>Defect</td>\n",
       "      <td>Defect</td>\n",
       "    </tr>\n",
       "    <tr>\n",
       "      <th>171</th>\n",
       "      <td>Defect</td>\n",
       "      <td>Defect</td>\n",
       "    </tr>\n",
       "    <tr>\n",
       "      <th>176</th>\n",
       "      <td>Defect</td>\n",
       "      <td>Defect</td>\n",
       "    </tr>\n",
       "    <tr>\n",
       "      <th>186</th>\n",
       "      <td>Defect</td>\n",
       "      <td>No Defect</td>\n",
       "    </tr>\n",
       "    <tr>\n",
       "      <th>194</th>\n",
       "      <td>Defect</td>\n",
       "      <td>No Defect</td>\n",
       "    </tr>\n",
       "    <tr>\n",
       "      <th>196</th>\n",
       "      <td>Defect</td>\n",
       "      <td>No Defect</td>\n",
       "    </tr>\n",
       "  </tbody>\n",
       "</table>\n",
       "</div>"
      ],
      "text/plain": [
       "     actual     model2\n",
       "13   Defect     Defect\n",
       "30   Defect  No Defect\n",
       "65   Defect     Defect\n",
       "70   Defect     Defect\n",
       "74   Defect  No Defect\n",
       "87   Defect     Defect\n",
       "118  Defect     Defect\n",
       "135  Defect  No Defect\n",
       "140  Defect     Defect\n",
       "147  Defect  No Defect\n",
       "163  Defect     Defect\n",
       "171  Defect     Defect\n",
       "176  Defect     Defect\n",
       "186  Defect  No Defect\n",
       "194  Defect  No Defect\n",
       "196  Defect  No Defect"
      ]
     },
     "execution_count": 101,
     "metadata": {},
     "output_type": "execute_result"
    }
   ],
   "source": [
    "# Recall - calculate on subset of data\n",
    "# Only looking at actual 'Defects' (i.e actual == Defect)\n",
    "subset2 = df2[df2.actual == 'Defect']\n",
    "subset2"
   ]
  },
  {
   "cell_type": "code",
   "execution_count": 102,
   "id": "3a15c88d",
   "metadata": {
    "scrolled": true
   },
   "outputs": [
    {
     "name": "stdout",
     "output_type": "stream",
     "text": [
      "model 2 recall: 56.25%\n"
     ]
    }
   ],
   "source": [
    "# calculate recall for model and baseline\n",
    "model_recall = (subset2.actual == subset2.model2).mean()\n",
    "\n",
    "print(f'model 2 recall: {model_recall:.2%}')"
   ]
  },
  {
   "cell_type": "markdown",
   "id": "c6c804a3",
   "metadata": {},
   "source": [
    "**Model 3:**"
   ]
  },
  {
   "cell_type": "code",
   "execution_count": 103,
   "id": "065b7397",
   "metadata": {},
   "outputs": [
    {
     "data": {
      "text/html": [
       "<div>\n",
       "<style scoped>\n",
       "    .dataframe tbody tr th:only-of-type {\n",
       "        vertical-align: middle;\n",
       "    }\n",
       "\n",
       "    .dataframe tbody tr th {\n",
       "        vertical-align: top;\n",
       "    }\n",
       "\n",
       "    .dataframe thead th {\n",
       "        text-align: right;\n",
       "    }\n",
       "</style>\n",
       "<table border=\"1\" class=\"dataframe\">\n",
       "  <thead>\n",
       "    <tr style=\"text-align: right;\">\n",
       "      <th>actual</th>\n",
       "      <th>Defect</th>\n",
       "      <th>No Defect</th>\n",
       "    </tr>\n",
       "    <tr>\n",
       "      <th>model3</th>\n",
       "      <th></th>\n",
       "      <th></th>\n",
       "    </tr>\n",
       "  </thead>\n",
       "  <tbody>\n",
       "    <tr>\n",
       "      <th>Defect</th>\n",
       "      <td>13</td>\n",
       "      <td>86</td>\n",
       "    </tr>\n",
       "    <tr>\n",
       "      <th>No Defect</th>\n",
       "      <td>3</td>\n",
       "      <td>98</td>\n",
       "    </tr>\n",
       "  </tbody>\n",
       "</table>\n",
       "</div>"
      ],
      "text/plain": [
       "actual     Defect  No Defect\n",
       "model3                      \n",
       "Defect         13         86\n",
       "No Defect       3         98"
      ]
     },
     "execution_count": 103,
     "metadata": {},
     "output_type": "execute_result"
    }
   ],
   "source": [
    "df3 = df[['actual','model3']].copy()\n",
    "df_cross3 = pd.crosstab(df3.model3, df3.actual)\n",
    "df_cross3"
   ]
  },
  {
   "cell_type": "code",
   "execution_count": 104,
   "id": "d19e650a",
   "metadata": {},
   "outputs": [
    {
     "name": "stdout",
     "output_type": "stream",
     "text": [
      "   model accuracy: 55.50%\n",
      "baseline accuracy: 92.00%\n"
     ]
    }
   ],
   "source": [
    "model_accuracy = (df3.actual == df3.model3).mean()\n",
    "\n",
    "print(f'   model accuracy: {model_accuracy:.2%}')\n",
    "print(f'baseline accuracy: {baseline_accuracy:.2%}')"
   ]
  },
  {
   "cell_type": "code",
   "execution_count": 105,
   "id": "e1e1bbe7",
   "metadata": {},
   "outputs": [
    {
     "data": {
      "text/html": [
       "<div>\n",
       "<style scoped>\n",
       "    .dataframe tbody tr th:only-of-type {\n",
       "        vertical-align: middle;\n",
       "    }\n",
       "\n",
       "    .dataframe tbody tr th {\n",
       "        vertical-align: top;\n",
       "    }\n",
       "\n",
       "    .dataframe thead th {\n",
       "        text-align: right;\n",
       "    }\n",
       "</style>\n",
       "<table border=\"1\" class=\"dataframe\">\n",
       "  <thead>\n",
       "    <tr style=\"text-align: right;\">\n",
       "      <th></th>\n",
       "      <th>actual</th>\n",
       "      <th>model3</th>\n",
       "    </tr>\n",
       "  </thead>\n",
       "  <tbody>\n",
       "    <tr>\n",
       "      <th>13</th>\n",
       "      <td>Defect</td>\n",
       "      <td>Defect</td>\n",
       "    </tr>\n",
       "    <tr>\n",
       "      <th>30</th>\n",
       "      <td>Defect</td>\n",
       "      <td>Defect</td>\n",
       "    </tr>\n",
       "    <tr>\n",
       "      <th>65</th>\n",
       "      <td>Defect</td>\n",
       "      <td>Defect</td>\n",
       "    </tr>\n",
       "    <tr>\n",
       "      <th>70</th>\n",
       "      <td>Defect</td>\n",
       "      <td>Defect</td>\n",
       "    </tr>\n",
       "    <tr>\n",
       "      <th>74</th>\n",
       "      <td>Defect</td>\n",
       "      <td>Defect</td>\n",
       "    </tr>\n",
       "    <tr>\n",
       "      <th>87</th>\n",
       "      <td>Defect</td>\n",
       "      <td>Defect</td>\n",
       "    </tr>\n",
       "    <tr>\n",
       "      <th>118</th>\n",
       "      <td>Defect</td>\n",
       "      <td>No Defect</td>\n",
       "    </tr>\n",
       "    <tr>\n",
       "      <th>135</th>\n",
       "      <td>Defect</td>\n",
       "      <td>Defect</td>\n",
       "    </tr>\n",
       "    <tr>\n",
       "      <th>140</th>\n",
       "      <td>Defect</td>\n",
       "      <td>Defect</td>\n",
       "    </tr>\n",
       "    <tr>\n",
       "      <th>147</th>\n",
       "      <td>Defect</td>\n",
       "      <td>Defect</td>\n",
       "    </tr>\n",
       "    <tr>\n",
       "      <th>163</th>\n",
       "      <td>Defect</td>\n",
       "      <td>Defect</td>\n",
       "    </tr>\n",
       "    <tr>\n",
       "      <th>171</th>\n",
       "      <td>Defect</td>\n",
       "      <td>Defect</td>\n",
       "    </tr>\n",
       "    <tr>\n",
       "      <th>176</th>\n",
       "      <td>Defect</td>\n",
       "      <td>Defect</td>\n",
       "    </tr>\n",
       "    <tr>\n",
       "      <th>186</th>\n",
       "      <td>Defect</td>\n",
       "      <td>No Defect</td>\n",
       "    </tr>\n",
       "    <tr>\n",
       "      <th>194</th>\n",
       "      <td>Defect</td>\n",
       "      <td>Defect</td>\n",
       "    </tr>\n",
       "    <tr>\n",
       "      <th>196</th>\n",
       "      <td>Defect</td>\n",
       "      <td>No Defect</td>\n",
       "    </tr>\n",
       "  </tbody>\n",
       "</table>\n",
       "</div>"
      ],
      "text/plain": [
       "     actual     model3\n",
       "13   Defect     Defect\n",
       "30   Defect     Defect\n",
       "65   Defect     Defect\n",
       "70   Defect     Defect\n",
       "74   Defect     Defect\n",
       "87   Defect     Defect\n",
       "118  Defect  No Defect\n",
       "135  Defect     Defect\n",
       "140  Defect     Defect\n",
       "147  Defect     Defect\n",
       "163  Defect     Defect\n",
       "171  Defect     Defect\n",
       "176  Defect     Defect\n",
       "186  Defect  No Defect\n",
       "194  Defect     Defect\n",
       "196  Defect  No Defect"
      ]
     },
     "execution_count": 105,
     "metadata": {},
     "output_type": "execute_result"
    }
   ],
   "source": [
    "# Recall - calculate on subset of data\n",
    "# Only looking at actual 'Defects' (i.e actual == Defect)\n",
    "subset3 = df3[df3.actual == 'Defect']\n",
    "subset3"
   ]
  },
  {
   "cell_type": "code",
   "execution_count": 106,
   "id": "3765dc03",
   "metadata": {},
   "outputs": [
    {
     "name": "stdout",
     "output_type": "stream",
     "text": [
      "model 3 recall: 81.25%\n"
     ]
    }
   ],
   "source": [
    "# calculate recall for model and baseline\n",
    "model_recall = (subset3.actual == subset3.model3).mean()\n",
    "\n",
    "print(f'model 3 recall: {model_recall:.2%}')"
   ]
  },
  {
   "cell_type": "markdown",
   "id": "43a82fcd",
   "metadata": {},
   "source": [
    "Since model 3 has the highest recall percentage of all models, model 3 would be the best model to use."
   ]
  },
  {
   "cell_type": "markdown",
   "id": "9dd9ead5",
   "metadata": {},
   "source": [
    "#### b. Recently several stories in the local news have come out highlighting customers who received a rubber duck with a defect, and portraying C3 in a bad light. The PR team has decided to launch a program that gives customers with a defective duck a vacation to Hawaii. They need you to predict which ducks will have defects, but tell you the really don't want to accidentally give out a vacation package when the duck really doesn't have a defect. Which evaluation metric would be appropriate here? Which model would be the best fit for this use case?"
   ]
  },
  {
   "cell_type": "markdown",
   "id": "1149531c",
   "metadata": {},
   "source": [
    "Since we are trying to avoid false positives, the precision metric would be the best tool to use."
   ]
  },
  {
   "cell_type": "markdown",
   "id": "01502b84",
   "metadata": {},
   "source": [
    "**Model 1:**"
   ]
  },
  {
   "cell_type": "code",
   "execution_count": 107,
   "id": "af634b2d",
   "metadata": {},
   "outputs": [
    {
     "data": {
      "text/html": [
       "<div>\n",
       "<style scoped>\n",
       "    .dataframe tbody tr th:only-of-type {\n",
       "        vertical-align: middle;\n",
       "    }\n",
       "\n",
       "    .dataframe tbody tr th {\n",
       "        vertical-align: top;\n",
       "    }\n",
       "\n",
       "    .dataframe thead th {\n",
       "        text-align: right;\n",
       "    }\n",
       "</style>\n",
       "<table border=\"1\" class=\"dataframe\">\n",
       "  <thead>\n",
       "    <tr style=\"text-align: right;\">\n",
       "      <th></th>\n",
       "      <th>actual</th>\n",
       "      <th>model1</th>\n",
       "      <th>baseline_pred</th>\n",
       "    </tr>\n",
       "  </thead>\n",
       "  <tbody>\n",
       "    <tr>\n",
       "      <th>3</th>\n",
       "      <td>No Defect</td>\n",
       "      <td>Defect</td>\n",
       "      <td>No Defect</td>\n",
       "    </tr>\n",
       "    <tr>\n",
       "      <th>30</th>\n",
       "      <td>Defect</td>\n",
       "      <td>Defect</td>\n",
       "      <td>No Defect</td>\n",
       "    </tr>\n",
       "    <tr>\n",
       "      <th>62</th>\n",
       "      <td>No Defect</td>\n",
       "      <td>Defect</td>\n",
       "      <td>No Defect</td>\n",
       "    </tr>\n",
       "    <tr>\n",
       "      <th>65</th>\n",
       "      <td>Defect</td>\n",
       "      <td>Defect</td>\n",
       "      <td>No Defect</td>\n",
       "    </tr>\n",
       "    <tr>\n",
       "      <th>70</th>\n",
       "      <td>Defect</td>\n",
       "      <td>Defect</td>\n",
       "      <td>No Defect</td>\n",
       "    </tr>\n",
       "    <tr>\n",
       "      <th>135</th>\n",
       "      <td>Defect</td>\n",
       "      <td>Defect</td>\n",
       "      <td>No Defect</td>\n",
       "    </tr>\n",
       "    <tr>\n",
       "      <th>147</th>\n",
       "      <td>Defect</td>\n",
       "      <td>Defect</td>\n",
       "      <td>No Defect</td>\n",
       "    </tr>\n",
       "    <tr>\n",
       "      <th>163</th>\n",
       "      <td>Defect</td>\n",
       "      <td>Defect</td>\n",
       "      <td>No Defect</td>\n",
       "    </tr>\n",
       "    <tr>\n",
       "      <th>194</th>\n",
       "      <td>Defect</td>\n",
       "      <td>Defect</td>\n",
       "      <td>No Defect</td>\n",
       "    </tr>\n",
       "    <tr>\n",
       "      <th>196</th>\n",
       "      <td>Defect</td>\n",
       "      <td>Defect</td>\n",
       "      <td>No Defect</td>\n",
       "    </tr>\n",
       "  </tbody>\n",
       "</table>\n",
       "</div>"
      ],
      "text/plain": [
       "        actual  model1 baseline_pred\n",
       "3    No Defect  Defect     No Defect\n",
       "30      Defect  Defect     No Defect\n",
       "62   No Defect  Defect     No Defect\n",
       "65      Defect  Defect     No Defect\n",
       "70      Defect  Defect     No Defect\n",
       "135     Defect  Defect     No Defect\n",
       "147     Defect  Defect     No Defect\n",
       "163     Defect  Defect     No Defect\n",
       "194     Defect  Defect     No Defect\n",
       "196     Defect  Defect     No Defect"
      ]
     },
     "execution_count": 107,
     "metadata": {},
     "output_type": "execute_result"
    }
   ],
   "source": [
    "#We make a subset of observations with all predictions being positives\n",
    "subset1 = df1[df1.model1 == 'Defect']\n",
    "subset1"
   ]
  },
  {
   "cell_type": "code",
   "execution_count": 108,
   "id": "a055650e",
   "metadata": {},
   "outputs": [
    {
     "name": "stdout",
     "output_type": "stream",
     "text": [
      "model 1 precision: 80.00%\n"
     ]
    }
   ],
   "source": [
    "model_precision = (subset1.actual == subset1.model1).mean()\n",
    "print(f'model 1 precision: {model_precision:.2%}')"
   ]
  },
  {
   "cell_type": "markdown",
   "id": "bcb2aefd",
   "metadata": {},
   "source": [
    "**Model 2:**"
   ]
  },
  {
   "cell_type": "code",
   "execution_count": 109,
   "id": "4eabf770",
   "metadata": {},
   "outputs": [
    {
     "data": {
      "text/html": [
       "<div>\n",
       "<style scoped>\n",
       "    .dataframe tbody tr th:only-of-type {\n",
       "        vertical-align: middle;\n",
       "    }\n",
       "\n",
       "    .dataframe tbody tr th {\n",
       "        vertical-align: top;\n",
       "    }\n",
       "\n",
       "    .dataframe thead th {\n",
       "        text-align: right;\n",
       "    }\n",
       "</style>\n",
       "<table border=\"1\" class=\"dataframe\">\n",
       "  <thead>\n",
       "    <tr style=\"text-align: right;\">\n",
       "      <th></th>\n",
       "      <th>actual</th>\n",
       "      <th>model2</th>\n",
       "    </tr>\n",
       "  </thead>\n",
       "  <tbody>\n",
       "    <tr>\n",
       "      <th>0</th>\n",
       "      <td>No Defect</td>\n",
       "      <td>Defect</td>\n",
       "    </tr>\n",
       "    <tr>\n",
       "      <th>1</th>\n",
       "      <td>No Defect</td>\n",
       "      <td>Defect</td>\n",
       "    </tr>\n",
       "    <tr>\n",
       "      <th>2</th>\n",
       "      <td>No Defect</td>\n",
       "      <td>Defect</td>\n",
       "    </tr>\n",
       "    <tr>\n",
       "      <th>3</th>\n",
       "      <td>No Defect</td>\n",
       "      <td>Defect</td>\n",
       "    </tr>\n",
       "    <tr>\n",
       "      <th>4</th>\n",
       "      <td>No Defect</td>\n",
       "      <td>Defect</td>\n",
       "    </tr>\n",
       "    <tr>\n",
       "      <th>...</th>\n",
       "      <td>...</td>\n",
       "      <td>...</td>\n",
       "    </tr>\n",
       "    <tr>\n",
       "      <th>183</th>\n",
       "      <td>No Defect</td>\n",
       "      <td>Defect</td>\n",
       "    </tr>\n",
       "    <tr>\n",
       "      <th>185</th>\n",
       "      <td>No Defect</td>\n",
       "      <td>Defect</td>\n",
       "    </tr>\n",
       "    <tr>\n",
       "      <th>193</th>\n",
       "      <td>No Defect</td>\n",
       "      <td>Defect</td>\n",
       "    </tr>\n",
       "    <tr>\n",
       "      <th>195</th>\n",
       "      <td>No Defect</td>\n",
       "      <td>Defect</td>\n",
       "    </tr>\n",
       "    <tr>\n",
       "      <th>198</th>\n",
       "      <td>No Defect</td>\n",
       "      <td>Defect</td>\n",
       "    </tr>\n",
       "  </tbody>\n",
       "</table>\n",
       "<p>90 rows × 2 columns</p>\n",
       "</div>"
      ],
      "text/plain": [
       "        actual  model2\n",
       "0    No Defect  Defect\n",
       "1    No Defect  Defect\n",
       "2    No Defect  Defect\n",
       "3    No Defect  Defect\n",
       "4    No Defect  Defect\n",
       "..         ...     ...\n",
       "183  No Defect  Defect\n",
       "185  No Defect  Defect\n",
       "193  No Defect  Defect\n",
       "195  No Defect  Defect\n",
       "198  No Defect  Defect\n",
       "\n",
       "[90 rows x 2 columns]"
      ]
     },
     "execution_count": 109,
     "metadata": {},
     "output_type": "execute_result"
    }
   ],
   "source": [
    "subset2 = df2[df2.model2 == 'Defect']\n",
    "subset2"
   ]
  },
  {
   "cell_type": "code",
   "execution_count": 110,
   "id": "1d533bfd",
   "metadata": {},
   "outputs": [
    {
     "name": "stdout",
     "output_type": "stream",
     "text": [
      "model precision: 10.00%\n"
     ]
    }
   ],
   "source": [
    "model_precision = (subset2.actual == subset2.model2).mean()\n",
    "print(f'model precision: {model_precision:.2%}')"
   ]
  },
  {
   "cell_type": "markdown",
   "id": "67623f60",
   "metadata": {},
   "source": [
    "**Model 3:**"
   ]
  },
  {
   "cell_type": "code",
   "execution_count": 111,
   "id": "7a82be0a",
   "metadata": {},
   "outputs": [
    {
     "data": {
      "text/html": [
       "<div>\n",
       "<style scoped>\n",
       "    .dataframe tbody tr th:only-of-type {\n",
       "        vertical-align: middle;\n",
       "    }\n",
       "\n",
       "    .dataframe tbody tr th {\n",
       "        vertical-align: top;\n",
       "    }\n",
       "\n",
       "    .dataframe thead th {\n",
       "        text-align: right;\n",
       "    }\n",
       "</style>\n",
       "<table border=\"1\" class=\"dataframe\">\n",
       "  <thead>\n",
       "    <tr style=\"text-align: right;\">\n",
       "      <th></th>\n",
       "      <th>actual</th>\n",
       "      <th>model3</th>\n",
       "    </tr>\n",
       "  </thead>\n",
       "  <tbody>\n",
       "    <tr>\n",
       "      <th>1</th>\n",
       "      <td>No Defect</td>\n",
       "      <td>Defect</td>\n",
       "    </tr>\n",
       "    <tr>\n",
       "      <th>3</th>\n",
       "      <td>No Defect</td>\n",
       "      <td>Defect</td>\n",
       "    </tr>\n",
       "    <tr>\n",
       "      <th>5</th>\n",
       "      <td>No Defect</td>\n",
       "      <td>Defect</td>\n",
       "    </tr>\n",
       "    <tr>\n",
       "      <th>9</th>\n",
       "      <td>No Defect</td>\n",
       "      <td>Defect</td>\n",
       "    </tr>\n",
       "    <tr>\n",
       "      <th>13</th>\n",
       "      <td>Defect</td>\n",
       "      <td>Defect</td>\n",
       "    </tr>\n",
       "    <tr>\n",
       "      <th>...</th>\n",
       "      <td>...</td>\n",
       "      <td>...</td>\n",
       "    </tr>\n",
       "    <tr>\n",
       "      <th>193</th>\n",
       "      <td>No Defect</td>\n",
       "      <td>Defect</td>\n",
       "    </tr>\n",
       "    <tr>\n",
       "      <th>194</th>\n",
       "      <td>Defect</td>\n",
       "      <td>Defect</td>\n",
       "    </tr>\n",
       "    <tr>\n",
       "      <th>195</th>\n",
       "      <td>No Defect</td>\n",
       "      <td>Defect</td>\n",
       "    </tr>\n",
       "    <tr>\n",
       "      <th>198</th>\n",
       "      <td>No Defect</td>\n",
       "      <td>Defect</td>\n",
       "    </tr>\n",
       "    <tr>\n",
       "      <th>199</th>\n",
       "      <td>No Defect</td>\n",
       "      <td>Defect</td>\n",
       "    </tr>\n",
       "  </tbody>\n",
       "</table>\n",
       "<p>99 rows × 2 columns</p>\n",
       "</div>"
      ],
      "text/plain": [
       "        actual  model3\n",
       "1    No Defect  Defect\n",
       "3    No Defect  Defect\n",
       "5    No Defect  Defect\n",
       "9    No Defect  Defect\n",
       "13      Defect  Defect\n",
       "..         ...     ...\n",
       "193  No Defect  Defect\n",
       "194     Defect  Defect\n",
       "195  No Defect  Defect\n",
       "198  No Defect  Defect\n",
       "199  No Defect  Defect\n",
       "\n",
       "[99 rows x 2 columns]"
      ]
     },
     "execution_count": 111,
     "metadata": {},
     "output_type": "execute_result"
    }
   ],
   "source": [
    "subset3 = df3[df3.model3 == 'Defect']\n",
    "subset3"
   ]
  },
  {
   "cell_type": "code",
   "execution_count": 112,
   "id": "cae9e75b",
   "metadata": {},
   "outputs": [
    {
     "name": "stdout",
     "output_type": "stream",
     "text": [
      "model precision: 13.13%\n"
     ]
    }
   ],
   "source": [
    "model_precision = (subset3.actual == subset3.model3).mean()\n",
    "print(f'model precision: {model_precision:.2%}')"
   ]
  },
  {
   "cell_type": "markdown",
   "id": "d0480a88",
   "metadata": {},
   "source": [
    "Since model 1 has the least false positives (least false positives), model 1 would be the best model to use to prevent unnecessary vactations to Hawaii."
   ]
  },
  {
   "cell_type": "markdown",
   "id": "7228e477",
   "metadata": {},
   "source": [
    "\n"
   ]
  },
  {
   "cell_type": "markdown",
   "id": "dc82d1bc",
   "metadata": {},
   "source": [
    "### 4. You are working as a data scientist for Gives You Paws ™, a subscription based service that shows you cute pictures of dogs or cats (or both for an additional fee). At Gives You Paws, anyone can upload pictures of their cats or dogs. The photos are then put through a two step process. First an automated algorithm tags pictures as either a cat or a dog (Phase I). Next, the photos that have been initially identified are put through another round of review, possibly with some human oversight, before being presented to the users (Phase II).\n",
    "\n",
    "### Given this dataset, use pandas to create a baseline model (i.e. a model that just predicts the most common class) and answer the following questions:"
   ]
  },
  {
   "cell_type": "code",
   "execution_count": 113,
   "id": "74a8bae4",
   "metadata": {
    "scrolled": true
   },
   "outputs": [
    {
     "data": {
      "text/html": [
       "<div>\n",
       "<style scoped>\n",
       "    .dataframe tbody tr th:only-of-type {\n",
       "        vertical-align: middle;\n",
       "    }\n",
       "\n",
       "    .dataframe tbody tr th {\n",
       "        vertical-align: top;\n",
       "    }\n",
       "\n",
       "    .dataframe thead th {\n",
       "        text-align: right;\n",
       "    }\n",
       "</style>\n",
       "<table border=\"1\" class=\"dataframe\">\n",
       "  <thead>\n",
       "    <tr style=\"text-align: right;\">\n",
       "      <th></th>\n",
       "      <th>actual</th>\n",
       "      <th>model1</th>\n",
       "      <th>model2</th>\n",
       "      <th>model3</th>\n",
       "      <th>model4</th>\n",
       "    </tr>\n",
       "  </thead>\n",
       "  <tbody>\n",
       "    <tr>\n",
       "      <th>0</th>\n",
       "      <td>cat</td>\n",
       "      <td>cat</td>\n",
       "      <td>dog</td>\n",
       "      <td>cat</td>\n",
       "      <td>dog</td>\n",
       "    </tr>\n",
       "    <tr>\n",
       "      <th>1</th>\n",
       "      <td>dog</td>\n",
       "      <td>dog</td>\n",
       "      <td>cat</td>\n",
       "      <td>cat</td>\n",
       "      <td>dog</td>\n",
       "    </tr>\n",
       "    <tr>\n",
       "      <th>2</th>\n",
       "      <td>dog</td>\n",
       "      <td>cat</td>\n",
       "      <td>cat</td>\n",
       "      <td>cat</td>\n",
       "      <td>dog</td>\n",
       "    </tr>\n",
       "    <tr>\n",
       "      <th>3</th>\n",
       "      <td>dog</td>\n",
       "      <td>dog</td>\n",
       "      <td>dog</td>\n",
       "      <td>cat</td>\n",
       "      <td>dog</td>\n",
       "    </tr>\n",
       "    <tr>\n",
       "      <th>4</th>\n",
       "      <td>cat</td>\n",
       "      <td>cat</td>\n",
       "      <td>cat</td>\n",
       "      <td>dog</td>\n",
       "      <td>dog</td>\n",
       "    </tr>\n",
       "    <tr>\n",
       "      <th>...</th>\n",
       "      <td>...</td>\n",
       "      <td>...</td>\n",
       "      <td>...</td>\n",
       "      <td>...</td>\n",
       "      <td>...</td>\n",
       "    </tr>\n",
       "    <tr>\n",
       "      <th>4995</th>\n",
       "      <td>dog</td>\n",
       "      <td>dog</td>\n",
       "      <td>dog</td>\n",
       "      <td>dog</td>\n",
       "      <td>dog</td>\n",
       "    </tr>\n",
       "    <tr>\n",
       "      <th>4996</th>\n",
       "      <td>dog</td>\n",
       "      <td>dog</td>\n",
       "      <td>cat</td>\n",
       "      <td>cat</td>\n",
       "      <td>dog</td>\n",
       "    </tr>\n",
       "    <tr>\n",
       "      <th>4997</th>\n",
       "      <td>dog</td>\n",
       "      <td>cat</td>\n",
       "      <td>cat</td>\n",
       "      <td>dog</td>\n",
       "      <td>dog</td>\n",
       "    </tr>\n",
       "    <tr>\n",
       "      <th>4998</th>\n",
       "      <td>cat</td>\n",
       "      <td>cat</td>\n",
       "      <td>cat</td>\n",
       "      <td>cat</td>\n",
       "      <td>dog</td>\n",
       "    </tr>\n",
       "    <tr>\n",
       "      <th>4999</th>\n",
       "      <td>dog</td>\n",
       "      <td>dog</td>\n",
       "      <td>dog</td>\n",
       "      <td>dog</td>\n",
       "      <td>dog</td>\n",
       "    </tr>\n",
       "  </tbody>\n",
       "</table>\n",
       "<p>5000 rows × 5 columns</p>\n",
       "</div>"
      ],
      "text/plain": [
       "     actual model1 model2 model3 model4\n",
       "0       cat    cat    dog    cat    dog\n",
       "1       dog    dog    cat    cat    dog\n",
       "2       dog    cat    cat    cat    dog\n",
       "3       dog    dog    dog    cat    dog\n",
       "4       cat    cat    cat    dog    dog\n",
       "...     ...    ...    ...    ...    ...\n",
       "4995    dog    dog    dog    dog    dog\n",
       "4996    dog    dog    cat    cat    dog\n",
       "4997    dog    cat    cat    dog    dog\n",
       "4998    cat    cat    cat    cat    dog\n",
       "4999    dog    dog    dog    dog    dog\n",
       "\n",
       "[5000 rows x 5 columns]"
      ]
     },
     "execution_count": 113,
     "metadata": {},
     "output_type": "execute_result"
    }
   ],
   "source": [
    "df = pd.read_csv('gives_you_paws.csv')\n",
    "df"
   ]
  },
  {
   "cell_type": "code",
   "execution_count": 114,
   "id": "a54e5757",
   "metadata": {
    "scrolled": true
   },
   "outputs": [
    {
     "data": {
      "text/plain": [
       "dog    3254\n",
       "cat    1746\n",
       "Name: actual, dtype: int64"
      ]
     },
     "execution_count": 114,
     "metadata": {},
     "output_type": "execute_result"
    }
   ],
   "source": [
    "df.actual.value_counts()"
   ]
  },
  {
   "cell_type": "markdown",
   "id": "dbdd651c",
   "metadata": {},
   "source": [
    "Since dogs are the most common type of pet, we will create a baseline model of all 'dog'"
   ]
  },
  {
   "cell_type": "code",
   "execution_count": 115,
   "id": "a5f0ff0b",
   "metadata": {},
   "outputs": [],
   "source": [
    "df1 = df[['actual', 'model1']].copy()\n",
    "df1['base_pred'] = 'dog'\n",
    "df2 = df[['actual', 'model2']].copy()\n",
    "df2['base_pred'] = 'dog'\n",
    "df3 = df[['actual', 'model3']].copy()\n",
    "df3['base_pred'] = 'dog'\n",
    "df4 = df[['actual', 'model4']].copy()\n",
    "df4['base_pred'] = 'dog'"
   ]
  },
  {
   "cell_type": "markdown",
   "id": "6606238f",
   "metadata": {},
   "source": [
    "#### a. In terms of accuracy, how do the various models compare to the baseline model? Are any of the models better than the baseline?"
   ]
  },
  {
   "cell_type": "code",
   "execution_count": 116,
   "id": "005d1bf2",
   "metadata": {},
   "outputs": [
    {
     "name": "stdout",
     "output_type": "stream",
     "text": [
      "   model1 accuracy: 80.74%\n",
      "baseline accuracy: 92.00%\n"
     ]
    }
   ],
   "source": [
    "# Model 1\n",
    "\n",
    "model1_accuracy = (df1.actual == df1.model1).mean()\n",
    "\n",
    "print(f'   model1 accuracy: {model1_accuracy:.2%}')\n",
    "print(f'baseline accuracy: {baseline_accuracy:.2%}')"
   ]
  },
  {
   "cell_type": "code",
   "execution_count": 117,
   "id": "a1d0ebde",
   "metadata": {},
   "outputs": [
    {
     "name": "stdout",
     "output_type": "stream",
     "text": [
      "   model2 accuracy: 63.04%\n",
      "baseline accuracy: 92.00%\n"
     ]
    }
   ],
   "source": [
    "# Model 2\n",
    "\n",
    "model2_accuracy = (df2.actual == df2.model2).mean()\n",
    "\n",
    "print(f'   model2 accuracy: {model2_accuracy:.2%}')\n",
    "print(f'baseline accuracy: {baseline_accuracy:.2%}')"
   ]
  },
  {
   "cell_type": "code",
   "execution_count": 118,
   "id": "f43b266e",
   "metadata": {},
   "outputs": [
    {
     "name": "stdout",
     "output_type": "stream",
     "text": [
      "   model3 accuracy: 50.96%\n",
      "baseline accuracy: 92.00%\n"
     ]
    }
   ],
   "source": [
    "# Model 3\n",
    "\n",
    "model3_accuracy = (df3.actual == df3.model3).mean()\n",
    "\n",
    "print(f'   model3 accuracy: {model3_accuracy:.2%}')\n",
    "print(f'baseline accuracy: {baseline_accuracy:.2%}')"
   ]
  },
  {
   "cell_type": "code",
   "execution_count": 119,
   "id": "e92382c4",
   "metadata": {},
   "outputs": [
    {
     "name": "stdout",
     "output_type": "stream",
     "text": [
      "   model4 accuracy: 74.26%\n",
      "baseline accuracy: 92.00%\n"
     ]
    }
   ],
   "source": [
    "# Model 4\n",
    "\n",
    "model4_accuracy = (df4.actual == df4.model4).mean()\n",
    "\n",
    "print(f'   model4 accuracy: {model4_accuracy:.2%}')\n",
    "print(f'baseline accuracy: {baseline_accuracy:.2%}')"
   ]
  },
  {
   "cell_type": "markdown",
   "id": "9b056f3f",
   "metadata": {},
   "source": [
    "Models 1 and 4 show a higher accuracy than the baseline accuracy with model 1's being the highest overall at 80.74%."
   ]
  },
  {
   "cell_type": "markdown",
   "id": "7e9179dd",
   "metadata": {},
   "source": [
    "#### b. Suppose you are working on a team that solely deals with dog pictures. Which of these models would you recommend for Phase I? For Phase II?"
   ]
  },
  {
   "cell_type": "markdown",
   "id": "0747083d",
   "metadata": {},
   "source": [
    "    -Since we are looking for dog pictures, we will assign 'dog' to the positive case.\n",
    "\n",
    "    -For Phase I, since the selected images could possibly be reviewed in Phase II, a model that is less likely to mislabel dogs as cats (False Negative) is preferable. A model with a higher recall metric will be the most appropriate."
   ]
  },
  {
   "cell_type": "markdown",
   "id": "b383ff60",
   "metadata": {},
   "source": [
    "Model 1:"
   ]
  },
  {
   "cell_type": "code",
   "execution_count": 120,
   "id": "2dc45fa7",
   "metadata": {},
   "outputs": [
    {
     "name": "stdout",
     "output_type": "stream",
     "text": [
      "model 1 recall: 80.33%\n",
      "model 1 precision: 89.00%\n"
     ]
    }
   ],
   "source": [
    "subset1 = df1[df1.actual == 'dog']\n",
    "subset1\n",
    "\n",
    "# calculate recall for model\n",
    "model1_recall = (subset1.actual == subset1.model1).mean()\n",
    "\n",
    "print(f'model 1 recall: {model1_recall:.2%}')\n",
    "\n",
    "# Precision: only look at the subset where we made positive prediction (i.e. prediction == 'dog')\n",
    "\n",
    "subset1 = df1[df1.model1 == 'dog']\n",
    "subset1\n",
    "model1_precision = (subset1.actual == subset1.model1).mean()\n",
    "print(f'model 1 precision: {model1_precision:.2%}')"
   ]
  },
  {
   "cell_type": "markdown",
   "id": "1afe9ae9",
   "metadata": {},
   "source": [
    "Model 2:"
   ]
  },
  {
   "cell_type": "code",
   "execution_count": 126,
   "id": "e3998518",
   "metadata": {},
   "outputs": [
    {
     "name": "stdout",
     "output_type": "stream",
     "text": [
      "model 2 recall: 49.08%\n",
      "model 2 precision: 89.32%\n"
     ]
    }
   ],
   "source": [
    "subset2 = df2[df2.actual == 'dog']\n",
    "\n",
    "# calculate recall for model\n",
    "model2_recall = (subset2.actual == subset2.model2).mean()\n",
    "print(f'model 2 recall: {model2_recall:.2%}')\n",
    "\n",
    "\n",
    "subset2 = df2[df2.model2 == 'dog']\n",
    "subset2\n",
    "model2_precision = (subset2.actual == subset2.model2).mean()\n",
    "print(f'model 2 precision: {model2_precision:.2%}')"
   ]
  },
  {
   "cell_type": "markdown",
   "id": "74472fe9",
   "metadata": {},
   "source": [
    "Model 3:"
   ]
  },
  {
   "cell_type": "code",
   "execution_count": 128,
   "id": "b704f524",
   "metadata": {
    "scrolled": true
   },
   "outputs": [
    {
     "name": "stdout",
     "output_type": "stream",
     "text": [
      "model 3 recall: 50.86%\n",
      "model 3 precision: 65.99%\n"
     ]
    }
   ],
   "source": [
    "subset3 = df3[df3.actual == 'dog']\n",
    "subset3\n",
    "\n",
    "model3_recall = (subset3.actual == subset3.model3).mean()\n",
    "print(f'model 3 recall: {model3_recall:.2%}')\n",
    "\n",
    "\n",
    "subset3 = df3[df3.model3 == 'dog']\n",
    "subset3\n",
    "model3_precision = (subset3.actual == subset3.model3).mean()\n",
    "print(f'model 3 precision: {model3_precision:.2%}')"
   ]
  },
  {
   "cell_type": "markdown",
   "id": "df8b822a",
   "metadata": {},
   "source": [
    "Model 4:"
   ]
  },
  {
   "cell_type": "code",
   "execution_count": 129,
   "id": "7d255cb8",
   "metadata": {},
   "outputs": [
    {
     "name": "stdout",
     "output_type": "stream",
     "text": [
      "model 4 recall: 95.57%\n",
      "model 4 precision: 73.12%\n"
     ]
    }
   ],
   "source": [
    "subset4 = df4[df4.actual == 'dog']\n",
    "subset4\n",
    "\n",
    "model4_recall = (subset4.actual == subset4.model4).mean()\n",
    "print(f'model 4 recall: {model4_recall:.2%}')\n",
    "\n",
    "\n",
    "subset4 = df4[df4.model4 == 'dog']\n",
    "subset4\n",
    "model4_precision = (subset4.actual == subset4.model4).mean()\n",
    "print(f'model 4 precision: {model4_precision:.2%}')"
   ]
  },
  {
   "cell_type": "markdown",
   "id": "034713d4",
   "metadata": {},
   "source": [
    "Model 4 has the highest recall, so that would be the best model for Phase I."
   ]
  },
  {
   "cell_type": "markdown",
   "id": "ed051096",
   "metadata": {},
   "source": [
    "For Phase II, we want the model that incorrectly tags cats as dogs (False Positive), so model 2 would be the best."
   ]
  },
  {
   "cell_type": "markdown",
   "id": "fed81fb8",
   "metadata": {},
   "source": [
    "#### c. Suppose you are working on a team that solely deals with cat pictures. Which of these models would you recomend for Phase I? For Phase II?"
   ]
  },
  {
   "cell_type": "code",
   "execution_count": 131,
   "id": "42f2522b",
   "metadata": {
    "scrolled": true
   },
   "outputs": [
    {
     "name": "stdout",
     "output_type": "stream",
     "text": [
      "model 1 recall: 81.50%\n",
      "model 1 precision: 68.98%\n"
     ]
    }
   ],
   "source": [
    "subset1 = df1[df1.actual == 'cat']\n",
    "subset1\n",
    "\n",
    "model1_recall = (subset1.actual == subset1.model1).mean()\n",
    "print(f'model 1 recall: {model1_recall:.2%}')\n",
    "\n",
    "\n",
    "subset1 = df1[df1.model1 == 'cat']\n",
    "subset1\n",
    "model1_precision = (subset1.actual == subset1.model1).mean()\n",
    "print(f'model 1 precision: {model1_precision:.2%}')"
   ]
  },
  {
   "cell_type": "code",
   "execution_count": 132,
   "id": "4f6843f2",
   "metadata": {},
   "outputs": [
    {
     "name": "stdout",
     "output_type": "stream",
     "text": [
      "model 2 recall: 89.06%\n",
      "model 2 precision: 48.41%\n"
     ]
    }
   ],
   "source": [
    "subset2 = df2[df2.actual == 'cat']\n",
    "subset2\n",
    "\n",
    "model2_recall = (subset2.actual == subset2.model2).mean()\n",
    "print(f'model 2 recall: {model2_recall:.2%}')\n",
    "\n",
    "\n",
    "subset2 = df2[df2.model2 == 'cat']\n",
    "subset2\n",
    "model2_precision = (subset2.actual == subset2.model2).mean()\n",
    "print(f'model 2 precision: {model2_precision:.2%}')"
   ]
  },
  {
   "cell_type": "code",
   "execution_count": 133,
   "id": "b54a28cc",
   "metadata": {},
   "outputs": [
    {
     "name": "stdout",
     "output_type": "stream",
     "text": [
      "model 3 recall: 51.15%\n",
      "model 3 precision: 35.83%\n"
     ]
    }
   ],
   "source": [
    "subset3 = df3[df3.actual == 'cat']\n",
    "subset3\n",
    "\n",
    "model3_recall = (subset3.actual == subset3.model3).mean()\n",
    "print(f'model 3 recall: {model3_recall:.2%}')\n",
    "\n",
    "\n",
    "subset3 = df3[df3.model3 == 'cat']\n",
    "subset3\n",
    "model3_precision = (subset3.actual == subset3.model3).mean()\n",
    "print(f'model 3 precision: {model3_precision:.2%}')"
   ]
  },
  {
   "cell_type": "code",
   "execution_count": 134,
   "id": "971a9b6d",
   "metadata": {},
   "outputs": [
    {
     "name": "stdout",
     "output_type": "stream",
     "text": [
      "model 4 recall: 34.54%\n",
      "model 4 precision: 80.72%\n"
     ]
    }
   ],
   "source": [
    "subset4 = df4[df4.actual == 'cat']\n",
    "subset4\n",
    "\n",
    "model4_recall = (subset4.actual == subset4.model4).mean()\n",
    "print(f'model 4 recall: {model4_recall:.2%}')\n",
    "\n",
    "\n",
    "subset4 = df4[df4.model4 == 'cat']\n",
    "subset4\n",
    "model4_precision = (subset4.actual == subset4.model4).mean()\n",
    "print(f'model 4 precision: {model4_precision:.2%}')"
   ]
  },
  {
   "cell_type": "markdown",
   "id": "15c47e11",
   "metadata": {},
   "source": [
    "For Phase I, model 2 has the highest recall.\n",
    "\n",
    "For Phase II, model 4 has the highest precision."
   ]
  },
  {
   "cell_type": "markdown",
   "id": "f10dba7f",
   "metadata": {},
   "source": [
    "### Follow the links below to read the documentation about each function, then apply those functions to the data from the previous problem."
   ]
  },
  {
   "cell_type": "code",
   "execution_count": 148,
   "id": "64ae1594",
   "metadata": {},
   "outputs": [
    {
     "name": "stdout",
     "output_type": "stream",
     "text": [
      "Model 1 accuracy = 0.8074\n",
      "Model 2 accuracy = 0.6304\n",
      "Model 3 accuracy = 0.5096\n",
      "Model 4 accuracy = 0.7426\n"
     ]
    }
   ],
   "source": [
    "print('Model 1 accuracy =', sklearn.metrics.accuracy_score(df.actual, df1.model1, normalize=True))\n",
    "print('Model 2 accuracy =', sklearn.metrics.accuracy_score(df.actual, df2.model2, normalize=True))\n",
    "print('Model 3 accuracy =', sklearn.metrics.accuracy_score(df.actual, df3.model3, normalize=True))\n",
    "print('Model 4 accuracy =', sklearn.metrics.accuracy_score(df.actual, df4.model4, normalize=True))"
   ]
  },
  {
   "cell_type": "code",
   "execution_count": 167,
   "id": "f54bdc4e",
   "metadata": {},
   "outputs": [
    {
     "name": "stdout",
     "output_type": "stream",
     "text": [
      "Model 1 precision = 0.89\n",
      "Model 2 precision = 0.8932\n",
      "Model 3 precision = 0.6599\n",
      "Model 4 precision = 0.7312\n"
     ]
    }
   ],
   "source": [
    "print('Model 1 precision =', round(sklearn.metrics.precision_score(df.actual, df.model1, pos_label='dog'), 4))\n",
    "print('Model 2 precision =', round(sklearn.metrics.precision_score(df.actual, df.model2, pos_label='dog'), 4))\n",
    "print('Model 3 precision =', round(sklearn.metrics.precision_score(df.actual, df.model3, pos_label='dog'), 4))\n",
    "print('Model 4 precision =', round(sklearn.metrics.precision_score(df.actual, df.model4, pos_label='dog'), 4))"
   ]
  },
  {
   "cell_type": "code",
   "execution_count": 168,
   "id": "040f9a6e",
   "metadata": {},
   "outputs": [
    {
     "name": "stdout",
     "output_type": "stream",
     "text": [
      "Model 1 recall = 0.8033\n",
      "Model 2 recall = 0.4908\n",
      "Model 3 recall = 0.5086\n",
      "Model 4 recall = 0.9557\n"
     ]
    }
   ],
   "source": [
    "print('Model 1 recall =', round(sklearn.metrics.recall_score(df.actual, df.model1, pos_label = 'dog'), 4))\n",
    "print('Model 2 recall =', round(sklearn.metrics.recall_score(df.actual, df.model2, pos_label = 'dog'), 4))\n",
    "print('Model 3 recall =', round(sklearn.metrics.recall_score(df.actual, df.model3, pos_label = 'dog'), 4))\n",
    "print('Model 4 recall =', round(sklearn.metrics.recall_score(df.actual, df.model4, pos_label = 'dog'), 4))"
   ]
  },
  {
   "cell_type": "code",
   "execution_count": 184,
   "id": "ab045adf",
   "metadata": {},
   "outputs": [
    {
     "name": "stdout",
     "output_type": "stream",
     "text": [
      "              precision    recall  f1-score   support\n",
      "\n",
      "         cat       0.69      0.82      0.75      1746\n",
      "         dog       0.89      0.80      0.84      3254\n",
      "\n",
      "    accuracy                           0.81      5000\n",
      "   macro avg       0.79      0.81      0.80      5000\n",
      "weighted avg       0.82      0.81      0.81      5000\n",
      "\n"
     ]
    }
   ],
   "source": [
    "print(sklearn.metrics.classification_report(df.actual, df.model1, target_names=['cat', 'dog']))"
   ]
  },
  {
   "cell_type": "code",
   "execution_count": 185,
   "id": "80288dd6",
   "metadata": {},
   "outputs": [
    {
     "name": "stdout",
     "output_type": "stream",
     "text": [
      "              precision    recall  f1-score   support\n",
      "\n",
      "         cat       0.48      0.89      0.63      1746\n",
      "         dog       0.89      0.49      0.63      3254\n",
      "\n",
      "    accuracy                           0.63      5000\n",
      "   macro avg       0.69      0.69      0.63      5000\n",
      "weighted avg       0.75      0.63      0.63      5000\n",
      "\n"
     ]
    }
   ],
   "source": [
    "print(sklearn.metrics.classification_report(df.actual, df.model2, target_names=['cat', 'dog']))"
   ]
  },
  {
   "cell_type": "code",
   "execution_count": 186,
   "id": "4ec45638",
   "metadata": {},
   "outputs": [
    {
     "name": "stdout",
     "output_type": "stream",
     "text": [
      "              precision    recall  f1-score   support\n",
      "\n",
      "         cat       0.36      0.51      0.42      1746\n",
      "         dog       0.66      0.51      0.57      3254\n",
      "\n",
      "    accuracy                           0.51      5000\n",
      "   macro avg       0.51      0.51      0.50      5000\n",
      "weighted avg       0.55      0.51      0.52      5000\n",
      "\n"
     ]
    }
   ],
   "source": [
    "print(sklearn.metrics.classification_report(df.actual, df.model3, target_names=['cat', 'dog']))"
   ]
  },
  {
   "cell_type": "code",
   "execution_count": 187,
   "id": "484586ae",
   "metadata": {},
   "outputs": [
    {
     "name": "stdout",
     "output_type": "stream",
     "text": [
      "              precision    recall  f1-score   support\n",
      "\n",
      "         cat       0.81      0.35      0.48      1746\n",
      "         dog       0.73      0.96      0.83      3254\n",
      "\n",
      "    accuracy                           0.74      5000\n",
      "   macro avg       0.77      0.65      0.66      5000\n",
      "weighted avg       0.76      0.74      0.71      5000\n",
      "\n"
     ]
    }
   ],
   "source": [
    "print(sklearn.metrics.classification_report(df.actual, df.model4, target_names=['cat', 'dog']))"
   ]
  },
  {
   "cell_type": "code",
   "execution_count": null,
   "id": "b8d9b355",
   "metadata": {},
   "outputs": [],
   "source": []
  }
 ],
 "metadata": {
  "kernelspec": {
   "display_name": "Python 3",
   "language": "python",
   "name": "python3"
  },
  "language_info": {
   "codemirror_mode": {
    "name": "ipython",
    "version": 3
   },
   "file_extension": ".py",
   "mimetype": "text/x-python",
   "name": "python",
   "nbconvert_exporter": "python",
   "pygments_lexer": "ipython3",
   "version": "3.8.8"
  }
 },
 "nbformat": 4,
 "nbformat_minor": 5
}
