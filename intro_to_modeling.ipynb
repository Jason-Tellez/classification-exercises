{
 "cells": [
  {
   "cell_type": "markdown",
   "id": "94437b0b",
   "metadata": {},
   "source": [
    "# Intro to Modeling\n",
    "\n",
    "Plan ➔ Acquire ➔ Prepare ➔ Explore ➔ **Model** ➔ Deliver\n",
    "\n",
    "Before modeling:\n",
    "\n",
    "0. Split your data\n",
    "1. Data preprocessing\n",
    "\n",
    "The modeling \"loop\"\n",
    "\n",
    "1. Create a model\n",
    "    - algorithm + hyperparams\n",
    "    - training data\n",
    "1. Evaluate the model\n",
    "1. Repeat\n",
    "\n",
    "After a certain amount of time or repititions has passed:\n",
    "\n",
    "1. Compare models\n",
    "1. Evaluate on test"
   ]
  },
  {
   "cell_type": "code",
   "execution_count": 4,
   "id": "2681f2ba",
   "metadata": {},
   "outputs": [],
   "source": [
    "# We'll use sklearn's Dummy Classifier as a standin for other classification algorithms\n",
    "# The sklearn API operates in the same way as our \"real\" models\n",
    "import pandas as pd\n",
    "from sklearn.dummy import DummyClassifier\n",
    "from sklearn.metrics import classification_report\n",
    "import acquire\n",
    "import prepare\n",
    "\n",
    "import warnings\n",
    "warnings.filterwarnings('ignore')"
   ]
  },
  {
   "cell_type": "markdown",
   "id": "07520266",
   "metadata": {},
   "source": [
    "## Data Split"
   ]
  },
  {
   "cell_type": "code",
   "execution_count": 18,
   "id": "ecdb7702",
   "metadata": {},
   "outputs": [],
   "source": [
    "df = acquire.get_titanic_data()\n",
    "train, validate, test = prepare.split_data(df)\n"
   ]
  },
  {
   "cell_type": "code",
   "execution_count": 19,
   "id": "06646e47",
   "metadata": {},
   "outputs": [
    {
     "data": {
      "text/plain": [
       "((498, 13), (214, 13), (179, 13))"
      ]
     },
     "execution_count": 19,
     "metadata": {},
     "output_type": "execute_result"
    }
   ],
   "source": [
    "train.shape, validate.shape, test.shape"
   ]
  },
  {
   "cell_type": "code",
   "execution_count": 20,
   "id": "e712178e",
   "metadata": {},
   "outputs": [],
   "source": [
    "X_train, y_train = train.drop(columns='survived'), train.survived\n",
    "X_validate, y_validate = validate.drop(columns='survived'), validate.survived\n",
    "X_test, y_test = test.drop(columns='survived'), test.survived"
   ]
  },
  {
   "cell_type": "markdown",
   "id": "4658bdb6",
   "metadata": {},
   "source": [
    "## Create our First Model\n",
    "\n",
    "### Aside: Working with sklearn ML objects\n",
    "\n",
    "1. Create the object\n",
    "1. Fit the object on training data\n",
    "1. Use the object (.score, .predict, .transform)"
   ]
  },
  {
   "cell_type": "code",
   "execution_count": 21,
   "id": "759c5725",
   "metadata": {},
   "outputs": [
    {
     "data": {
      "text/plain": [
       "DummyClassifier(constant=1, strategy='constant')"
      ]
     },
     "execution_count": 21,
     "metadata": {},
     "output_type": "execute_result"
    }
   ],
   "source": [
    "# 1. Create the object\n",
    "model = DummyClassifier(strategy='constant', constant=1) # here, we're predicting everyone survives\n",
    "# 2. Fit the object\n",
    "model.fit(X_train, y_train)"
   ]
  },
  {
   "cell_type": "markdown",
   "id": "dffae3b2",
   "metadata": {},
   "source": [
    "Ways we use sklearn classification models:\n",
    "\n",
    "- `.score` gives us accuracy\n",
    "- `.predict` lets us make predictions given a set of indep vars\n",
    "- `.predict_proba` gives us the probability that each observation falls into each label\n",
    "- some specific model types have additional properties"
   ]
  },
  {
   "cell_type": "code",
   "execution_count": 22,
   "id": "45676380",
   "metadata": {},
   "outputs": [
    {
     "name": "stdout",
     "output_type": "stream",
     "text": [
      "Training accuracy: 0.38\n"
     ]
    }
   ],
   "source": [
    "accuracy = round(model.score(X_train, y_train), 2)\n",
    "print(f'Training accuracy: {accuracy}')"
   ]
  },
  {
   "cell_type": "code",
   "execution_count": 23,
   "id": "d1232b5e",
   "metadata": {},
   "outputs": [
    {
     "data": {
      "text/plain": [
       "0.38317757009345793"
      ]
     },
     "execution_count": 23,
     "metadata": {},
     "output_type": "execute_result"
    }
   ],
   "source": [
    "# TODO: view the accuracy on the validate split\n",
    "model.score(X_validate, y_validate)"
   ]
  },
  {
   "cell_type": "code",
   "execution_count": 24,
   "id": "42b6ae9f",
   "metadata": {},
   "outputs": [
    {
     "data": {
      "text/plain": [
       "array([1, 1, 1, 1, 1, 1, 1, 1, 1, 1, 1, 1, 1, 1, 1, 1, 1, 1, 1, 1, 1, 1,\n",
       "       1, 1, 1, 1, 1, 1, 1, 1, 1, 1, 1, 1, 1, 1, 1, 1, 1, 1, 1, 1, 1, 1,\n",
       "       1, 1, 1, 1, 1, 1, 1, 1, 1, 1, 1, 1, 1, 1, 1, 1, 1, 1, 1, 1, 1, 1,\n",
       "       1, 1, 1, 1, 1, 1, 1, 1, 1, 1, 1, 1, 1, 1, 1, 1, 1, 1, 1, 1, 1, 1,\n",
       "       1, 1, 1, 1, 1, 1, 1, 1, 1, 1, 1, 1, 1, 1, 1, 1, 1, 1, 1, 1, 1, 1,\n",
       "       1, 1, 1, 1, 1, 1, 1, 1, 1, 1, 1, 1, 1, 1, 1, 1, 1, 1, 1, 1, 1, 1,\n",
       "       1, 1, 1, 1, 1, 1, 1, 1, 1, 1, 1, 1, 1, 1, 1, 1, 1, 1, 1, 1, 1, 1,\n",
       "       1, 1, 1, 1, 1, 1, 1, 1, 1, 1, 1, 1, 1, 1, 1, 1, 1, 1, 1, 1, 1, 1,\n",
       "       1, 1, 1, 1, 1, 1, 1, 1, 1, 1, 1, 1, 1, 1, 1, 1, 1, 1, 1, 1, 1, 1,\n",
       "       1, 1, 1, 1, 1, 1, 1, 1, 1, 1, 1, 1, 1, 1, 1, 1])"
      ]
     },
     "execution_count": 24,
     "metadata": {},
     "output_type": "execute_result"
    }
   ],
   "source": [
    "model.predict(X_validate)"
   ]
  },
  {
   "cell_type": "markdown",
   "id": "ecd1eafd",
   "metadata": {},
   "source": [
    "When using `.predict`, the values passed must be the same shape as the values used to fit!"
   ]
  },
  {
   "cell_type": "code",
   "execution_count": 25,
   "id": "55bcd6bf",
   "metadata": {},
   "outputs": [],
   "source": [
    "# TODO: create a new column on the train dataframe that contains the models predictions\n",
    "train['prediction'] = model.predict(X_train)"
   ]
  },
  {
   "cell_type": "code",
   "execution_count": 26,
   "id": "e2b4981e",
   "metadata": {},
   "outputs": [
    {
     "data": {
      "text/html": [
       "<div>\n",
       "<style scoped>\n",
       "    .dataframe tbody tr th:only-of-type {\n",
       "        vertical-align: middle;\n",
       "    }\n",
       "\n",
       "    .dataframe tbody tr th {\n",
       "        vertical-align: top;\n",
       "    }\n",
       "\n",
       "    .dataframe thead th {\n",
       "        text-align: right;\n",
       "    }\n",
       "</style>\n",
       "<table border=\"1\" class=\"dataframe\">\n",
       "  <thead>\n",
       "    <tr style=\"text-align: right;\">\n",
       "      <th></th>\n",
       "      <th>passenger_id</th>\n",
       "      <th>survived</th>\n",
       "      <th>pclass</th>\n",
       "      <th>sex</th>\n",
       "      <th>age</th>\n",
       "      <th>sibsp</th>\n",
       "      <th>parch</th>\n",
       "      <th>fare</th>\n",
       "      <th>embarked</th>\n",
       "      <th>class</th>\n",
       "      <th>deck</th>\n",
       "      <th>embark_town</th>\n",
       "      <th>alone</th>\n",
       "      <th>prediction</th>\n",
       "    </tr>\n",
       "  </thead>\n",
       "  <tbody>\n",
       "    <tr>\n",
       "      <th>583</th>\n",
       "      <td>583</td>\n",
       "      <td>0</td>\n",
       "      <td>1</td>\n",
       "      <td>male</td>\n",
       "      <td>36.0</td>\n",
       "      <td>0</td>\n",
       "      <td>0</td>\n",
       "      <td>40.1250</td>\n",
       "      <td>C</td>\n",
       "      <td>First</td>\n",
       "      <td>A</td>\n",
       "      <td>Cherbourg</td>\n",
       "      <td>1</td>\n",
       "      <td>1</td>\n",
       "    </tr>\n",
       "    <tr>\n",
       "      <th>165</th>\n",
       "      <td>165</td>\n",
       "      <td>1</td>\n",
       "      <td>3</td>\n",
       "      <td>male</td>\n",
       "      <td>9.0</td>\n",
       "      <td>0</td>\n",
       "      <td>2</td>\n",
       "      <td>20.5250</td>\n",
       "      <td>S</td>\n",
       "      <td>Third</td>\n",
       "      <td>NaN</td>\n",
       "      <td>Southampton</td>\n",
       "      <td>0</td>\n",
       "      <td>1</td>\n",
       "    </tr>\n",
       "    <tr>\n",
       "      <th>50</th>\n",
       "      <td>50</td>\n",
       "      <td>0</td>\n",
       "      <td>3</td>\n",
       "      <td>male</td>\n",
       "      <td>7.0</td>\n",
       "      <td>4</td>\n",
       "      <td>1</td>\n",
       "      <td>39.6875</td>\n",
       "      <td>S</td>\n",
       "      <td>Third</td>\n",
       "      <td>NaN</td>\n",
       "      <td>Southampton</td>\n",
       "      <td>0</td>\n",
       "      <td>1</td>\n",
       "    </tr>\n",
       "    <tr>\n",
       "      <th>259</th>\n",
       "      <td>259</td>\n",
       "      <td>1</td>\n",
       "      <td>2</td>\n",
       "      <td>female</td>\n",
       "      <td>50.0</td>\n",
       "      <td>0</td>\n",
       "      <td>1</td>\n",
       "      <td>26.0000</td>\n",
       "      <td>S</td>\n",
       "      <td>Second</td>\n",
       "      <td>NaN</td>\n",
       "      <td>Southampton</td>\n",
       "      <td>0</td>\n",
       "      <td>1</td>\n",
       "    </tr>\n",
       "    <tr>\n",
       "      <th>306</th>\n",
       "      <td>306</td>\n",
       "      <td>1</td>\n",
       "      <td>1</td>\n",
       "      <td>female</td>\n",
       "      <td>NaN</td>\n",
       "      <td>0</td>\n",
       "      <td>0</td>\n",
       "      <td>110.8833</td>\n",
       "      <td>C</td>\n",
       "      <td>First</td>\n",
       "      <td>NaN</td>\n",
       "      <td>Cherbourg</td>\n",
       "      <td>1</td>\n",
       "      <td>1</td>\n",
       "    </tr>\n",
       "  </tbody>\n",
       "</table>\n",
       "</div>"
      ],
      "text/plain": [
       "     passenger_id  survived  pclass     sex   age  sibsp  parch      fare  \\\n",
       "583           583         0       1    male  36.0      0      0   40.1250   \n",
       "165           165         1       3    male   9.0      0      2   20.5250   \n",
       "50             50         0       3    male   7.0      4      1   39.6875   \n",
       "259           259         1       2  female  50.0      0      1   26.0000   \n",
       "306           306         1       1  female   NaN      0      0  110.8833   \n",
       "\n",
       "    embarked   class deck  embark_town  alone  prediction  \n",
       "583        C   First    A    Cherbourg      1           1  \n",
       "165        S   Third  NaN  Southampton      0           1  \n",
       "50         S   Third  NaN  Southampton      0           1  \n",
       "259        S  Second  NaN  Southampton      0           1  \n",
       "306        C   First  NaN    Cherbourg      1           1  "
      ]
     },
     "execution_count": 26,
     "metadata": {},
     "output_type": "execute_result"
    }
   ],
   "source": [
    "train.head()"
   ]
  },
  {
   "cell_type": "code",
   "execution_count": 27,
   "id": "d1a43fdb",
   "metadata": {},
   "outputs": [
    {
     "name": "stdout",
     "output_type": "stream",
     "text": [
      "              precision    recall  f1-score   support\n",
      "\n",
      "           0       1.00      0.00      0.00       307\n",
      "           1       0.38      1.00      0.55       191\n",
      "\n",
      "    accuracy                           0.38       498\n",
      "   macro avg       0.69      0.50      0.28       498\n",
      "weighted avg       0.76      0.38      0.21       498\n",
      "\n"
     ]
    }
   ],
   "source": [
    "# use the column you just created and the actual values in the survived column\n",
    "# to generate a classification report\n",
    "print(classification_report(train.survived, train.prediction, zero_division=True))"
   ]
  },
  {
   "cell_type": "code",
   "execution_count": 28,
   "id": "a8b39a0d",
   "metadata": {},
   "outputs": [
    {
     "data": {
      "text/html": [
       "<div>\n",
       "<style scoped>\n",
       "    .dataframe tbody tr th:only-of-type {\n",
       "        vertical-align: middle;\n",
       "    }\n",
       "\n",
       "    .dataframe tbody tr th {\n",
       "        vertical-align: top;\n",
       "    }\n",
       "\n",
       "    .dataframe thead th {\n",
       "        text-align: right;\n",
       "    }\n",
       "</style>\n",
       "<table border=\"1\" class=\"dataframe\">\n",
       "  <thead>\n",
       "    <tr style=\"text-align: right;\">\n",
       "      <th></th>\n",
       "      <th>precision</th>\n",
       "      <th>recall</th>\n",
       "      <th>f1-score</th>\n",
       "      <th>support</th>\n",
       "    </tr>\n",
       "  </thead>\n",
       "  <tbody>\n",
       "    <tr>\n",
       "      <th>0</th>\n",
       "      <td>0.000000</td>\n",
       "      <td>0.000000</td>\n",
       "      <td>0.000000</td>\n",
       "      <td>307.000000</td>\n",
       "    </tr>\n",
       "    <tr>\n",
       "      <th>1</th>\n",
       "      <td>0.383534</td>\n",
       "      <td>1.000000</td>\n",
       "      <td>0.554427</td>\n",
       "      <td>191.000000</td>\n",
       "    </tr>\n",
       "    <tr>\n",
       "      <th>accuracy</th>\n",
       "      <td>0.383534</td>\n",
       "      <td>0.383534</td>\n",
       "      <td>0.383534</td>\n",
       "      <td>0.383534</td>\n",
       "    </tr>\n",
       "    <tr>\n",
       "      <th>macro avg</th>\n",
       "      <td>0.191767</td>\n",
       "      <td>0.500000</td>\n",
       "      <td>0.277213</td>\n",
       "      <td>498.000000</td>\n",
       "    </tr>\n",
       "    <tr>\n",
       "      <th>weighted avg</th>\n",
       "      <td>0.147098</td>\n",
       "      <td>0.383534</td>\n",
       "      <td>0.212642</td>\n",
       "      <td>498.000000</td>\n",
       "    </tr>\n",
       "  </tbody>\n",
       "</table>\n",
       "</div>"
      ],
      "text/plain": [
       "              precision    recall  f1-score     support\n",
       "0              0.000000  0.000000  0.000000  307.000000\n",
       "1              0.383534  1.000000  0.554427  191.000000\n",
       "accuracy       0.383534  0.383534  0.383534    0.383534\n",
       "macro avg      0.191767  0.500000  0.277213  498.000000\n",
       "weighted avg   0.147098  0.383534  0.212642  498.000000"
      ]
     },
     "execution_count": 28,
     "metadata": {},
     "output_type": "execute_result"
    }
   ],
   "source": [
    "pd.DataFrame(classification_report(train.survived, train.prediction, output_dict=True)).transpose()"
   ]
  },
  {
   "cell_type": "markdown",
   "id": "ca0b8458",
   "metadata": {},
   "source": [
    "## More models\n",
    "\n",
    "Now we'll make more models, one model is the unique combination of:\n",
    "\n",
    "- algorithm\n",
    "- hyperparameters\n",
    "- training data"
   ]
  },
  {
   "cell_type": "code",
   "execution_count": 29,
   "id": "cafa517f",
   "metadata": {},
   "outputs": [
    {
     "data": {
      "text/plain": [
       "0.5"
      ]
     },
     "execution_count": 29,
     "metadata": {},
     "output_type": "execute_result"
    }
   ],
   "source": [
    "# What if we randomly guess?\n",
    "model2 = DummyClassifier(strategy='uniform')\n",
    "\n",
    "# TODO: fit the model on the training data\n",
    "model2.fit(X_train, y_train)\n",
    "\n",
    "# TODO: see how this model performs on train\n",
    "accuracy = model2.score(X_train, y_train)\n",
    "round(accuracy, 2)"
   ]
  },
  {
   "cell_type": "code",
   "execution_count": 30,
   "id": "77aa3cd3",
   "metadata": {},
   "outputs": [
    {
     "data": {
      "text/plain": [
       "0.62"
      ]
     },
     "execution_count": 30,
     "metadata": {},
     "output_type": "execute_result"
    }
   ],
   "source": [
    "# Let's make a 3rd model, using the most frequently occurring class in the target\n",
    "model3 = DummyClassifier(strategy='most_frequent')\n",
    "model3.fit(X_train, y_train)\n",
    "accuracy = model3.score(X_train, y_train)\n",
    "round(accuracy, 2)"
   ]
  },
  {
   "cell_type": "markdown",
   "id": "b882c083",
   "metadata": {},
   "source": [
    "What are we looking for when evaluating model performance?\n",
    "\n",
    "- Is the model overfit? I.e. does it perform drastically better on the training data compared to the validate split\n",
    "- How good or bad is the model, i.e. how does it perform\n",
    "    - compared to the other models\n",
    "    - compared to the baseline model"
   ]
  },
  {
   "cell_type": "markdown",
   "id": "cc24ab18",
   "metadata": {},
   "source": [
    "## Compare and Finalize"
   ]
  },
  {
   "cell_type": "code",
   "execution_count": null,
   "id": "d4d9c15d",
   "metadata": {},
   "outputs": [],
   "source": [
    "# TODO: compare the performance of your models on the validate split\n"
   ]
  },
  {
   "cell_type": "code",
   "execution_count": 37,
   "id": "fa4928e6",
   "metadata": {},
   "outputs": [],
   "source": [
    "# TODO: find the performance of your best model on the test split\n"
   ]
  },
  {
   "cell_type": "code",
   "execution_count": null,
   "id": "146d7a1e",
   "metadata": {},
   "outputs": [],
   "source": []
  }
 ],
 "metadata": {
  "kernelspec": {
   "display_name": "Python 3",
   "language": "python",
   "name": "python3"
  },
  "language_info": {
   "codemirror_mode": {
    "name": "ipython",
    "version": 3
   },
   "file_extension": ".py",
   "mimetype": "text/x-python",
   "name": "python",
   "nbconvert_exporter": "python",
   "pygments_lexer": "ipython3",
   "version": "3.8.8"
  },
  "toc-autonumbering": false,
  "toc-showcode": false,
  "toc-showmarkdowntxt": false,
  "toc-showtags": false
 },
 "nbformat": 4,
 "nbformat_minor": 5
}
