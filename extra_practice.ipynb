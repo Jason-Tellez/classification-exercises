{
 "cells": [
  {
   "cell_type": "markdown",
   "id": "8d16049c",
   "metadata": {},
   "source": [
    "## This notebook is used for practice with cleaning data sets"
   ]
  },
  {
   "cell_type": "code",
   "execution_count": 2,
   "id": "589b3f9b",
   "metadata": {},
   "outputs": [],
   "source": [
    "import pandas as pd\n",
    "import numpy as np\n",
    "import seaborn as sns\n",
    "from pydataset import data"
   ]
  },
  {
   "cell_type": "code",
   "execution_count": 73,
   "id": "e831d78a",
   "metadata": {},
   "outputs": [
    {
     "data": {
      "text/html": [
       "<div>\n",
       "<style scoped>\n",
       "    .dataframe tbody tr th:only-of-type {\n",
       "        vertical-align: middle;\n",
       "    }\n",
       "\n",
       "    .dataframe tbody tr th {\n",
       "        vertical-align: top;\n",
       "    }\n",
       "\n",
       "    .dataframe thead th {\n",
       "        text-align: right;\n",
       "    }\n",
       "</style>\n",
       "<table border=\"1\" class=\"dataframe\">\n",
       "  <thead>\n",
       "    <tr style=\"text-align: right;\">\n",
       "      <th></th>\n",
       "      <th>year</th>\n",
       "      <th>country</th>\n",
       "      <th>measure</th>\n",
       "      <th>measurement</th>\n",
       "    </tr>\n",
       "  </thead>\n",
       "  <tbody>\n",
       "    <tr>\n",
       "      <th>0</th>\n",
       "      <td>1955</td>\n",
       "      <td>Afghanistan</td>\n",
       "      <td>pop</td>\n",
       "      <td>8891209.0</td>\n",
       "    </tr>\n",
       "    <tr>\n",
       "      <th>1</th>\n",
       "      <td>1960</td>\n",
       "      <td>Afghanistan</td>\n",
       "      <td>pop</td>\n",
       "      <td>9829450.0</td>\n",
       "    </tr>\n",
       "    <tr>\n",
       "      <th>2</th>\n",
       "      <td>1965</td>\n",
       "      <td>Afghanistan</td>\n",
       "      <td>pop</td>\n",
       "      <td>10997885.0</td>\n",
       "    </tr>\n",
       "    <tr>\n",
       "      <th>3</th>\n",
       "      <td>1970</td>\n",
       "      <td>Afghanistan</td>\n",
       "      <td>pop</td>\n",
       "      <td>12430623.0</td>\n",
       "    </tr>\n",
       "    <tr>\n",
       "      <th>4</th>\n",
       "      <td>1975</td>\n",
       "      <td>Afghanistan</td>\n",
       "      <td>pop</td>\n",
       "      <td>14132019.0</td>\n",
       "    </tr>\n",
       "  </tbody>\n",
       "</table>\n",
       "</div>"
      ],
      "text/plain": [
       "   year      country measure  measurement\n",
       "0  1955  Afghanistan     pop    8891209.0\n",
       "1  1960  Afghanistan     pop    9829450.0\n",
       "2  1965  Afghanistan     pop   10997885.0\n",
       "3  1970  Afghanistan     pop   12430623.0\n",
       "4  1975  Afghanistan     pop   14132019.0"
      ]
     },
     "execution_count": 73,
     "metadata": {},
     "output_type": "execute_result"
    }
   ],
   "source": [
    "df = pd.read_csv('untidy-data/gapminder1.csv')\n",
    "df.head()"
   ]
  },
  {
   "cell_type": "code",
   "execution_count": 74,
   "id": "2c9ed5af",
   "metadata": {},
   "outputs": [
    {
     "name": "stdout",
     "output_type": "stream",
     "text": [
      "<class 'pandas.core.frame.DataFrame'>\n",
      "RangeIndex: 2079 entries, 0 to 2078\n",
      "Data columns (total 4 columns):\n",
      " #   Column       Non-Null Count  Dtype  \n",
      "---  ------       --------------  -----  \n",
      " 0   year         2079 non-null   int64  \n",
      " 1   country      2079 non-null   object \n",
      " 2   measure      2079 non-null   object \n",
      " 3   measurement  2079 non-null   float64\n",
      "dtypes: float64(1), int64(1), object(2)\n",
      "memory usage: 65.1+ KB\n"
     ]
    }
   ],
   "source": [
    "df.info()"
   ]
  },
  {
   "cell_type": "markdown",
   "id": "cc2ad1e2",
   "metadata": {},
   "source": [
    "gapminder1 dataset has 4 initial columns:\n",
    "\n",
    "    - year\n",
    "    - country\n",
    "    - measure\n",
    "    - measurement\n",
    "    \n",
    "The data is intended to show a country's population, fertility rate, and life expectancy."
   ]
  },
  {
   "cell_type": "code",
   "execution_count": 71,
   "id": "2593c37f",
   "metadata": {},
   "outputs": [
    {
     "data": {
      "text/html": [
       "<div>\n",
       "<style scoped>\n",
       "    .dataframe tbody tr th:only-of-type {\n",
       "        vertical-align: middle;\n",
       "    }\n",
       "\n",
       "    .dataframe tbody tr th {\n",
       "        vertical-align: top;\n",
       "    }\n",
       "\n",
       "    .dataframe thead th {\n",
       "        text-align: right;\n",
       "    }\n",
       "</style>\n",
       "<table border=\"1\" class=\"dataframe\">\n",
       "  <thead>\n",
       "    <tr style=\"text-align: right;\">\n",
       "      <th></th>\n",
       "      <th>measure</th>\n",
       "      <th>fertility</th>\n",
       "      <th>life_expect</th>\n",
       "      <th>pop</th>\n",
       "    </tr>\n",
       "    <tr>\n",
       "      <th>year</th>\n",
       "      <th>country</th>\n",
       "      <th></th>\n",
       "      <th></th>\n",
       "      <th></th>\n",
       "    </tr>\n",
       "  </thead>\n",
       "  <tbody>\n",
       "    <tr>\n",
       "      <th rowspan=\"2\" valign=\"top\">1955</th>\n",
       "      <th>Egypt</th>\n",
       "      <td>6.9700</td>\n",
       "      <td>44.44400</td>\n",
       "      <td>23855527.0</td>\n",
       "    </tr>\n",
       "    <tr>\n",
       "      <th>United Kingdom</th>\n",
       "      <td>2.4900</td>\n",
       "      <td>70.42000</td>\n",
       "      <td>50946000.0</td>\n",
       "    </tr>\n",
       "    <tr>\n",
       "      <th>1960</th>\n",
       "      <th>El Salvador</th>\n",
       "      <td>6.8470</td>\n",
       "      <td>52.30700</td>\n",
       "      <td>2581583.0</td>\n",
       "    </tr>\n",
       "    <tr>\n",
       "      <th rowspan=\"2\" valign=\"top\">1965</th>\n",
       "      <th>China</th>\n",
       "      <td>6.0600</td>\n",
       "      <td>58.38112</td>\n",
       "      <td>715185000.0</td>\n",
       "    </tr>\n",
       "    <tr>\n",
       "      <th>United States</th>\n",
       "      <td>2.5450</td>\n",
       "      <td>70.76000</td>\n",
       "      <td>194303000.0</td>\n",
       "    </tr>\n",
       "    <tr>\n",
       "      <th>1970</th>\n",
       "      <th>Argentina</th>\n",
       "      <td>3.1455</td>\n",
       "      <td>67.06500</td>\n",
       "      <td>23962313.0</td>\n",
       "    </tr>\n",
       "    <tr>\n",
       "      <th rowspan=\"3\" valign=\"top\">1980</th>\n",
       "      <th>Bolivia</th>\n",
       "      <td>5.2995</td>\n",
       "      <td>53.85900</td>\n",
       "      <td>5441298.0</td>\n",
       "    </tr>\n",
       "    <tr>\n",
       "      <th>Nigeria</th>\n",
       "      <td>6.9000</td>\n",
       "      <td>45.82600</td>\n",
       "      <td>68550274.0</td>\n",
       "    </tr>\n",
       "    <tr>\n",
       "      <th>Iran</th>\n",
       "      <td>6.6300</td>\n",
       "      <td>59.62000</td>\n",
       "      <td>39583397.0</td>\n",
       "    </tr>\n",
       "    <tr>\n",
       "      <th>1985</th>\n",
       "      <th>Poland</th>\n",
       "      <td>2.1500</td>\n",
       "      <td>70.98000</td>\n",
       "      <td>37225792.0</td>\n",
       "    </tr>\n",
       "  </tbody>\n",
       "</table>\n",
       "</div>"
      ],
      "text/plain": [
       "measure              fertility  life_expect          pop\n",
       "year country                                            \n",
       "1955 Egypt              6.9700     44.44400   23855527.0\n",
       "     United Kingdom     2.4900     70.42000   50946000.0\n",
       "1960 El Salvador        6.8470     52.30700    2581583.0\n",
       "1965 China              6.0600     58.38112  715185000.0\n",
       "     United States      2.5450     70.76000  194303000.0\n",
       "1970 Argentina          3.1455     67.06500   23962313.0\n",
       "1980 Bolivia            5.2995     53.85900    5441298.0\n",
       "     Nigeria            6.9000     45.82600   68550274.0\n",
       "     Iran               6.6300     59.62000   39583397.0\n",
       "1985 Poland             2.1500     70.98000   37225792.0"
      ]
     },
     "execution_count": 71,
     "metadata": {},
     "output_type": "execute_result"
    }
   ],
   "source": [
    "# the pivot table will divide the measures into their own columns\n",
    "df1 = df.pivot_table(index=['year','country'])\n",
    "df1.sample(10).sort_values('year')"
   ]
  },
  {
   "cell_type": "markdown",
   "id": "d7ce454b",
   "metadata": {},
   "source": [
    "**What was the highest fertility rate for each country?**"
   ]
  },
  {
   "cell_type": "code",
   "execution_count": 72,
   "id": "eb3a28ff",
   "metadata": {
    "scrolled": true
   },
   "outputs": [
    {
     "data": {
      "text/plain": [
       "country\n",
       "Afghanistan           8.0000\n",
       "Argentina             3.4400\n",
       "Aruba                 5.1500\n",
       "Australia             3.4060\n",
       "Austria               2.7800\n",
       "Bahamas               4.5030\n",
       "Bangladesh            6.8500\n",
       "Barbados              4.6700\n",
       "Belgium               2.6440\n",
       "Bolivia               6.7500\n",
       "Brazil                6.1501\n",
       "Canada                3.8820\n",
       "Chile                 5.4860\n",
       "China                 6.0600\n",
       "Colombia              6.7600\n",
       "Costa Rica            7.2245\n",
       "Croatia               2.4200\n",
       "Cuba                  4.6805\n",
       "Dominican Republic    7.6405\n",
       "Ecuador               6.7000\n",
       "Egypt                 7.0730\n",
       "El Salvador           6.8470\n",
       "Finland               2.7690\n",
       "France                2.8500\n",
       "Georgia               2.9790\n",
       "Germany               2.4900\n",
       "Greece                2.3800\n",
       "Grenada               6.7000\n",
       "Haiti                 6.3000\n",
       "Hong Kong             5.3100\n",
       "Iceland               4.0230\n",
       "India                 5.8961\n",
       "Indonesia             5.6720\n",
       "Iran                  7.0000\n",
       "Iraq                  7.3000\n",
       "Ireland               3.9790\n",
       "Israel                3.8930\n",
       "Italy                 2.4980\n",
       "Jamaica               5.7800\n",
       "Japan                 2.0800\n",
       "Kenya                 8.1200\n",
       "Lebanon               5.7200\n",
       "Mexico                6.8000\n",
       "Netherlands           3.1680\n",
       "New Zealand           4.0700\n",
       "Nigeria               6.9000\n",
       "North Korea           6.3320\n",
       "Norway                2.8980\n",
       "Pakistan              6.6600\n",
       "Peru                  6.8530\n",
       "Philippines           7.1300\n",
       "Poland                3.2900\n",
       "Portugal              3.0740\n",
       "Rwanda                8.5000\n",
       "Saudi Arabia          7.2980\n",
       "South Africa          6.5000\n",
       "South Korea           4.0900\n",
       "Spain                 2.9200\n",
       "Switzerland           2.5100\n",
       "Turkey                6.6000\n",
       "United Kingdom        2.8100\n",
       "United States         3.7060\n",
       "Venezuela             6.6570\n",
       "Name: fertility, dtype: float64"
      ]
     },
     "execution_count": 72,
     "metadata": {},
     "output_type": "execute_result"
    }
   ],
   "source": [
    "df1.groupby('country').fertility.max()"
   ]
  },
  {
   "cell_type": "markdown",
   "id": "1cadb7e1",
   "metadata": {},
   "source": [
    "**Which country had the highest population in 2000?**"
   ]
  },
  {
   "cell_type": "code",
   "execution_count": 84,
   "id": "60ef4248",
   "metadata": {},
   "outputs": [
    {
     "data": {
      "text/html": [
       "<div>\n",
       "<style scoped>\n",
       "    .dataframe tbody tr th:only-of-type {\n",
       "        vertical-align: middle;\n",
       "    }\n",
       "\n",
       "    .dataframe tbody tr th {\n",
       "        vertical-align: top;\n",
       "    }\n",
       "\n",
       "    .dataframe thead th {\n",
       "        text-align: right;\n",
       "    }\n",
       "</style>\n",
       "<table border=\"1\" class=\"dataframe\">\n",
       "  <thead>\n",
       "    <tr style=\"text-align: right;\">\n",
       "      <th>measure</th>\n",
       "      <th>year</th>\n",
       "      <th>country</th>\n",
       "      <th>fertility</th>\n",
       "      <th>life_expect</th>\n",
       "      <th>pop</th>\n",
       "    </tr>\n",
       "  </thead>\n",
       "  <tbody>\n",
       "    <tr>\n",
       "      <th>0</th>\n",
       "      <td>1955</td>\n",
       "      <td>Afghanistan</td>\n",
       "      <td>7.7000</td>\n",
       "      <td>30.332</td>\n",
       "      <td>8891209.0</td>\n",
       "    </tr>\n",
       "    <tr>\n",
       "      <th>1</th>\n",
       "      <td>1955</td>\n",
       "      <td>Argentina</td>\n",
       "      <td>3.1265</td>\n",
       "      <td>64.399</td>\n",
       "      <td>18927821.0</td>\n",
       "    </tr>\n",
       "    <tr>\n",
       "      <th>2</th>\n",
       "      <td>1955</td>\n",
       "      <td>Aruba</td>\n",
       "      <td>5.1500</td>\n",
       "      <td>64.381</td>\n",
       "      <td>53865.0</td>\n",
       "    </tr>\n",
       "    <tr>\n",
       "      <th>3</th>\n",
       "      <td>1955</td>\n",
       "      <td>Australia</td>\n",
       "      <td>3.4060</td>\n",
       "      <td>70.330</td>\n",
       "      <td>9277087.0</td>\n",
       "    </tr>\n",
       "    <tr>\n",
       "      <th>4</th>\n",
       "      <td>1955</td>\n",
       "      <td>Austria</td>\n",
       "      <td>2.5200</td>\n",
       "      <td>67.480</td>\n",
       "      <td>6946885.0</td>\n",
       "    </tr>\n",
       "    <tr>\n",
       "      <th>...</th>\n",
       "      <td>...</td>\n",
       "      <td>...</td>\n",
       "      <td>...</td>\n",
       "      <td>...</td>\n",
       "      <td>...</td>\n",
       "    </tr>\n",
       "    <tr>\n",
       "      <th>688</th>\n",
       "      <td>2005</td>\n",
       "      <td>Switzerland</td>\n",
       "      <td>1.4200</td>\n",
       "      <td>81.701</td>\n",
       "      <td>7489370.0</td>\n",
       "    </tr>\n",
       "    <tr>\n",
       "      <th>689</th>\n",
       "      <td>2005</td>\n",
       "      <td>Turkey</td>\n",
       "      <td>2.1430</td>\n",
       "      <td>71.777</td>\n",
       "      <td>69660559.0</td>\n",
       "    </tr>\n",
       "    <tr>\n",
       "      <th>690</th>\n",
       "      <td>2005</td>\n",
       "      <td>United Kingdom</td>\n",
       "      <td>1.8150</td>\n",
       "      <td>79.425</td>\n",
       "      <td>60441457.0</td>\n",
       "    </tr>\n",
       "    <tr>\n",
       "      <th>691</th>\n",
       "      <td>2005</td>\n",
       "      <td>United States</td>\n",
       "      <td>2.0540</td>\n",
       "      <td>78.242</td>\n",
       "      <td>295734134.0</td>\n",
       "    </tr>\n",
       "    <tr>\n",
       "      <th>692</th>\n",
       "      <td>2005</td>\n",
       "      <td>Venezuela</td>\n",
       "      <td>2.5470</td>\n",
       "      <td>73.747</td>\n",
       "      <td>25375281.0</td>\n",
       "    </tr>\n",
       "  </tbody>\n",
       "</table>\n",
       "<p>693 rows × 5 columns</p>\n",
       "</div>"
      ],
      "text/plain": [
       "measure  year         country  fertility  life_expect          pop\n",
       "0        1955     Afghanistan     7.7000       30.332    8891209.0\n",
       "1        1955       Argentina     3.1265       64.399   18927821.0\n",
       "2        1955           Aruba     5.1500       64.381      53865.0\n",
       "3        1955       Australia     3.4060       70.330    9277087.0\n",
       "4        1955         Austria     2.5200       67.480    6946885.0\n",
       "..        ...             ...        ...          ...          ...\n",
       "688      2005     Switzerland     1.4200       81.701    7489370.0\n",
       "689      2005          Turkey     2.1430       71.777   69660559.0\n",
       "690      2005  United Kingdom     1.8150       79.425   60441457.0\n",
       "691      2005   United States     2.0540       78.242  295734134.0\n",
       "692      2005       Venezuela     2.5470       73.747   25375281.0\n",
       "\n",
       "[693 rows x 5 columns]"
      ]
     },
     "execution_count": 84,
     "metadata": {},
     "output_type": "execute_result"
    }
   ],
   "source": [
    "df2 = df.pivot_table(index=['year','country'], columns='measure', values='measurement').reset_index()\n",
    "df2"
   ]
  },
  {
   "cell_type": "code",
   "execution_count": 103,
   "id": "b8abac5d",
   "metadata": {},
   "outputs": [
    {
     "data": {
      "text/plain": [
       "measure\n",
       "year                   2000\n",
       "country               China\n",
       "fertility               1.7\n",
       "life_expect          72.028\n",
       "pop            1262645000.0\n",
       "Name: 580, dtype: object"
      ]
     },
     "execution_count": 103,
     "metadata": {},
     "output_type": "execute_result"
    }
   ],
   "source": [
    "x = df2[df2.year==2000]\n",
    "x.loc[x['pop'].idxmax()]"
   ]
  },
  {
   "cell_type": "markdown",
   "id": "74e60371",
   "metadata": {},
   "source": [
    "**Which year had the highest overall population? What was the population?**"
   ]
  },
  {
   "cell_type": "code",
   "execution_count": 121,
   "id": "0c5b0227",
   "metadata": {},
   "outputs": [
    {
     "data": {
      "text/plain": [
       "2005"
      ]
     },
     "execution_count": 121,
     "metadata": {},
     "output_type": "execute_result"
    }
   ],
   "source": [
    "df2.groupby('year').pop.sum().idxmax()"
   ]
  },
  {
   "cell_type": "code",
   "execution_count": 130,
   "id": "a0a71ade",
   "metadata": {},
   "outputs": [
    {
     "data": {
      "text/plain": [
       "5014673090.0"
      ]
     },
     "execution_count": 130,
     "metadata": {},
     "output_type": "execute_result"
    }
   ],
   "source": [
    "df2[df2.year == 2005]['pop'].sum()"
   ]
  },
  {
   "cell_type": "code",
   "execution_count": null,
   "id": "9f0418f3",
   "metadata": {},
   "outputs": [],
   "source": []
  }
 ],
 "metadata": {
  "kernelspec": {
   "display_name": "Python 3",
   "language": "python",
   "name": "python3"
  },
  "language_info": {
   "codemirror_mode": {
    "name": "ipython",
    "version": 3
   },
   "file_extension": ".py",
   "mimetype": "text/x-python",
   "name": "python",
   "nbconvert_exporter": "python",
   "pygments_lexer": "ipython3",
   "version": "3.8.8"
  }
 },
 "nbformat": 4,
 "nbformat_minor": 5
}
