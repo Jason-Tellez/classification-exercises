{
 "cells": [
  {
   "cell_type": "code",
   "execution_count": 1,
   "id": "1facbc61",
   "metadata": {},
   "outputs": [],
   "source": [
    "# ignore warnings\n",
    "import warnings\n",
    "warnings.filterwarnings(\"ignore\")\n",
    "\n",
    "import numpy as np\n",
    "import pandas as pd\n",
    "\n",
    "from sklearn.model_selection import train_test_split\n",
    "from sklearn.tree import DecisionTreeClassifier\n",
    "from sklearn.tree import export_graphviz\n",
    "from sklearn.metrics import classification_report\n",
    "from sklearn.metrics import confusion_matrix\n",
    "from sklearn.dummy import DummyClassifier\n",
    "from sklearn.impute import SimpleImputer\n",
    "from sklearn import tree\n",
    "\n",
    "\n",
    "import warnings\n",
    "warnings.filterwarnings('ignore')\n",
    "import matplotlib.pyplot as plt\n",
    "%matplotlib inline\n",
    "import seaborn as sns\n",
    "import acquire as a\n",
    "import prepare as p\n",
    "import explore as e"
   ]
  },
  {
   "cell_type": "markdown",
   "id": "8bdf4496",
   "metadata": {},
   "source": [
    "# Decision Tree - Exercises"
   ]
  },
  {
   "cell_type": "code",
   "execution_count": 2,
   "id": "1f2e3243",
   "metadata": {},
   "outputs": [
    {
     "data": {
      "text/html": [
       "<div>\n",
       "<style scoped>\n",
       "    .dataframe tbody tr th:only-of-type {\n",
       "        vertical-align: middle;\n",
       "    }\n",
       "\n",
       "    .dataframe tbody tr th {\n",
       "        vertical-align: top;\n",
       "    }\n",
       "\n",
       "    .dataframe thead th {\n",
       "        text-align: right;\n",
       "    }\n",
       "</style>\n",
       "<table border=\"1\" class=\"dataframe\">\n",
       "  <thead>\n",
       "    <tr style=\"text-align: right;\">\n",
       "      <th></th>\n",
       "      <th>passenger_id</th>\n",
       "      <th>survived</th>\n",
       "      <th>pclass</th>\n",
       "      <th>sex</th>\n",
       "      <th>age</th>\n",
       "      <th>sibsp</th>\n",
       "      <th>parch</th>\n",
       "      <th>fare</th>\n",
       "      <th>embarked</th>\n",
       "      <th>class</th>\n",
       "      <th>deck</th>\n",
       "      <th>embark_town</th>\n",
       "      <th>alone</th>\n",
       "    </tr>\n",
       "  </thead>\n",
       "  <tbody>\n",
       "    <tr>\n",
       "      <th>886</th>\n",
       "      <td>886</td>\n",
       "      <td>0</td>\n",
       "      <td>2</td>\n",
       "      <td>male</td>\n",
       "      <td>27.0</td>\n",
       "      <td>0</td>\n",
       "      <td>0</td>\n",
       "      <td>13.00</td>\n",
       "      <td>S</td>\n",
       "      <td>Second</td>\n",
       "      <td>NaN</td>\n",
       "      <td>Southampton</td>\n",
       "      <td>1</td>\n",
       "    </tr>\n",
       "    <tr>\n",
       "      <th>887</th>\n",
       "      <td>887</td>\n",
       "      <td>1</td>\n",
       "      <td>1</td>\n",
       "      <td>female</td>\n",
       "      <td>19.0</td>\n",
       "      <td>0</td>\n",
       "      <td>0</td>\n",
       "      <td>30.00</td>\n",
       "      <td>S</td>\n",
       "      <td>First</td>\n",
       "      <td>B</td>\n",
       "      <td>Southampton</td>\n",
       "      <td>1</td>\n",
       "    </tr>\n",
       "    <tr>\n",
       "      <th>888</th>\n",
       "      <td>888</td>\n",
       "      <td>0</td>\n",
       "      <td>3</td>\n",
       "      <td>female</td>\n",
       "      <td>NaN</td>\n",
       "      <td>1</td>\n",
       "      <td>2</td>\n",
       "      <td>23.45</td>\n",
       "      <td>S</td>\n",
       "      <td>Third</td>\n",
       "      <td>NaN</td>\n",
       "      <td>Southampton</td>\n",
       "      <td>0</td>\n",
       "    </tr>\n",
       "    <tr>\n",
       "      <th>889</th>\n",
       "      <td>889</td>\n",
       "      <td>1</td>\n",
       "      <td>1</td>\n",
       "      <td>male</td>\n",
       "      <td>26.0</td>\n",
       "      <td>0</td>\n",
       "      <td>0</td>\n",
       "      <td>30.00</td>\n",
       "      <td>C</td>\n",
       "      <td>First</td>\n",
       "      <td>C</td>\n",
       "      <td>Cherbourg</td>\n",
       "      <td>1</td>\n",
       "    </tr>\n",
       "    <tr>\n",
       "      <th>890</th>\n",
       "      <td>890</td>\n",
       "      <td>0</td>\n",
       "      <td>3</td>\n",
       "      <td>male</td>\n",
       "      <td>32.0</td>\n",
       "      <td>0</td>\n",
       "      <td>0</td>\n",
       "      <td>7.75</td>\n",
       "      <td>Q</td>\n",
       "      <td>Third</td>\n",
       "      <td>NaN</td>\n",
       "      <td>Queenstown</td>\n",
       "      <td>1</td>\n",
       "    </tr>\n",
       "  </tbody>\n",
       "</table>\n",
       "</div>"
      ],
      "text/plain": [
       "     passenger_id  survived  pclass     sex   age  sibsp  parch   fare  \\\n",
       "886           886         0       2    male  27.0      0      0  13.00   \n",
       "887           887         1       1  female  19.0      0      0  30.00   \n",
       "888           888         0       3  female   NaN      1      2  23.45   \n",
       "889           889         1       1    male  26.0      0      0  30.00   \n",
       "890           890         0       3    male  32.0      0      0   7.75   \n",
       "\n",
       "    embarked   class deck  embark_town  alone  \n",
       "886        S  Second  NaN  Southampton      1  \n",
       "887        S   First    B  Southampton      1  \n",
       "888        S   Third  NaN  Southampton      0  \n",
       "889        C   First    C    Cherbourg      1  \n",
       "890        Q   Third  NaN   Queenstown      1  "
      ]
     },
     "execution_count": 2,
     "metadata": {},
     "output_type": "execute_result"
    }
   ],
   "source": [
    "# Acquire the data\n",
    "\n",
    "df = a.get_titanic_data()\n",
    "df.tail()"
   ]
  },
  {
   "cell_type": "code",
   "execution_count": 3,
   "id": "dda2f85e",
   "metadata": {
    "scrolled": true
   },
   "outputs": [
    {
     "data": {
      "text/plain": [
       "passenger_id      0\n",
       "survived          0\n",
       "pclass            0\n",
       "sex               0\n",
       "age             177\n",
       "sibsp             0\n",
       "parch             0\n",
       "fare              0\n",
       "embarked          2\n",
       "class             0\n",
       "deck            688\n",
       "embark_town       2\n",
       "alone             0\n",
       "dtype: int64"
      ]
     },
     "execution_count": 3,
     "metadata": {},
     "output_type": "execute_result"
    }
   ],
   "source": [
    "# check for empty column values\n",
    "df.isna().sum()"
   ]
  },
  {
   "cell_type": "markdown",
   "id": "44af6a03",
   "metadata": {},
   "source": [
    "- 'age' is missing almost 20% of its values\n",
    "- 'deck' is missing more than 75% of values, can be dropped\n",
    "- 'embark_town' and 'embarked' show identical data, only missing 2 values\n",
    "- 'passenger_id' can be reassigned as the index since all values are sequential and unique\n",
    "- 'class' and 'pclass' have identical data"
   ]
  },
  {
   "cell_type": "code",
   "execution_count": 4,
   "id": "aeb92582",
   "metadata": {},
   "outputs": [
    {
     "data": {
      "text/plain": [
       "Southampton    644\n",
       "Cherbourg      168\n",
       "Queenstown      77\n",
       "Name: embark_town, dtype: int64"
      ]
     },
     "execution_count": 4,
     "metadata": {},
     "output_type": "execute_result"
    }
   ],
   "source": [
    "df.embark_town.value_counts()"
   ]
  },
  {
   "cell_type": "code",
   "execution_count": 5,
   "id": "7c502ecf",
   "metadata": {
    "scrolled": false
   },
   "outputs": [],
   "source": [
    "# Prep the data\n",
    "\n",
    "# drop any duplicate rows\n",
    "df = df.drop_duplicates()\n",
    "\n",
    "# change index to passenger_id\n",
    "df = df.set_index(\"passenger_id\")\n",
    "\n",
    "#drop any repetitive or unusable columns\n",
    "df = df.drop(columns=['deck', 'embarked', 'class'])\n",
    "\n",
    "# fill two missing values with most common value\n",
    "df['embark_town'] = df.embark_town.fillna(value='Southampton')\n",
    "\n",
    "# create encoded columns to replace categorical features and concat features to dataframe\n",
    "# resulting features are:\n",
    "    #is_male for 'sex' \n",
    "    #'embark_town_Queenstown' and 'embark_town_Southampton' for 'embark_town'\n",
    "dummy_df = pd.get_dummies(df[['sex', 'embark_town']], drop_first=True)\n",
    "df = pd.concat([df, dummy_df], axis=1)\n",
    "\n",
    "# fill missing 'age' values\n",
    "df['age'] = df.age.fillna(value=df.age.median())"
   ]
  },
  {
   "cell_type": "code",
   "execution_count": 6,
   "id": "38415911",
   "metadata": {},
   "outputs": [
    {
     "data": {
      "text/plain": [
       "survived                   0\n",
       "pclass                     0\n",
       "sex                        0\n",
       "age                        0\n",
       "sibsp                      0\n",
       "parch                      0\n",
       "fare                       0\n",
       "embark_town                0\n",
       "alone                      0\n",
       "sex_male                   0\n",
       "embark_town_Queenstown     0\n",
       "embark_town_Southampton    0\n",
       "dtype: int64"
      ]
     },
     "execution_count": 6,
     "metadata": {},
     "output_type": "execute_result"
    }
   ],
   "source": [
    "df.isna().sum()"
   ]
  },
  {
   "cell_type": "markdown",
   "id": "bbc93446",
   "metadata": {},
   "source": [
    "Next we split the data for training, validation, and testing:"
   ]
  },
  {
   "cell_type": "code",
   "execution_count": 11,
   "id": "5a94c016",
   "metadata": {
    "scrolled": true
   },
   "outputs": [
    {
     "name": "stdout",
     "output_type": "stream",
     "text": [
      "(498, 12) (214, 12) (179, 12)\n"
     ]
    },
    {
     "data": {
      "text/html": [
       "<div>\n",
       "<style scoped>\n",
       "    .dataframe tbody tr th:only-of-type {\n",
       "        vertical-align: middle;\n",
       "    }\n",
       "\n",
       "    .dataframe tbody tr th {\n",
       "        vertical-align: top;\n",
       "    }\n",
       "\n",
       "    .dataframe thead th {\n",
       "        text-align: right;\n",
       "    }\n",
       "</style>\n",
       "<table border=\"1\" class=\"dataframe\">\n",
       "  <thead>\n",
       "    <tr style=\"text-align: right;\">\n",
       "      <th></th>\n",
       "      <th>survived</th>\n",
       "      <th>pclass</th>\n",
       "      <th>sex</th>\n",
       "      <th>age</th>\n",
       "      <th>sibsp</th>\n",
       "      <th>parch</th>\n",
       "      <th>fare</th>\n",
       "      <th>embark_town</th>\n",
       "      <th>alone</th>\n",
       "      <th>sex_male</th>\n",
       "      <th>embark_town_Queenstown</th>\n",
       "      <th>embark_town_Southampton</th>\n",
       "    </tr>\n",
       "    <tr>\n",
       "      <th>passenger_id</th>\n",
       "      <th></th>\n",
       "      <th></th>\n",
       "      <th></th>\n",
       "      <th></th>\n",
       "      <th></th>\n",
       "      <th></th>\n",
       "      <th></th>\n",
       "      <th></th>\n",
       "      <th></th>\n",
       "      <th></th>\n",
       "      <th></th>\n",
       "      <th></th>\n",
       "    </tr>\n",
       "  </thead>\n",
       "  <tbody>\n",
       "    <tr>\n",
       "      <th>421</th>\n",
       "      <td>0</td>\n",
       "      <td>3</td>\n",
       "      <td>male</td>\n",
       "      <td>21.0</td>\n",
       "      <td>0</td>\n",
       "      <td>0</td>\n",
       "      <td>7.7333</td>\n",
       "      <td>Queenstown</td>\n",
       "      <td>1</td>\n",
       "      <td>1</td>\n",
       "      <td>1</td>\n",
       "      <td>0</td>\n",
       "    </tr>\n",
       "    <tr>\n",
       "      <th>675</th>\n",
       "      <td>0</td>\n",
       "      <td>3</td>\n",
       "      <td>male</td>\n",
       "      <td>18.0</td>\n",
       "      <td>0</td>\n",
       "      <td>0</td>\n",
       "      <td>7.7750</td>\n",
       "      <td>Southampton</td>\n",
       "      <td>1</td>\n",
       "      <td>1</td>\n",
       "      <td>0</td>\n",
       "      <td>1</td>\n",
       "    </tr>\n",
       "    <tr>\n",
       "      <th>480</th>\n",
       "      <td>0</td>\n",
       "      <td>3</td>\n",
       "      <td>male</td>\n",
       "      <td>9.0</td>\n",
       "      <td>5</td>\n",
       "      <td>2</td>\n",
       "      <td>46.9000</td>\n",
       "      <td>Southampton</td>\n",
       "      <td>0</td>\n",
       "      <td>1</td>\n",
       "      <td>0</td>\n",
       "      <td>1</td>\n",
       "    </tr>\n",
       "    <tr>\n",
       "      <th>526</th>\n",
       "      <td>1</td>\n",
       "      <td>2</td>\n",
       "      <td>female</td>\n",
       "      <td>50.0</td>\n",
       "      <td>0</td>\n",
       "      <td>0</td>\n",
       "      <td>10.5000</td>\n",
       "      <td>Southampton</td>\n",
       "      <td>1</td>\n",
       "      <td>0</td>\n",
       "      <td>0</td>\n",
       "      <td>1</td>\n",
       "    </tr>\n",
       "    <tr>\n",
       "      <th>818</th>\n",
       "      <td>0</td>\n",
       "      <td>3</td>\n",
       "      <td>male</td>\n",
       "      <td>43.0</td>\n",
       "      <td>0</td>\n",
       "      <td>0</td>\n",
       "      <td>6.4500</td>\n",
       "      <td>Southampton</td>\n",
       "      <td>1</td>\n",
       "      <td>1</td>\n",
       "      <td>0</td>\n",
       "      <td>1</td>\n",
       "    </tr>\n",
       "  </tbody>\n",
       "</table>\n",
       "</div>"
      ],
      "text/plain": [
       "              survived  pclass     sex   age  sibsp  parch     fare  \\\n",
       "passenger_id                                                          \n",
       "421                  0       3    male  21.0      0      0   7.7333   \n",
       "675                  0       3    male  18.0      0      0   7.7750   \n",
       "480                  0       3    male   9.0      5      2  46.9000   \n",
       "526                  1       2  female  50.0      0      0  10.5000   \n",
       "818                  0       3    male  43.0      0      0   6.4500   \n",
       "\n",
       "              embark_town  alone  sex_male  embark_town_Queenstown  \\\n",
       "passenger_id                                                         \n",
       "421            Queenstown      1         1                       1   \n",
       "675           Southampton      1         1                       0   \n",
       "480           Southampton      0         1                       0   \n",
       "526           Southampton      1         0                       0   \n",
       "818           Southampton      1         1                       0   \n",
       "\n",
       "              embark_town_Southampton  \n",
       "passenger_id                           \n",
       "421                                 0  \n",
       "675                                 1  \n",
       "480                                 1  \n",
       "526                                 1  \n",
       "818                                 1  "
      ]
     },
     "execution_count": 11,
     "metadata": {},
     "output_type": "execute_result"
    }
   ],
   "source": [
    "train, validate, test = p.split_data(df)\n",
    "\n",
    "print(train.shape, validate.shape, test.shape)\n",
    "train.sample(5)"
   ]
  },
  {
   "cell_type": "code",
   "execution_count": 12,
   "id": "247b3402",
   "metadata": {},
   "outputs": [
    {
     "name": "stdout",
     "output_type": "stream",
     "text": [
      "<class 'pandas.core.frame.DataFrame'>\n",
      "Int64Index: 498 entries, 583 to 744\n",
      "Data columns (total 12 columns):\n",
      " #   Column                   Non-Null Count  Dtype  \n",
      "---  ------                   --------------  -----  \n",
      " 0   survived                 498 non-null    int64  \n",
      " 1   pclass                   498 non-null    int64  \n",
      " 2   sex                      498 non-null    object \n",
      " 3   age                      498 non-null    float64\n",
      " 4   sibsp                    498 non-null    int64  \n",
      " 5   parch                    498 non-null    int64  \n",
      " 6   fare                     498 non-null    float64\n",
      " 7   embark_town              498 non-null    object \n",
      " 8   alone                    498 non-null    int64  \n",
      " 9   sex_male                 498 non-null    uint8  \n",
      " 10  embark_town_Queenstown   498 non-null    uint8  \n",
      " 11  embark_town_Southampton  498 non-null    uint8  \n",
      "dtypes: float64(2), int64(5), object(2), uint8(3)\n",
      "memory usage: 40.4+ KB\n"
     ]
    }
   ],
   "source": [
    "train.info()"
   ]
  },
  {
   "cell_type": "code",
   "execution_count": 14,
   "id": "0b9604b6",
   "metadata": {},
   "outputs": [],
   "source": [
    "# Split new sample variables into X and y\n",
    "# y_*: Series, target variable\n",
    "# X_*: Dataframe, features\n",
    "X_train, y_train = train.drop(columns=['sex','survived','embark_town']), train.survived\n",
    "\n",
    "X_validate, y_validate = validate.drop(columns=['sex','survived','embark_town']), validate.survived\n",
    "\n",
    "X_test, y_test = test.drop(columns=['sex','survived','embark_town']), test.survived"
   ]
  },
  {
   "cell_type": "markdown",
   "id": "51dfcf8d",
   "metadata": {},
   "source": [
    "### 1. What is your baseline prediction? What is your baseline accuracy? remember: your baseline prediction for a classification problem is predicting the most prevelant class in the training dataset (the mode). When you make those predictions, what is your accuracy? This is your baseline accuracy."
   ]
  },
  {
   "cell_type": "code",
   "execution_count": 15,
   "id": "7da513bd",
   "metadata": {},
   "outputs": [
    {
     "data": {
      "text/plain": [
       "0    307\n",
       "1    191\n",
       "Name: survived, dtype: int64"
      ]
     },
     "execution_count": 15,
     "metadata": {},
     "output_type": "execute_result"
    }
   ],
   "source": [
    "y_train.value_counts()"
   ]
  },
  {
   "cell_type": "markdown",
   "id": "8cb2e946",
   "metadata": {},
   "source": [
    "Since most passengers did not survive ('0'), our baseline prediction will be 'survive == 0'"
   ]
  },
  {
   "cell_type": "code",
   "execution_count": 19,
   "id": "832690c9",
   "metadata": {},
   "outputs": [
    {
     "data": {
      "text/plain": [
       "DummyClassifier(constant=0, strategy='constant')"
      ]
     },
     "execution_count": 19,
     "metadata": {},
     "output_type": "execute_result"
    }
   ],
   "source": [
    "# 1. Create the baseline\n",
    "baseline = DummyClassifier(strategy='constant', constant=0) # baseline predicts no survivors\n",
    "\n",
    "# 2. Fit the baseline\n",
    "baseline.fit(X_train, y_train)"
   ]
  },
  {
   "cell_type": "code",
   "execution_count": 20,
   "id": "58b35f88",
   "metadata": {},
   "outputs": [
    {
     "name": "stdout",
     "output_type": "stream",
     "text": [
      "Baseline prediction accuracy: 61.65%\n"
     ]
    }
   ],
   "source": [
    "accuracy = round(baseline.score(X_train, y_train), 4)\n",
    "print(f'Baseline prediction accuracy: {round(100*accuracy, 4)}%')"
   ]
  },
  {
   "cell_type": "markdown",
   "id": "7e5227af",
   "metadata": {},
   "source": [
    "### 2. Fit the decision tree classifier to your training sample and transform (i.e. make predictions on the training sample)"
   ]
  },
  {
   "cell_type": "code",
   "execution_count": 22,
   "id": "48804e5a",
   "metadata": {},
   "outputs": [],
   "source": [
    "# 1. Create tje object\n",
    "\n",
    "clf = DecisionTreeClassifier(max_depth=3, random_state=123)"
   ]
  },
  {
   "cell_type": "code",
   "execution_count": 23,
   "id": "3a3d73c6",
   "metadata": {},
   "outputs": [],
   "source": [
    "# Fit the model\n",
    "\n",
    "clf = clf.fit(X_train, y_train)"
   ]
  },
  {
   "cell_type": "code",
   "execution_count": 22,
   "id": "be5fa0d6",
   "metadata": {},
   "outputs": [
    {
     "data": {
      "text/plain": [
       "'titanic_decision_tree.pdf'"
      ]
     },
     "execution_count": 22,
     "metadata": {},
     "output_type": "execute_result"
    }
   ],
   "source": [
    "# Visualize\n",
    "import graphviz\n",
    "from graphviz import Graph\n",
    "\n",
    "dot_data = export_graphviz(clf, feature_names= X_train.columns, rounded=True, filled=True, out_file=None)\n",
    "graph = graphviz.Source(dot_data) \n",
    "\n",
    "graph.render('titanic_decision_tree', view=False)"
   ]
  },
  {
   "cell_type": "code",
   "execution_count": 23,
   "id": "77668378",
   "metadata": {},
   "outputs": [
    {
     "data": {
      "image/png": "[encoded data removed]",
      "text/plain": [
       "<Figure size 1152x576 with 1 Axes>"
      ]
     },
     "metadata": {
      "needs_background": "light"
     },
     "output_type": "display_data"
    }
   ],
   "source": [
    "plt.figure(figsize=(16, 8))\n",
    "titanic_decision_tree = tree.plot_tree(clf, node_ids=True, filled=True, impurity=True)"
   ]
  },
  {
   "cell_type": "code",
   "execution_count": 24,
   "id": "b8502e88",
   "metadata": {},
   "outputs": [
    {
     "data": {
      "text/plain": [
       "array([0, 0, 0, 1, 1, 0, 0, 0, 0, 0, 1, 0, 1, 0, 0, 0, 0, 1, 0, 1, 1, 0,\n",
       "       1, 1, 0])"
      ]
     },
     "execution_count": 24,
     "metadata": {},
     "output_type": "execute_result"
    }
   ],
   "source": [
    "# Make predictions on in_sample data\n",
    "\n",
    "y_pred = clf.predict(X_train)\n",
    "y_pred[0:25]"
   ]
  },
  {
   "cell_type": "code",
   "execution_count": 25,
   "id": "d6ec975a",
   "metadata": {},
   "outputs": [
    {
     "data": {
      "text/plain": [
       "array([[0.65048544, 0.34951456],\n",
       "       [0.65048544, 0.34951456],\n",
       "       [0.65048544, 0.34951456],\n",
       "       [0.03225806, 0.96774194],\n",
       "       [0.03225806, 0.96774194]])"
      ]
     },
     "execution_count": 25,
     "metadata": {},
     "output_type": "execute_result"
    }
   ],
   "source": [
    "# Estimate probability of passengers surviving (left column: died, right column: survived)\n",
    "\n",
    "y_pred_proba = clf.predict_proba(X_train)\n",
    "y_pred_proba[0:5]"
   ]
  },
  {
   "cell_type": "markdown",
   "id": "59b5cd7a",
   "metadata": {},
   "source": [
    "### 3. Evaluate your in-sample results using the model score, confusion matrix, and classification report."
   ]
  },
  {
   "cell_type": "code",
   "execution_count": 26,
   "id": "93215d07",
   "metadata": {
    "scrolled": true
   },
   "outputs": [
    {
     "name": "stdout",
     "output_type": "stream",
     "text": [
      "Accuracy of Decision Tree classifier on training set: 0.83\n"
     ]
    }
   ],
   "source": [
    "# percentage of correct predictions over evaluated data\n",
    "print('Accuracy of Decision Tree classifier on training set: {:.2f}'\n",
    "      .format(clf.score(X_train, y_train)))"
   ]
  },
  {
   "cell_type": "markdown",
   "id": "c62da853",
   "metadata": {},
   "source": [
    "#### Confusion Matrix"
   ]
  },
  {
   "cell_type": "code",
   "execution_count": 27,
   "id": "9e687abd",
   "metadata": {},
   "outputs": [
    {
     "data": {
      "text/plain": [
       "array([[277,  30],\n",
       "       [ 57, 134]])"
      ]
     },
     "execution_count": 27,
     "metadata": {},
     "output_type": "execute_result"
    }
   ],
   "source": [
    "# columns: pred_died, pred_survived\n",
    "#row1: actual_died\n",
    "#row2: actual_survived\n",
    "\n",
    "con_mat = confusion_matrix(y_train, y_pred)\n",
    "con_mat"
   ]
  },
  {
   "cell_type": "markdown",
   "id": "efeed424",
   "metadata": {},
   "source": [
    "Positive case: Survived\n",
    "\n",
    "Negative case: Died"
   ]
  },
  {
   "cell_type": "code",
   "execution_count": 28,
   "id": "db1636eb",
   "metadata": {},
   "outputs": [],
   "source": [
    "# True positive = Survived and marked as survived\n",
    "tp = con_mat[1][1]\n",
    "\n",
    "# True negative = Died and marked as died\n",
    "tn = con_mat[0][0]\n",
    "\n",
    "# False positive = Died but marked as survived\n",
    "fp = con_mat[1][0]\n",
    "\n",
    "# False negative = Survived but marked as died\n",
    "fn = con_mat[0][1]"
   ]
  },
  {
   "cell_type": "markdown",
   "id": "7da0d1f9",
   "metadata": {},
   "source": [
    "**Classification Report**"
   ]
  },
  {
   "cell_type": "code",
   "execution_count": 29,
   "id": "998fc6d1",
   "metadata": {},
   "outputs": [
    {
     "data": {
      "text/html": [
       "<div>\n",
       "<style scoped>\n",
       "    .dataframe tbody tr th:only-of-type {\n",
       "        vertical-align: middle;\n",
       "    }\n",
       "\n",
       "    .dataframe tbody tr th {\n",
       "        vertical-align: top;\n",
       "    }\n",
       "\n",
       "    .dataframe thead th {\n",
       "        text-align: right;\n",
       "    }\n",
       "</style>\n",
       "<table border=\"1\" class=\"dataframe\">\n",
       "  <thead>\n",
       "    <tr style=\"text-align: right;\">\n",
       "      <th></th>\n",
       "      <th>0</th>\n",
       "      <th>1</th>\n",
       "      <th>accuracy</th>\n",
       "      <th>macro avg</th>\n",
       "      <th>weighted avg</th>\n",
       "    </tr>\n",
       "  </thead>\n",
       "  <tbody>\n",
       "    <tr>\n",
       "      <th>precision</th>\n",
       "      <td>0.829341</td>\n",
       "      <td>0.817073</td>\n",
       "      <td>0.825301</td>\n",
       "      <td>0.823207</td>\n",
       "      <td>0.824636</td>\n",
       "    </tr>\n",
       "    <tr>\n",
       "      <th>recall</th>\n",
       "      <td>0.902280</td>\n",
       "      <td>0.701571</td>\n",
       "      <td>0.825301</td>\n",
       "      <td>0.801925</td>\n",
       "      <td>0.825301</td>\n",
       "    </tr>\n",
       "    <tr>\n",
       "      <th>f1-score</th>\n",
       "      <td>0.864275</td>\n",
       "      <td>0.754930</td>\n",
       "      <td>0.825301</td>\n",
       "      <td>0.809602</td>\n",
       "      <td>0.822337</td>\n",
       "    </tr>\n",
       "    <tr>\n",
       "      <th>support</th>\n",
       "      <td>307.000000</td>\n",
       "      <td>191.000000</td>\n",
       "      <td>0.825301</td>\n",
       "      <td>498.000000</td>\n",
       "      <td>498.000000</td>\n",
       "    </tr>\n",
       "  </tbody>\n",
       "</table>\n",
       "</div>"
      ],
      "text/plain": [
       "                    0           1  accuracy   macro avg  weighted avg\n",
       "precision    0.829341    0.817073  0.825301    0.823207      0.824636\n",
       "recall       0.902280    0.701571  0.825301    0.801925      0.825301\n",
       "f1-score     0.864275    0.754930  0.825301    0.809602      0.822337\n",
       "support    307.000000  191.000000  0.825301  498.000000    498.000000"
      ]
     },
     "execution_count": 29,
     "metadata": {},
     "output_type": "execute_result"
    }
   ],
   "source": [
    "pd.DataFrame(classification_report(y_train, y_pred, output_dict=True))"
   ]
  },
  {
   "cell_type": "markdown",
   "id": "d8fd039f",
   "metadata": {},
   "source": [
    "### 4. Compute: Accuracy, true positive rate, false positive rate, true negative rate, false negative rate, precision, recall, f1-score, and support."
   ]
  },
  {
   "cell_type": "code",
   "execution_count": 30,
   "id": "b56268b3",
   "metadata": {},
   "outputs": [
    {
     "name": "stdout",
     "output_type": "stream",
     "text": [
      "Accuracy:  0.8253\n",
      "Precision: 0.7016\n",
      "Recall:    0.8171\n",
      "F-1 Score: 0.7549\n"
     ]
    }
   ],
   "source": [
    "a = (tp+tn)/(tp+tn+fp+fn)\n",
    "print('Accuracy: ', round(a, 4))\n",
    "\n",
    "p = tp/(tp+fp)\n",
    "print('Precision:', round(p, 4))\n",
    "\n",
    "r = tp/(tp+fn)\n",
    "print('Recall:   ', round(r, 4))\n",
    "\n",
    "f_1 = 2*r*p/(r+p)\n",
    "print('F-1 Score:', round(f_1, 4))"
   ]
  },
  {
   "cell_type": "code",
   "execution_count": 31,
   "id": "d0aa8845",
   "metadata": {
    "scrolled": true
   },
   "outputs": [
    {
     "name": "stdout",
     "output_type": "stream",
     "text": [
      " True positive rate = 0.8171\n",
      " True negative rate = 0.8293\n",
      "False positive rate = 0.1707\n",
      "False negative rate = 0.1829\n"
     ]
    }
   ],
   "source": [
    "tp_rate = tp / (tp+fn)\n",
    "print(' True positive rate =',round(tp_rate, 4))\n",
    "\n",
    "tn_rate = tn / (tn+fp)\n",
    "print(' True negative rate =',round(tn_rate, 4))\n",
    "\n",
    "fp_rate = fp / (tn+fp)\n",
    "print('False positive rate =',round(fp_rate, 4))\n",
    "\n",
    "fn_rate = fn / (tp+fn)\n",
    "print('False negative rate =',round(fn_rate, 4))"
   ]
  },
  {
   "cell_type": "code",
   "execution_count": 32,
   "id": "47b5f088",
   "metadata": {
    "scrolled": true
   },
   "outputs": [
    {
     "name": "stdout",
     "output_type": "stream",
     "text": [
      "Survived support: 191\n",
      "    Died support: 307\n"
     ]
    }
   ],
   "source": [
    "survived_sup = y_train[y_train==1].count()\n",
    "print('Survived support:',survived_sup)\n",
    "died_sup = y_train[y_train==0].count()\n",
    "print('    Died support:',died_sup)"
   ]
  },
  {
   "cell_type": "code",
   "execution_count": 33,
   "id": "ebb6d02f",
   "metadata": {},
   "outputs": [
    {
     "name": "stdout",
     "output_type": "stream",
     "text": [
      "Accuracy of Decision Tree classifier on validate set: 0.80\n"
     ]
    }
   ],
   "source": [
    "# test accuracy on validate dataset\n",
    "print('Accuracy of Decision Tree classifier on validate set: {:.2f}'\n",
    "     .format(clf.score(X_validate, y_validate)))"
   ]
  },
  {
   "cell_type": "code",
   "execution_count": 34,
   "id": "2ccd649b",
   "metadata": {},
   "outputs": [
    {
     "data": {
      "text/html": [
       "<div>\n",
       "<style scoped>\n",
       "    .dataframe tbody tr th:only-of-type {\n",
       "        vertical-align: middle;\n",
       "    }\n",
       "\n",
       "    .dataframe tbody tr th {\n",
       "        vertical-align: top;\n",
       "    }\n",
       "\n",
       "    .dataframe thead th {\n",
       "        text-align: right;\n",
       "    }\n",
       "</style>\n",
       "<table border=\"1\" class=\"dataframe\">\n",
       "  <thead>\n",
       "    <tr style=\"text-align: right;\">\n",
       "      <th></th>\n",
       "      <th>0</th>\n",
       "      <th>1</th>\n",
       "      <th>accuracy</th>\n",
       "      <th>macro avg</th>\n",
       "      <th>weighted avg</th>\n",
       "    </tr>\n",
       "  </thead>\n",
       "  <tbody>\n",
       "    <tr>\n",
       "      <th>precision</th>\n",
       "      <td>0.811189</td>\n",
       "      <td>0.774648</td>\n",
       "      <td>0.799065</td>\n",
       "      <td>0.792918</td>\n",
       "      <td>0.797187</td>\n",
       "    </tr>\n",
       "    <tr>\n",
       "      <th>recall</th>\n",
       "      <td>0.878788</td>\n",
       "      <td>0.670732</td>\n",
       "      <td>0.799065</td>\n",
       "      <td>0.774760</td>\n",
       "      <td>0.799065</td>\n",
       "    </tr>\n",
       "    <tr>\n",
       "      <th>f1-score</th>\n",
       "      <td>0.843636</td>\n",
       "      <td>0.718954</td>\n",
       "      <td>0.799065</td>\n",
       "      <td>0.781295</td>\n",
       "      <td>0.795861</td>\n",
       "    </tr>\n",
       "    <tr>\n",
       "      <th>support</th>\n",
       "      <td>132.000000</td>\n",
       "      <td>82.000000</td>\n",
       "      <td>0.799065</td>\n",
       "      <td>214.000000</td>\n",
       "      <td>214.000000</td>\n",
       "    </tr>\n",
       "  </tbody>\n",
       "</table>\n",
       "</div>"
      ],
      "text/plain": [
       "                    0          1  accuracy   macro avg  weighted avg\n",
       "precision    0.811189   0.774648  0.799065    0.792918      0.797187\n",
       "recall       0.878788   0.670732  0.799065    0.774760      0.799065\n",
       "f1-score     0.843636   0.718954  0.799065    0.781295      0.795861\n",
       "support    132.000000  82.000000  0.799065  214.000000    214.000000"
      ]
     },
     "execution_count": 34,
     "metadata": {},
     "output_type": "execute_result"
    }
   ],
   "source": [
    "# y_predictions that come from the X_validate\n",
    "y_pred = clf.predict(X_validate)\n",
    "\n",
    "# Compare actual y values (from validate) to predicted y_values from the model run on X_validate\n",
    "pd.DataFrame(classification_report(y_validate, y_pred, output_dict=True))"
   ]
  },
  {
   "cell_type": "markdown",
   "id": "0cf62bcb",
   "metadata": {},
   "source": [
    "### 5. Run through steps 2-4 using a different max_depth value."
   ]
  },
  {
   "cell_type": "code",
   "execution_count": 35,
   "id": "052cc245",
   "metadata": {},
   "outputs": [
    {
     "name": "stdout",
     "output_type": "stream",
     "text": [
      "         Model Accuracy vs. Max Depth\n",
      "\n",
      "---------------\n",
      "Max depth 1 on: - training set: 0.7991967871485943\n",
      "                - validate set: 0.7616822429906542\n",
      "---------------\n",
      "Max depth 2 on: - training set: 0.7991967871485943\n",
      "                - validate set: 0.7616822429906542\n",
      "---------------\n",
      "Max depth 3 on: - training set: 0.8253012048192772\n",
      "                - validate set: 0.7990654205607477\n",
      "---------------\n",
      "Max depth 4 on: - training set: 0.8353413654618473\n",
      "                - validate set: 0.794392523364486\n",
      "---------------\n",
      "Max depth 5 on: - training set: 0.8534136546184738\n",
      "                - validate set: 0.8037383177570093\n",
      "---------------\n",
      "Max depth 6 on: - training set: 0.8654618473895582\n",
      "                - validate set: 0.7897196261682243\n",
      "---------------\n",
      "Max depth 7 on: - training set: 0.8835341365461847\n",
      "                - validate set: 0.7850467289719626\n"
     ]
    }
   ],
   "source": [
    "print('         Model Accuracy vs. Max Depth')\n",
    "print()\n",
    "for i in range(1,8):\n",
    "    clf = DecisionTreeClassifier(max_depth=i, random_state=1234)\n",
    "    clf = clf.fit(X_train, y_train)\n",
    "    y_pred = clf.predict(X_train)\n",
    "    y_pred_proba = clf.predict_proba(X_train)\n",
    "    print('---------------')\n",
    "    print(f'Max depth {i} on: - training set:', clf.score(X_train, y_train))\n",
    "    print('                - validate set:', clf.score(X_validate, y_validate))"
   ]
  },
  {
   "cell_type": "markdown",
   "id": "4a9ec694",
   "metadata": {},
   "source": [
    "### 6, 7. Which model performs better on your in-sample data? Out-of-sample data (the validate set)?"
   ]
  },
  {
   "cell_type": "markdown",
   "id": "560bc64b",
   "metadata": {},
   "source": [
    "The model that performs best on the in-sample data is the model that has largest max depth of 6.\n",
    "\n",
    "The model that performs best on the out-of-sample data is the model with a max depth of 5.\n",
    "\n",
    "By looking at the change in max depth vs the change in accuracies, it becomes clear that, although the in-sample accuracy increases with max depth, the out-of-sample accuracy decreases past a max depth of 5. This hints to the fact that the higher accuracy in the model with max_depth=6 is a result of over-fitting, and that it may be best to stay under that number."
   ]
  },
  {
   "cell_type": "markdown",
   "id": "f126943b",
   "metadata": {},
   "source": [
    "# Random Forests - Exercises"
   ]
  },
  {
   "cell_type": "code",
   "execution_count": 36,
   "id": "3b72ffd6",
   "metadata": {},
   "outputs": [],
   "source": [
    "from sklearn.ensemble import RandomForestClassifier"
   ]
  },
  {
   "cell_type": "markdown",
   "id": "bb855502",
   "metadata": {},
   "source": [
    "### 1. Fit the Random Forest classifier to your training sample and transform (i.e. make predictions on the training sample) setting the random_state accordingly and setting min_samples_leaf = 1 and max_depth = 10."
   ]
  },
  {
   "cell_type": "markdown",
   "id": "1420251f",
   "metadata": {},
   "source": [
    "First we will create the model using the X_train and y_train data:"
   ]
  },
  {
   "cell_type": "code",
   "execution_count": 89,
   "id": "b0d4ea07",
   "metadata": {},
   "outputs": [],
   "source": [
    "rf = RandomForestClassifier(bootstrap=True, \n",
    "                            class_weight=None, \n",
    "                            criterion='gini',\n",
    "                            min_samples_leaf=1,\n",
    "                            n_estimators=100,\n",
    "                            max_depth=10, \n",
    "                            random_state=123)"
   ]
  },
  {
   "cell_type": "markdown",
   "id": "917f8d2e",
   "metadata": {},
   "source": [
    "Fit the model to the random forest classifier:"
   ]
  },
  {
   "cell_type": "code",
   "execution_count": 90,
   "id": "dceb6f86",
   "metadata": {
    "scrolled": true
   },
   "outputs": [
    {
     "data": {
      "text/plain": [
       "RandomForestClassifier(max_depth=10, random_state=123)"
      ]
     },
     "execution_count": 90,
     "metadata": {},
     "output_type": "execute_result"
    }
   ],
   "source": [
    "rf.fit(X_train, y_train)"
   ]
  },
  {
   "cell_type": "code",
   "execution_count": 91,
   "id": "e652a02e",
   "metadata": {
    "scrolled": false
   },
   "outputs": [
    {
     "name": "stdout",
     "output_type": "stream",
     "text": [
      "Index(['pclass', 'age', 'sibsp', 'parch', 'fare', 'alone', 'sex_male',\n",
      "       'embark_town_Queenstown', 'embark_town_Southampton'],\n",
      "      dtype='object')\n",
      "[0.08948574 0.2187192  0.05511936 0.02846755 0.23923619 0.01805384\n",
      " 0.31226911 0.01487009 0.02377892]\n"
     ]
    }
   ],
   "source": [
    "print(X_train.columns)\n",
    "print(rf.feature_importances_)"
   ]
  },
  {
   "cell_type": "markdown",
   "id": "8075b2b9",
   "metadata": {},
   "source": [
    "From feature_importances_, we see that age, fare, and sex are all important feartures."
   ]
  },
  {
   "cell_type": "code",
   "execution_count": 92,
   "id": "30b08cbf",
   "metadata": {},
   "outputs": [
    {
     "data": {
      "text/plain": [
       "array([0, 1, 0, 1, 1])"
      ]
     },
     "execution_count": 92,
     "metadata": {},
     "output_type": "execute_result"
    }
   ],
   "source": [
    "# make predictions\n",
    "y_pred = rf.predict(X_train)\n",
    "y_pred[0:5]"
   ]
  },
  {
   "cell_type": "code",
   "execution_count": 93,
   "id": "69fbd18d",
   "metadata": {},
   "outputs": [
    {
     "data": {
      "text/plain": [
       "array([[0.74364871, 0.25635129],\n",
       "       [0.23583333, 0.76416667],\n",
       "       [0.976     , 0.024     ],\n",
       "       [0.03333333, 0.96666667],\n",
       "       [0.01      , 0.99      ]])"
      ]
     },
     "execution_count": 93,
     "metadata": {},
     "output_type": "execute_result"
    }
   ],
   "source": [
    "# predicted probability of survival rate\n",
    "# left column = died, right = survived\n",
    "y_pred_proba = rf.predict_proba(X_train)\n",
    "y_pred_proba[0:5]"
   ]
  },
  {
   "cell_type": "markdown",
   "id": "b7ae6d53",
   "metadata": {},
   "source": [
    "### 2. Evaluate your results using the model score, confusion matrix, and classification report."
   ]
  },
  {
   "cell_type": "code",
   "execution_count": 94,
   "id": "035e4339",
   "metadata": {},
   "outputs": [
    {
     "name": "stdout",
     "output_type": "stream",
     "text": [
      "Accuracy of random forest classifier on training set: 0.97\n",
      "Accuracy of random forest classifier on test set: 0.81\n"
     ]
    }
   ],
   "source": [
    "print('Accuracy of random forest classifier on training set: {:.2f}'\n",
    "     .format(rf.score(X_train, y_train)))\n",
    "print('Accuracy of random forest classifier on test set: {:.2f}'\n",
    "     .format(rf.score(X_validate, y_validate)))"
   ]
  },
  {
   "cell_type": "code",
   "execution_count": 95,
   "id": "d74473f7",
   "metadata": {},
   "outputs": [
    {
     "data": {
      "text/html": [
       "<div>\n",
       "<style scoped>\n",
       "    .dataframe tbody tr th:only-of-type {\n",
       "        vertical-align: middle;\n",
       "    }\n",
       "\n",
       "    .dataframe tbody tr th {\n",
       "        vertical-align: top;\n",
       "    }\n",
       "\n",
       "    .dataframe thead th {\n",
       "        text-align: right;\n",
       "    }\n",
       "</style>\n",
       "<table border=\"1\" class=\"dataframe\">\n",
       "  <thead>\n",
       "    <tr style=\"text-align: right;\">\n",
       "      <th></th>\n",
       "      <th>pred_died</th>\n",
       "      <th>pred_surv</th>\n",
       "    </tr>\n",
       "  </thead>\n",
       "  <tbody>\n",
       "    <tr>\n",
       "      <th>act_died</th>\n",
       "      <td>307</td>\n",
       "      <td>0</td>\n",
       "    </tr>\n",
       "    <tr>\n",
       "      <th>act_surv</th>\n",
       "      <td>15</td>\n",
       "      <td>176</td>\n",
       "    </tr>\n",
       "  </tbody>\n",
       "</table>\n",
       "</div>"
      ],
      "text/plain": [
       "          pred_died  pred_surv\n",
       "act_died        307          0\n",
       "act_surv         15        176"
      ]
     },
     "execution_count": 95,
     "metadata": {},
     "output_type": "execute_result"
    }
   ],
   "source": [
    "con_mat = pd.DataFrame(confusion_matrix(y_train, y_pred), index=['act_died','act_surv'], columns=['pred_died','pred_surv'])\n",
    "con_mat"
   ]
  },
  {
   "cell_type": "code",
   "execution_count": 96,
   "id": "b01009c5",
   "metadata": {},
   "outputs": [
    {
     "data": {
      "text/html": [
       "<div>\n",
       "<style scoped>\n",
       "    .dataframe tbody tr th:only-of-type {\n",
       "        vertical-align: middle;\n",
       "    }\n",
       "\n",
       "    .dataframe tbody tr th {\n",
       "        vertical-align: top;\n",
       "    }\n",
       "\n",
       "    .dataframe thead th {\n",
       "        text-align: right;\n",
       "    }\n",
       "</style>\n",
       "<table border=\"1\" class=\"dataframe\">\n",
       "  <thead>\n",
       "    <tr style=\"text-align: right;\">\n",
       "      <th></th>\n",
       "      <th>0</th>\n",
       "      <th>1</th>\n",
       "      <th>accuracy</th>\n",
       "      <th>macro avg</th>\n",
       "      <th>weighted avg</th>\n",
       "    </tr>\n",
       "  </thead>\n",
       "  <tbody>\n",
       "    <tr>\n",
       "      <th>precision</th>\n",
       "      <td>0.953416</td>\n",
       "      <td>1.000000</td>\n",
       "      <td>0.96988</td>\n",
       "      <td>0.976708</td>\n",
       "      <td>0.971283</td>\n",
       "    </tr>\n",
       "    <tr>\n",
       "      <th>recall</th>\n",
       "      <td>1.000000</td>\n",
       "      <td>0.921466</td>\n",
       "      <td>0.96988</td>\n",
       "      <td>0.960733</td>\n",
       "      <td>0.969880</td>\n",
       "    </tr>\n",
       "    <tr>\n",
       "      <th>f1-score</th>\n",
       "      <td>0.976153</td>\n",
       "      <td>0.959128</td>\n",
       "      <td>0.96988</td>\n",
       "      <td>0.967640</td>\n",
       "      <td>0.969623</td>\n",
       "    </tr>\n",
       "    <tr>\n",
       "      <th>support</th>\n",
       "      <td>307.000000</td>\n",
       "      <td>191.000000</td>\n",
       "      <td>0.96988</td>\n",
       "      <td>498.000000</td>\n",
       "      <td>498.000000</td>\n",
       "    </tr>\n",
       "  </tbody>\n",
       "</table>\n",
       "</div>"
      ],
      "text/plain": [
       "                    0           1  accuracy   macro avg  weighted avg\n",
       "precision    0.953416    1.000000   0.96988    0.976708      0.971283\n",
       "recall       1.000000    0.921466   0.96988    0.960733      0.969880\n",
       "f1-score     0.976153    0.959128   0.96988    0.967640      0.969623\n",
       "support    307.000000  191.000000   0.96988  498.000000    498.000000"
      ]
     },
     "execution_count": 96,
     "metadata": {},
     "output_type": "execute_result"
    }
   ],
   "source": [
    "pd.DataFrame(classification_report(y_train, y_pred, output_dict=True))"
   ]
  },
  {
   "cell_type": "markdown",
   "id": "9eb6006d",
   "metadata": {},
   "source": [
    "### 3. Print and clearly label the following: Accuracy, true positive rate, false positive rate, true negative rate, false negative rate, precision, recall, f1-score, and support."
   ]
  },
  {
   "cell_type": "markdown",
   "id": "d71585df",
   "metadata": {},
   "source": [
    "Positive case: Survived\n",
    "\n",
    "Negative case: Died"
   ]
  },
  {
   "cell_type": "code",
   "execution_count": 97,
   "id": "db1adee8",
   "metadata": {
    "scrolled": true
   },
   "outputs": [],
   "source": [
    "# True positive = Survived and marked as survived\n",
    "tp = con_mat.pred_surv[1]\n",
    "\n",
    "# True negative = Died and marked as died\n",
    "tn = con_mat.pred_died[0]\n",
    "\n",
    "# False positive = Died but marked as survived\n",
    "fp = con_mat.pred_surv[0]\n",
    "\n",
    "# False negative = Survived but marked as died\n",
    "fn = con_mat.pred_died[1]"
   ]
  },
  {
   "cell_type": "code",
   "execution_count": 98,
   "id": "05152be9",
   "metadata": {},
   "outputs": [
    {
     "name": "stdout",
     "output_type": "stream",
     "text": [
      "Accuracy:  0.9699\n",
      "Precision: 1.0\n",
      "Recall:    0.9215\n",
      "F-1 Score: 0.9591\n"
     ]
    }
   ],
   "source": [
    "a = (tp+tn)/(tp+tn+fp+fn)\n",
    "print('Accuracy: ', round(a, 4))\n",
    "p = tp/(tp+fp)\n",
    "print('Precision:', round(p, 4))\n",
    "r = tp/(tp+fn)\n",
    "print('Recall:   ', round(r, 4))\n",
    "f_1 = 2*r*p/(r+p)\n",
    "print('F-1 Score:', round(f_1, 4))"
   ]
  },
  {
   "cell_type": "code",
   "execution_count": 99,
   "id": "80a6dfbe",
   "metadata": {},
   "outputs": [
    {
     "name": "stdout",
     "output_type": "stream",
     "text": [
      " True positive rate = 0.9215\n",
      " True negative rate = 1.0\n",
      "False positive rate = 0.0\n",
      "False negative rate = 0.0785\n"
     ]
    }
   ],
   "source": [
    "tp_rate = tp / (tp+fn)\n",
    "print(' True positive rate =',round(tp_rate, 4))\n",
    "tn_rate = tn / (tn+fp)\n",
    "print(' True negative rate =',round(tn_rate, 4))\n",
    "fp_rate = fp / (tn+fp)\n",
    "print('False positive rate =',round(fp_rate, 4))\n",
    "fn_rate = fn / (tp+fn)\n",
    "print('False negative rate =',round(fn_rate, 4))"
   ]
  },
  {
   "cell_type": "markdown",
   "id": "b4695cf1",
   "metadata": {},
   "source": [
    "### 4. Run through steps increasing your min_samples_leaf and decreasing your max_depth."
   ]
  },
  {
   "cell_type": "code",
   "execution_count": 132,
   "id": "5e7a11c4",
   "metadata": {},
   "outputs": [
    {
     "name": "stdout",
     "output_type": "stream",
     "text": [
      "Accuracy of random forest classifier on training set: 0.90\n"
     ]
    },
    {
     "data": {
      "text/html": [
       "<div>\n",
       "<style scoped>\n",
       "    .dataframe tbody tr th:only-of-type {\n",
       "        vertical-align: middle;\n",
       "    }\n",
       "\n",
       "    .dataframe tbody tr th {\n",
       "        vertical-align: top;\n",
       "    }\n",
       "\n",
       "    .dataframe thead th {\n",
       "        text-align: right;\n",
       "    }\n",
       "</style>\n",
       "<table border=\"1\" class=\"dataframe\">\n",
       "  <thead>\n",
       "    <tr style=\"text-align: right;\">\n",
       "      <th></th>\n",
       "      <th>0</th>\n",
       "      <th>1</th>\n",
       "      <th>accuracy</th>\n",
       "      <th>macro avg</th>\n",
       "      <th>weighted avg</th>\n",
       "    </tr>\n",
       "  </thead>\n",
       "  <tbody>\n",
       "    <tr>\n",
       "      <th>precision</th>\n",
       "      <td>0.883929</td>\n",
       "      <td>0.938272</td>\n",
       "      <td>0.901606</td>\n",
       "      <td>0.911100</td>\n",
       "      <td>0.904771</td>\n",
       "    </tr>\n",
       "    <tr>\n",
       "      <th>recall</th>\n",
       "      <td>0.967427</td>\n",
       "      <td>0.795812</td>\n",
       "      <td>0.901606</td>\n",
       "      <td>0.881619</td>\n",
       "      <td>0.901606</td>\n",
       "    </tr>\n",
       "    <tr>\n",
       "      <th>f1-score</th>\n",
       "      <td>0.923795</td>\n",
       "      <td>0.861190</td>\n",
       "      <td>0.901606</td>\n",
       "      <td>0.892492</td>\n",
       "      <td>0.899784</td>\n",
       "    </tr>\n",
       "    <tr>\n",
       "      <th>support</th>\n",
       "      <td>307.000000</td>\n",
       "      <td>191.000000</td>\n",
       "      <td>0.901606</td>\n",
       "      <td>498.000000</td>\n",
       "      <td>498.000000</td>\n",
       "    </tr>\n",
       "  </tbody>\n",
       "</table>\n",
       "</div>"
      ],
      "text/plain": [
       "                    0           1  accuracy   macro avg  weighted avg\n",
       "precision    0.883929    0.938272  0.901606    0.911100      0.904771\n",
       "recall       0.967427    0.795812  0.901606    0.881619      0.901606\n",
       "f1-score     0.923795    0.861190  0.901606    0.892492      0.899784\n",
       "support    307.000000  191.000000  0.901606  498.000000    498.000000"
      ]
     },
     "execution_count": 132,
     "metadata": {},
     "output_type": "execute_result"
    }
   ],
   "source": [
    "rf1 = RandomForestClassifier(bootstrap=True, \n",
    "                            class_weight=None, \n",
    "                            criterion='gini',\n",
    "                            min_samples_leaf=3,\n",
    "                            n_estimators=100,\n",
    "                            max_depth=9, \n",
    "                            random_state=123)\n",
    "rf1.fit(X_train, y_train)\n",
    "y_pred = rf1.predict(X_train)\n",
    "print('Accuracy of random forest classifier on training set: {:.2f}'\n",
    "     .format(rf1.score(X_train, y_train)))\n",
    "pd.DataFrame(classification_report(y_train, y_pred, output_dict=True))"
   ]
  },
  {
   "cell_type": "code",
   "execution_count": 133,
   "id": "e2ef6198",
   "metadata": {},
   "outputs": [
    {
     "name": "stdout",
     "output_type": "stream",
     "text": [
      "Accuracy of random forest classifier on training set: 0.88\n"
     ]
    },
    {
     "data": {
      "text/html": [
       "<div>\n",
       "<style scoped>\n",
       "    .dataframe tbody tr th:only-of-type {\n",
       "        vertical-align: middle;\n",
       "    }\n",
       "\n",
       "    .dataframe tbody tr th {\n",
       "        vertical-align: top;\n",
       "    }\n",
       "\n",
       "    .dataframe thead th {\n",
       "        text-align: right;\n",
       "    }\n",
       "</style>\n",
       "<table border=\"1\" class=\"dataframe\">\n",
       "  <thead>\n",
       "    <tr style=\"text-align: right;\">\n",
       "      <th></th>\n",
       "      <th>0</th>\n",
       "      <th>1</th>\n",
       "      <th>accuracy</th>\n",
       "      <th>macro avg</th>\n",
       "      <th>weighted avg</th>\n",
       "    </tr>\n",
       "  </thead>\n",
       "  <tbody>\n",
       "    <tr>\n",
       "      <th>precision</th>\n",
       "      <td>0.864706</td>\n",
       "      <td>0.917722</td>\n",
       "      <td>0.881526</td>\n",
       "      <td>0.891214</td>\n",
       "      <td>0.885039</td>\n",
       "    </tr>\n",
       "    <tr>\n",
       "      <th>recall</th>\n",
       "      <td>0.957655</td>\n",
       "      <td>0.759162</td>\n",
       "      <td>0.881526</td>\n",
       "      <td>0.858409</td>\n",
       "      <td>0.881526</td>\n",
       "    </tr>\n",
       "    <tr>\n",
       "      <th>f1-score</th>\n",
       "      <td>0.908810</td>\n",
       "      <td>0.830946</td>\n",
       "      <td>0.881526</td>\n",
       "      <td>0.869878</td>\n",
       "      <td>0.878946</td>\n",
       "    </tr>\n",
       "    <tr>\n",
       "      <th>support</th>\n",
       "      <td>307.000000</td>\n",
       "      <td>191.000000</td>\n",
       "      <td>0.881526</td>\n",
       "      <td>498.000000</td>\n",
       "      <td>498.000000</td>\n",
       "    </tr>\n",
       "  </tbody>\n",
       "</table>\n",
       "</div>"
      ],
      "text/plain": [
       "                    0           1  accuracy   macro avg  weighted avg\n",
       "precision    0.864706    0.917722  0.881526    0.891214      0.885039\n",
       "recall       0.957655    0.759162  0.881526    0.858409      0.881526\n",
       "f1-score     0.908810    0.830946  0.881526    0.869878      0.878946\n",
       "support    307.000000  191.000000  0.881526  498.000000    498.000000"
      ]
     },
     "execution_count": 133,
     "metadata": {},
     "output_type": "execute_result"
    }
   ],
   "source": [
    "rf2 = RandomForestClassifier(bootstrap=True, \n",
    "                            class_weight=None, \n",
    "                            criterion='gini',\n",
    "                            min_samples_leaf=5,\n",
    "                            n_estimators=100,\n",
    "                            max_depth=8, \n",
    "                            random_state=123)\n",
    "rf2.fit(X_train, y_train)\n",
    "y_pred = rf2.predict(X_train)\n",
    "print('Accuracy of random forest classifier on training set: {:.2f}'\n",
    "     .format(rf2.score(X_train, y_train)))\n",
    "pd.DataFrame(classification_report(y_train, y_pred, output_dict=True))"
   ]
  },
  {
   "cell_type": "code",
   "execution_count": 134,
   "id": "7bb263bc",
   "metadata": {},
   "outputs": [
    {
     "name": "stdout",
     "output_type": "stream",
     "text": [
      "Accuracy of random forest classifier on training set: 0.86\n"
     ]
    },
    {
     "data": {
      "text/html": [
       "<div>\n",
       "<style scoped>\n",
       "    .dataframe tbody tr th:only-of-type {\n",
       "        vertical-align: middle;\n",
       "    }\n",
       "\n",
       "    .dataframe tbody tr th {\n",
       "        vertical-align: top;\n",
       "    }\n",
       "\n",
       "    .dataframe thead th {\n",
       "        text-align: right;\n",
       "    }\n",
       "</style>\n",
       "<table border=\"1\" class=\"dataframe\">\n",
       "  <thead>\n",
       "    <tr style=\"text-align: right;\">\n",
       "      <th></th>\n",
       "      <th>0</th>\n",
       "      <th>1</th>\n",
       "      <th>accuracy</th>\n",
       "      <th>macro avg</th>\n",
       "      <th>weighted avg</th>\n",
       "    </tr>\n",
       "  </thead>\n",
       "  <tbody>\n",
       "    <tr>\n",
       "      <th>precision</th>\n",
       "      <td>0.842407</td>\n",
       "      <td>0.912752</td>\n",
       "      <td>0.863454</td>\n",
       "      <td>0.877579</td>\n",
       "      <td>0.869387</td>\n",
       "    </tr>\n",
       "    <tr>\n",
       "      <th>recall</th>\n",
       "      <td>0.957655</td>\n",
       "      <td>0.712042</td>\n",
       "      <td>0.863454</td>\n",
       "      <td>0.834848</td>\n",
       "      <td>0.863454</td>\n",
       "    </tr>\n",
       "    <tr>\n",
       "      <th>f1-score</th>\n",
       "      <td>0.896341</td>\n",
       "      <td>0.800000</td>\n",
       "      <td>0.863454</td>\n",
       "      <td>0.848171</td>\n",
       "      <td>0.859391</td>\n",
       "    </tr>\n",
       "    <tr>\n",
       "      <th>support</th>\n",
       "      <td>307.000000</td>\n",
       "      <td>191.000000</td>\n",
       "      <td>0.863454</td>\n",
       "      <td>498.000000</td>\n",
       "      <td>498.000000</td>\n",
       "    </tr>\n",
       "  </tbody>\n",
       "</table>\n",
       "</div>"
      ],
      "text/plain": [
       "                    0           1  accuracy   macro avg  weighted avg\n",
       "precision    0.842407    0.912752  0.863454    0.877579      0.869387\n",
       "recall       0.957655    0.712042  0.863454    0.834848      0.863454\n",
       "f1-score     0.896341    0.800000  0.863454    0.848171      0.859391\n",
       "support    307.000000  191.000000  0.863454  498.000000    498.000000"
      ]
     },
     "execution_count": 134,
     "metadata": {},
     "output_type": "execute_result"
    }
   ],
   "source": [
    "rf3 = RandomForestClassifier(bootstrap=True, \n",
    "                            class_weight=None, \n",
    "                            criterion='gini',\n",
    "                            min_samples_leaf=7,\n",
    "                            n_estimators=100,\n",
    "                            max_depth=7, \n",
    "                            random_state=123)\n",
    "rf3.fit(X_train, y_train)\n",
    "y_pred = rf3.predict(X_train)\n",
    "print('Accuracy of random forest classifier on training set: {:.2f}'\n",
    "     .format(rf3.score(X_train, y_train)))\n",
    "pd.DataFrame(classification_report(y_train, y_pred, output_dict=True))"
   ]
  },
  {
   "cell_type": "code",
   "execution_count": 135,
   "id": "e31bf1d3",
   "metadata": {},
   "outputs": [
    {
     "name": "stdout",
     "output_type": "stream",
     "text": [
      "Accuracy of random forest classifier on training set: 0.86\n"
     ]
    },
    {
     "data": {
      "text/html": [
       "<div>\n",
       "<style scoped>\n",
       "    .dataframe tbody tr th:only-of-type {\n",
       "        vertical-align: middle;\n",
       "    }\n",
       "\n",
       "    .dataframe tbody tr th {\n",
       "        vertical-align: top;\n",
       "    }\n",
       "\n",
       "    .dataframe thead th {\n",
       "        text-align: right;\n",
       "    }\n",
       "</style>\n",
       "<table border=\"1\" class=\"dataframe\">\n",
       "  <thead>\n",
       "    <tr style=\"text-align: right;\">\n",
       "      <th></th>\n",
       "      <th>0</th>\n",
       "      <th>1</th>\n",
       "      <th>accuracy</th>\n",
       "      <th>macro avg</th>\n",
       "      <th>weighted avg</th>\n",
       "    </tr>\n",
       "  </thead>\n",
       "  <tbody>\n",
       "    <tr>\n",
       "      <th>precision</th>\n",
       "      <td>0.836676</td>\n",
       "      <td>0.899329</td>\n",
       "      <td>0.855422</td>\n",
       "      <td>0.868003</td>\n",
       "      <td>0.860706</td>\n",
       "    </tr>\n",
       "    <tr>\n",
       "      <th>recall</th>\n",
       "      <td>0.951140</td>\n",
       "      <td>0.701571</td>\n",
       "      <td>0.855422</td>\n",
       "      <td>0.826355</td>\n",
       "      <td>0.855422</td>\n",
       "    </tr>\n",
       "    <tr>\n",
       "      <th>f1-score</th>\n",
       "      <td>0.890244</td>\n",
       "      <td>0.788235</td>\n",
       "      <td>0.855422</td>\n",
       "      <td>0.839240</td>\n",
       "      <td>0.851120</td>\n",
       "    </tr>\n",
       "    <tr>\n",
       "      <th>support</th>\n",
       "      <td>307.000000</td>\n",
       "      <td>191.000000</td>\n",
       "      <td>0.855422</td>\n",
       "      <td>498.000000</td>\n",
       "      <td>498.000000</td>\n",
       "    </tr>\n",
       "  </tbody>\n",
       "</table>\n",
       "</div>"
      ],
      "text/plain": [
       "                    0           1  accuracy   macro avg  weighted avg\n",
       "precision    0.836676    0.899329  0.855422    0.868003      0.860706\n",
       "recall       0.951140    0.701571  0.855422    0.826355      0.855422\n",
       "f1-score     0.890244    0.788235  0.855422    0.839240      0.851120\n",
       "support    307.000000  191.000000  0.855422  498.000000    498.000000"
      ]
     },
     "execution_count": 135,
     "metadata": {},
     "output_type": "execute_result"
    }
   ],
   "source": [
    "rf4 = RandomForestClassifier(bootstrap=True, \n",
    "                            class_weight=None, \n",
    "                            criterion='gini',\n",
    "                            min_samples_leaf=9,\n",
    "                            n_estimators=100,\n",
    "                            max_depth=6, \n",
    "                            random_state=123)\n",
    "rf4.fit(X_train, y_train)\n",
    "y_pred = rf4.predict(X_train)\n",
    "print('Accuracy of random forest classifier on training set: {:.2f}'\n",
    "     .format(rf4.score(X_train, y_train)))\n",
    "pd.DataFrame(classification_report(y_train, y_pred, output_dict=True))"
   ]
  },
  {
   "cell_type": "code",
   "execution_count": 136,
   "id": "6f62195e",
   "metadata": {},
   "outputs": [
    {
     "name": "stdout",
     "output_type": "stream",
     "text": [
      "Accuracy of random forest classifier on training set: 0.84\n"
     ]
    },
    {
     "data": {
      "text/html": [
       "<div>\n",
       "<style scoped>\n",
       "    .dataframe tbody tr th:only-of-type {\n",
       "        vertical-align: middle;\n",
       "    }\n",
       "\n",
       "    .dataframe tbody tr th {\n",
       "        vertical-align: top;\n",
       "    }\n",
       "\n",
       "    .dataframe thead th {\n",
       "        text-align: right;\n",
       "    }\n",
       "</style>\n",
       "<table border=\"1\" class=\"dataframe\">\n",
       "  <thead>\n",
       "    <tr style=\"text-align: right;\">\n",
       "      <th></th>\n",
       "      <th>0</th>\n",
       "      <th>1</th>\n",
       "      <th>accuracy</th>\n",
       "      <th>macro avg</th>\n",
       "      <th>weighted avg</th>\n",
       "    </tr>\n",
       "  </thead>\n",
       "  <tbody>\n",
       "    <tr>\n",
       "      <th>precision</th>\n",
       "      <td>0.828080</td>\n",
       "      <td>0.879195</td>\n",
       "      <td>0.843373</td>\n",
       "      <td>0.853637</td>\n",
       "      <td>0.847684</td>\n",
       "    </tr>\n",
       "    <tr>\n",
       "      <th>recall</th>\n",
       "      <td>0.941368</td>\n",
       "      <td>0.685864</td>\n",
       "      <td>0.843373</td>\n",
       "      <td>0.813616</td>\n",
       "      <td>0.843373</td>\n",
       "    </tr>\n",
       "    <tr>\n",
       "      <th>f1-score</th>\n",
       "      <td>0.881098</td>\n",
       "      <td>0.770588</td>\n",
       "      <td>0.843373</td>\n",
       "      <td>0.825843</td>\n",
       "      <td>0.838713</td>\n",
       "    </tr>\n",
       "    <tr>\n",
       "      <th>support</th>\n",
       "      <td>307.000000</td>\n",
       "      <td>191.000000</td>\n",
       "      <td>0.843373</td>\n",
       "      <td>498.000000</td>\n",
       "      <td>498.000000</td>\n",
       "    </tr>\n",
       "  </tbody>\n",
       "</table>\n",
       "</div>"
      ],
      "text/plain": [
       "                    0           1  accuracy   macro avg  weighted avg\n",
       "precision    0.828080    0.879195  0.843373    0.853637      0.847684\n",
       "recall       0.941368    0.685864  0.843373    0.813616      0.843373\n",
       "f1-score     0.881098    0.770588  0.843373    0.825843      0.838713\n",
       "support    307.000000  191.000000  0.843373  498.000000    498.000000"
      ]
     },
     "execution_count": 136,
     "metadata": {},
     "output_type": "execute_result"
    }
   ],
   "source": [
    "rf5 = RandomForestClassifier(bootstrap=True, \n",
    "                            class_weight=None, \n",
    "                            criterion='gini',\n",
    "                            min_samples_leaf=11,\n",
    "                            n_estimators=100,\n",
    "                            max_depth=5, \n",
    "                            random_state=123)\n",
    "rf5.fit(X_train, y_train)\n",
    "y_pred = rf5.predict(X_train)\n",
    "print('Accuracy of random forest classifier on training set: {:.2f}'\n",
    "     .format(rf5.score(X_train, y_train)))\n",
    "pd.DataFrame(classification_report(y_train, y_pred, output_dict=True))"
   ]
  },
  {
   "cell_type": "markdown",
   "id": "84a8eb68",
   "metadata": {},
   "source": [
    "### 5. What are the differences in the evaluation metrics? Which performs better on your in-sample data? Why?"
   ]
  },
  {
   "cell_type": "markdown",
   "id": "12ec73ea",
   "metadata": {},
   "source": [
    "- The first model made had the highest accuracy of all with ~97%\n",
    "- The first model also had the highest F-1 score of all models with ~96%\n",
    "- Regarding the performance on in-smaple data, the first model has the best scores because it is slightly over-fitted for the in-sample data"
   ]
  },
  {
   "cell_type": "markdown",
   "id": "0feb8352",
   "metadata": {},
   "source": [
    "### After making a few models, which one has the best performance (or closest metrics) on both train and validate?"
   ]
  },
  {
   "cell_type": "code",
   "execution_count": 138,
   "id": "ff2fc6c5",
   "metadata": {},
   "outputs": [
    {
     "name": "stdout",
     "output_type": "stream",
     "text": [
      "Model 0 on: - training set: 0.9698795180722891\n",
      "            - validate set: 0.8130841121495327\n",
      "--------------\n",
      "Model 1 on: - training set: 0.9016064257028112\n",
      "            - validate set: 0.822429906542056\n",
      "--------------\n",
      "Model 2 on: - training set: 0.8815261044176707\n",
      "            - validate set: 0.7897196261682243\n",
      "--------------\n",
      "Model 3 on: - training set: 0.8634538152610441\n",
      "            - validate set: 0.7897196261682243\n",
      "--------------\n",
      "Model 4 on: - training set: 0.8554216867469879\n",
      "            - validate set: 0.794392523364486\n",
      "--------------\n",
      "Model 5 on: - training set: 0.8433734939759037\n",
      "            - validate set: 0.780373831775701\n"
     ]
    }
   ],
   "source": [
    "print(f'Model 0 on: - training set:', rf.score(X_train, y_train))\n",
    "print('            - validate set:', rf.score(X_validate, y_validate))\n",
    "print('--------------')\n",
    "print(f'Model 1 on: - training set:', rf1.score(X_train, y_train))\n",
    "print('            - validate set:', rf1.score(X_validate, y_validate))\n",
    "print('--------------')\n",
    "print(f'Model 2 on: - training set:', rf2.score(X_train, y_train))\n",
    "print('            - validate set:', rf2.score(X_validate, y_validate))\n",
    "print('--------------')\n",
    "print(f'Model 3 on: - training set:', rf3.score(X_train, y_train))\n",
    "print('            - validate set:', rf3.score(X_validate, y_validate))\n",
    "print('--------------')\n",
    "print(f'Model 4 on: - training set:', rf4.score(X_train, y_train))\n",
    "print('            - validate set:', rf4.score(X_validate, y_validate))\n",
    "print('--------------')\n",
    "print(f'Model 5 on: - training set:', rf5.score(X_train, y_train))\n",
    "print('            - validate set:', rf5.score(X_validate, y_validate))"
   ]
  },
  {
   "cell_type": "code",
   "execution_count": 140,
   "id": "2f380146",
   "metadata": {},
   "outputs": [
    {
     "name": "stdout",
     "output_type": "stream",
     "text": [
      "Model 0 0.15679540592275643\n",
      "--------------\n",
      "Model 1 0.08852231355327855\n",
      "--------------\n",
      "Model 2 0.06844199226813796\n",
      "--------------\n",
      "Model 3 0.050369703111511455\n",
      "--------------\n",
      "Model 4 0.04233757459745524\n",
      "--------------\n",
      "Model 5 0.030289381826370976\n"
     ]
    }
   ],
   "source": [
    "print(f'Model 0', rf.score(X_train, y_train)-rf.score(X_validate, y_validate))\n",
    "print('--------------')\n",
    "print(f'Model 1', rf1.score(X_train, y_train)-rf.score(X_validate, y_validate))\n",
    "print('--------------')\n",
    "print(f'Model 2', rf2.score(X_train, y_train)-rf.score(X_validate, y_validate))\n",
    "print('--------------')\n",
    "print(f'Model 3', rf3.score(X_train, y_train)-rf.score(X_validate, y_validate))\n",
    "print('--------------')\n",
    "print(f'Model 4', rf4.score(X_train, y_train)-rf.score(X_validate, y_validate))\n",
    "print('--------------')\n",
    "print(f'Model 5', rf5.score(X_train, y_train)-rf.score(X_validate, y_validate))"
   ]
  },
  {
   "cell_type": "markdown",
   "id": "9142fa9e",
   "metadata": {},
   "source": [
    "Model 5 has the closest perfomance on both in-sample and out-of-sample datasets with a max_depth=5 and min_samples_leaf=11."
   ]
  },
  {
   "cell_type": "code",
   "execution_count": null,
   "id": "e8029537",
   "metadata": {},
   "outputs": [],
   "source": []
  }
 ],
 "metadata": {
  "kernelspec": {
   "display_name": "Python 3",
   "language": "python",
   "name": "python3"
  },
  "language_info": {
   "codemirror_mode": {
    "name": "ipython",
    "version": 3
   },
   "file_extension": ".py",
   "mimetype": "text/x-python",
   "name": "python",
   "nbconvert_exporter": "python",
   "pygments_lexer": "ipython3",
   "version": "3.8.8"
  }
 },
 "nbformat": 4,
 "nbformat_minor": 5
}
